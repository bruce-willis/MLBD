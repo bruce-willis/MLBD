{
 "cells": [
  {
   "cell_type": "markdown",
   "metadata": {},
   "source": [
    "# Spark SQL\n",
    "\n",
    "Before you begin, make sure that you've installed spark of version `2.3` or higher (see `README.md`)\n",
    "\n",
    "**Links**\n",
    "\n",
    "* https://spark.apache.org/docs/latest/sql-getting-started.html"
   ]
  },
  {
   "cell_type": "code",
   "execution_count": 1,
   "metadata": {
    "ExecuteTime": {
     "end_time": "2020-02-12T00:38:34.560581Z",
     "start_time": "2020-02-12T00:38:34.274519Z"
    }
   },
   "outputs": [
    {
     "name": "stdout",
     "output_type": "stream",
     "text": [
      "/workspace/spark_sql/notebooks\r\n",
      "-rwxr-xr-x 1 root root 1.2K Feb  3 20:03 README.md\r\n"
     ]
    }
   ],
   "source": [
    "! pwd && ls -lah | grep README"
   ]
  },
  {
   "cell_type": "markdown",
   "metadata": {},
   "source": [
    "## Запуск spark"
   ]
  },
  {
   "cell_type": "code",
   "execution_count": 2,
   "metadata": {
    "ExecuteTime": {
     "end_time": "2020-02-12T00:38:40.467741Z",
     "start_time": "2020-02-12T00:38:37.096692Z"
    }
   },
   "outputs": [],
   "source": [
    "%matplotlib inline\n",
    "%config InlineBackend.figure_format ='retina'\n",
    "\n",
    "import os\n",
    "import sys\n",
    "import glob\n",
    "import pickle\n",
    "import seaborn as sns\n",
    "import matplotlib.pyplot as plt\n",
    "\n",
    "import pyspark\n",
    "from pyspark.conf import SparkConf\n",
    "from pyspark.sql import SQLContext\n",
    "from pyspark.sql import SparkSession\n",
    "\n",
    "\n",
    "spark = SparkSession \\\n",
    "    .builder \\\n",
    "    .master('local[*]') \\\n",
    "    .appName(\"spark_sql_examples\") \\\n",
    "    .config(\"spark.executor.memory\", \"10g\") \\\n",
    "    .getOrCreate()\n",
    "\n",
    "sc = spark.sparkContext\n",
    "sqlContext = SQLContext(sc)"
   ]
  },
  {
   "cell_type": "code",
   "execution_count": 3,
   "metadata": {
    "ExecuteTime": {
     "end_time": "2020-02-12T00:38:41.219153Z",
     "start_time": "2020-02-12T00:38:40.469422Z"
    }
   },
   "outputs": [
    {
     "name": "stdout",
     "output_type": "stream",
     "text": [
      "Welcome to\r\n",
      "      ____              __\r\n",
      "     / __/__  ___ _____/ /__\r\n",
      "    _\\ \\/ _ \\/ _ `/ __/  '_/\r\n",
      "   /___/ .__/\\_,_/_/ /_/\\_\\   version 2.4.4\r\n",
      "      /_/\r\n",
      "                        \r\n",
      "Using Scala version 2.11.12, OpenJDK 64-Bit Server VM, 1.8.0_242\r\n",
      "Branch \r\n",
      "Compiled by user  on 2019-08-27T21:31:02Z\r\n",
      "Revision \r\n",
      "Url \r\n",
      "Type --help for more information.\r\n"
     ]
    }
   ],
   "source": [
    "! spark-submit --version"
   ]
  },
  {
   "cell_type": "code",
   "execution_count": 4,
   "metadata": {
    "ExecuteTime": {
     "end_time": "2020-02-12T00:38:42.642406Z",
     "start_time": "2020-02-12T00:38:42.639115Z"
    }
   },
   "outputs": [],
   "source": [
    "DATA_PATH = '/workspace/data/ml-25m'\n",
    "\n",
    "RATINGS_PATH = os.path.join(DATA_PATH, 'ratings.csv')\n",
    "MOVIES_PATH = os.path.join(DATA_PATH, 'movies.csv')\n",
    "TAGS_PATH = os.path.join(DATA_PATH, 'tags.csv')"
   ]
  },
  {
   "cell_type": "markdown",
   "metadata": {},
   "source": [
    "---\n",
    "## DataFrame creation\n",
    "\n",
    "DataFrame можно создать несколькими способами:\n",
    "\n",
    "* из файла\n",
    "* из существующего RDD\n",
    "* из другого DataFrame'a\n",
    "\n",
    "### From file\n",
    "\n",
    "В случае с созданием из csv файла, может понадобится указать схему"
   ]
  },
  {
   "cell_type": "code",
   "execution_count": 5,
   "metadata": {
    "ExecuteTime": {
     "end_time": "2020-02-12T00:38:44.546356Z",
     "start_time": "2020-02-12T00:38:43.547866Z"
    }
   },
   "outputs": [],
   "source": [
    "from pyspark.sql.types import *\n",
    "\n",
    "\n",
    "schema = StructType([\n",
    "    StructField('user_id', IntegerType()),\n",
    "    StructField('movie_id', IntegerType()),\n",
    "    StructField('rating', FloatType()),\n",
    "    StructField('timestamp', IntegerType())\n",
    "])\n",
    "\n",
    "ratings_df = sqlContext.read \\\n",
    "    .format('com.databricks.spark.csv') \\\n",
    "    .schema(schema) \\\n",
    "    .options(header='true', delimiter=',') \\\n",
    "    .load('file:///' + RATINGS_PATH)"
   ]
  },
  {
   "cell_type": "code",
   "execution_count": 6,
   "metadata": {
    "ExecuteTime": {
     "end_time": "2020-02-12T00:38:44.564537Z",
     "start_time": "2020-02-12T00:38:44.548067Z"
    }
   },
   "outputs": [
    {
     "name": "stdout",
     "output_type": "stream",
     "text": [
      "root\n",
      " |-- user_id: integer (nullable = true)\n",
      " |-- movie_id: integer (nullable = true)\n",
      " |-- rating: float (nullable = true)\n",
      " |-- timestamp: integer (nullable = true)\n",
      "\n"
     ]
    }
   ],
   "source": [
    "ratings_df.printSchema()"
   ]
  },
  {
   "cell_type": "code",
   "execution_count": 7,
   "metadata": {
    "ExecuteTime": {
     "end_time": "2020-02-12T00:38:45.606790Z",
     "start_time": "2020-02-12T00:38:44.566569Z"
    }
   },
   "outputs": [
    {
     "data": {
      "text/plain": [
       "[Row(user_id=1, movie_id=296, rating=5.0, timestamp=1147880044),\n",
       " Row(user_id=1, movie_id=306, rating=3.5, timestamp=1147868817),\n",
       " Row(user_id=1, movie_id=307, rating=5.0, timestamp=1147868828),\n",
       " Row(user_id=1, movie_id=665, rating=5.0, timestamp=1147878820),\n",
       " Row(user_id=1, movie_id=899, rating=3.5, timestamp=1147868510)]"
      ]
     },
     "execution_count": 7,
     "metadata": {},
     "output_type": "execute_result"
    }
   ],
   "source": [
    "ratings_df.take(5)"
   ]
  },
  {
   "cell_type": "markdown",
   "metadata": {},
   "source": [
    "### From RDD\n",
    "\n",
    "Для того чтобы построить DataFrame из RDD нужно у RDD вызвать метод `toDF`.\n",
    "\n",
    "*Remark:* RDD можно получить из DataFrame с помощью аттрибута `rdd`."
   ]
  },
  {
   "cell_type": "code",
   "execution_count": 8,
   "metadata": {
    "ExecuteTime": {
     "end_time": "2020-02-12T00:38:45.642157Z",
     "start_time": "2020-02-12T00:38:45.608464Z"
    }
   },
   "outputs": [],
   "source": [
    "ratings = sc.textFile('file:///' + RATINGS_PATH)"
   ]
  },
  {
   "cell_type": "code",
   "execution_count": 9,
   "metadata": {
    "ExecuteTime": {
     "end_time": "2020-02-12T00:38:46.082054Z",
     "start_time": "2020-02-12T00:38:45.662712Z"
    }
   },
   "outputs": [
    {
     "data": {
      "text/plain": [
       "['userId,movieId,rating,timestamp',\n",
       " '1,296,5.0,1147880044',\n",
       " '1,306,3.5,1147868817',\n",
       " '1,307,5.0,1147868828',\n",
       " '1,665,5.0,1147878820']"
      ]
     },
     "execution_count": 9,
     "metadata": {},
     "output_type": "execute_result"
    }
   ],
   "source": [
    "ratings.take(5)"
   ]
  },
  {
   "cell_type": "code",
   "execution_count": 10,
   "metadata": {
    "ExecuteTime": {
     "end_time": "2020-02-12T00:38:48.415098Z",
     "start_time": "2020-02-12T00:38:48.347079Z"
    }
   },
   "outputs": [],
   "source": [
    "from pyspark.sql import Row\n",
    "\n",
    "\n",
    "ratings_df = ratings \\\n",
    "    .map(lambda s: s.split(',')) \\\n",
    "    .filter(lambda arr: arr[0].isdigit()) \\\n",
    "    .map(lambda arr: Row(user_id=int(arr[0]), \n",
    "                         movie_id=int(arr[1]), \n",
    "                         rating=float(arr[2]), \n",
    "                         timestamp=int(arr[3])))\\\n",
    "    .toDF()"
   ]
  },
  {
   "cell_type": "code",
   "execution_count": 11,
   "metadata": {
    "ExecuteTime": {
     "end_time": "2020-02-12T00:38:48.562327Z",
     "start_time": "2020-02-12T00:38:48.558932Z"
    }
   },
   "outputs": [
    {
     "name": "stdout",
     "output_type": "stream",
     "text": [
      "root\n",
      " |-- movie_id: long (nullable = true)\n",
      " |-- rating: double (nullable = true)\n",
      " |-- timestamp: long (nullable = true)\n",
      " |-- user_id: long (nullable = true)\n",
      "\n"
     ]
    }
   ],
   "source": [
    "ratings_df.printSchema()"
   ]
  },
  {
   "cell_type": "markdown",
   "metadata": {},
   "source": [
    "---\n",
    "## DataFrame API"
   ]
  },
  {
   "cell_type": "code",
   "execution_count": 12,
   "metadata": {
    "ExecuteTime": {
     "end_time": "2020-02-12T00:38:49.595760Z",
     "start_time": "2020-02-12T00:38:48.974527Z"
    }
   },
   "outputs": [],
   "source": [
    "import pyspark.sql.functions as F\n",
    "\n",
    "\n",
    "movies_df = sqlContext.read.format(\"com.databricks.spark.csv\") \\\n",
    "    .option(\"delimiter\", \",\") \\\n",
    "    .option(\"header\", \"true\") \\\n",
    "    .option(\"inferSchema\", \"true\") \\\n",
    "    .load('file:///' + MOVIES_PATH)"
   ]
  },
  {
   "cell_type": "code",
   "execution_count": 13,
   "metadata": {
    "ExecuteTime": {
     "end_time": "2020-02-12T00:38:49.601173Z",
     "start_time": "2020-02-12T00:38:49.597651Z"
    }
   },
   "outputs": [
    {
     "name": "stdout",
     "output_type": "stream",
     "text": [
      "root\n",
      " |-- movieId: integer (nullable = true)\n",
      " |-- title: string (nullable = true)\n",
      " |-- genres: string (nullable = true)\n",
      "\n"
     ]
    }
   ],
   "source": [
    "movies_df.printSchema()"
   ]
  },
  {
   "cell_type": "markdown",
   "metadata": {},
   "source": [
    "### Фильмы с наибольшим средним рейтингом\n",
    "\n",
    "Найти 10 фильмов с наибольшим средним рейтингом. Вывести их названия и средний рейтинг.\n",
    "\n",
    "Сравните код ниже с кодом, использующим RDD API (см. `apache_spark/notebooks/spark_examples.ipynb`):\n",
    "\n",
    "```\n",
    "ratings \\\n",
    "    .map(lambda r: (r.movie_id, (r.rating, 1))) \\\n",
    "    .reduceByKey(lambda a, b: (a[0] + b[0], a[1] + b[1])) \\\n",
    "    .mapValues(lambda ratings: ratings[0] / ratings[1]) \\\n",
    "    .join(movies) \\\n",
    "    .sortBy(lambda key_value: key_value[1][0], ascending=False) \\\n",
    "    .take(10)\n",
    "```"
   ]
  },
  {
   "cell_type": "code",
   "execution_count": 14,
   "metadata": {},
   "outputs": [
    {
     "data": {
      "text/plain": [
       "[Row(movie_id=122701, mean_rating=5.0, ratings_count=1, movieId=122701, title='Love, Cheat & Steal (1993)', genres='Thriller'),\n",
       " Row(movie_id=174771, mean_rating=5.0, ratings_count=1, movieId=174771, title='Kino-pravda no. 14 (1923)', genres='(no genres listed)'),\n",
       " Row(movie_id=180585, mean_rating=5.0, ratings_count=1, movieId=180585, title='The Man Who Came to Dinner (2000)', genres='(no genres listed)'),\n",
       " Row(movie_id=128137, mean_rating=5.0, ratings_count=1, movieId=128137, title=\"You're Jinxed, Friend, You've Met Sacramento (1972)\", genres='(no genres listed)'),\n",
       " Row(movie_id=184643, mean_rating=5.0, ratings_count=1, movieId=184643, title='Relentless (2018)', genres='Thriller'),\n",
       " Row(movie_id=143567, mean_rating=5.0, ratings_count=1, movieId=143567, title='Mining for Ruby (2014)', genres='(no genres listed)'),\n",
       " Row(movie_id=182461, mean_rating=5.0, ratings_count=1, movieId=182461, title='No Ordinary Hero: The SuperDeafy Movie', genres='(no genres listed)'),\n",
       " Row(movie_id=193795, mean_rating=5.0, ratings_count=1, movieId=193795, title='Forgiving the Franklins (2006)', genres='Comedy|Drama|Romance'),\n",
       " Row(movie_id=122869, mean_rating=5.0, ratings_count=1, movieId=122869, title='The Hound of the Baskervilles (1972)', genres='Crime|Mystery'),\n",
       " Row(movie_id=178251, mean_rating=5.0, ratings_count=1, movieId=178251, title=\"Robert Williams Mr. Bitchin' (2013)\", genres='(no genres listed)')]"
      ]
     },
     "execution_count": 14,
     "metadata": {},
     "output_type": "execute_result"
    }
   ],
   "source": [
    "ratings_df \\\n",
    "    .groupby('movie_id') \\\n",
    "    .agg(F.mean('rating').alias('mean_rating'), \n",
    "         F.count('rating').alias('ratings_count')) \\\n",
    "    .join(movies_df, ratings_df['movie_id'] == movies_df['movieId'], how='inner') \\\n",
    "    .sort(F.col('mean_rating').desc()) \\\n",
    "    .take(10)"
   ]
  },
  {
   "cell_type": "markdown",
   "metadata": {},
   "source": [
    "### Фильмы с наибольшим числом оценок\n",
    "\n",
    "Найти 10 фильмов с наибольшим числом оценок. Вывести их названия и число оценок"
   ]
  },
  {
   "cell_type": "code",
   "execution_count": 15,
   "metadata": {},
   "outputs": [],
   "source": [
    "movies_frequency_pdf = ratings_df \\\n",
    "    .groupby('movie_id') \\\n",
    "    .count() \\\n",
    "    .join(movies_df, ratings_df['movie_id'] == movies_df['movieId']) \\\n",
    "    .sort(F.col('count').desc()) \\\n",
    "    .toPandas()"
   ]
  },
  {
   "cell_type": "code",
   "execution_count": 16,
   "metadata": {},
   "outputs": [
    {
     "data": {
      "text/html": [
       "<div>\n",
       "<style scoped>\n",
       "    .dataframe tbody tr th:only-of-type {\n",
       "        vertical-align: middle;\n",
       "    }\n",
       "\n",
       "    .dataframe tbody tr th {\n",
       "        vertical-align: top;\n",
       "    }\n",
       "\n",
       "    .dataframe thead th {\n",
       "        text-align: right;\n",
       "    }\n",
       "</style>\n",
       "<table border=\"1\" class=\"dataframe\">\n",
       "  <thead>\n",
       "    <tr style=\"text-align: right;\">\n",
       "      <th></th>\n",
       "      <th>movie_id</th>\n",
       "      <th>count</th>\n",
       "      <th>movieId</th>\n",
       "      <th>title</th>\n",
       "      <th>genres</th>\n",
       "    </tr>\n",
       "  </thead>\n",
       "  <tbody>\n",
       "    <tr>\n",
       "      <th>0</th>\n",
       "      <td>356</td>\n",
       "      <td>81491</td>\n",
       "      <td>356</td>\n",
       "      <td>Forrest Gump (1994)</td>\n",
       "      <td>Comedy|Drama|Romance|War</td>\n",
       "    </tr>\n",
       "    <tr>\n",
       "      <th>1</th>\n",
       "      <td>318</td>\n",
       "      <td>81482</td>\n",
       "      <td>318</td>\n",
       "      <td>Shawshank Redemption, The (1994)</td>\n",
       "      <td>Crime|Drama</td>\n",
       "    </tr>\n",
       "    <tr>\n",
       "      <th>2</th>\n",
       "      <td>296</td>\n",
       "      <td>79672</td>\n",
       "      <td>296</td>\n",
       "      <td>Pulp Fiction (1994)</td>\n",
       "      <td>Comedy|Crime|Drama|Thriller</td>\n",
       "    </tr>\n",
       "    <tr>\n",
       "      <th>3</th>\n",
       "      <td>593</td>\n",
       "      <td>74127</td>\n",
       "      <td>593</td>\n",
       "      <td>Silence of the Lambs, The (1991)</td>\n",
       "      <td>Crime|Horror|Thriller</td>\n",
       "    </tr>\n",
       "    <tr>\n",
       "      <th>4</th>\n",
       "      <td>2571</td>\n",
       "      <td>72674</td>\n",
       "      <td>2571</td>\n",
       "      <td>Matrix, The (1999)</td>\n",
       "      <td>Action|Sci-Fi|Thriller</td>\n",
       "    </tr>\n",
       "    <tr>\n",
       "      <th>5</th>\n",
       "      <td>260</td>\n",
       "      <td>68717</td>\n",
       "      <td>260</td>\n",
       "      <td>Star Wars: Episode IV - A New Hope (1977)</td>\n",
       "      <td>Action|Adventure|Sci-Fi</td>\n",
       "    </tr>\n",
       "    <tr>\n",
       "      <th>6</th>\n",
       "      <td>480</td>\n",
       "      <td>64144</td>\n",
       "      <td>480</td>\n",
       "      <td>Jurassic Park (1993)</td>\n",
       "      <td>Action|Adventure|Sci-Fi|Thriller</td>\n",
       "    </tr>\n",
       "    <tr>\n",
       "      <th>7</th>\n",
       "      <td>527</td>\n",
       "      <td>60411</td>\n",
       "      <td>527</td>\n",
       "      <td>Schindler's List (1993)</td>\n",
       "      <td>Drama|War</td>\n",
       "    </tr>\n",
       "    <tr>\n",
       "      <th>8</th>\n",
       "      <td>110</td>\n",
       "      <td>59184</td>\n",
       "      <td>110</td>\n",
       "      <td>Braveheart (1995)</td>\n",
       "      <td>Action|Drama|War</td>\n",
       "    </tr>\n",
       "    <tr>\n",
       "      <th>9</th>\n",
       "      <td>2959</td>\n",
       "      <td>58773</td>\n",
       "      <td>2959</td>\n",
       "      <td>Fight Club (1999)</td>\n",
       "      <td>Action|Crime|Drama|Thriller</td>\n",
       "    </tr>\n",
       "  </tbody>\n",
       "</table>\n",
       "</div>"
      ],
      "text/plain": [
       "   movie_id  count  movieId                                      title  \\\n",
       "0       356  81491      356                        Forrest Gump (1994)   \n",
       "1       318  81482      318           Shawshank Redemption, The (1994)   \n",
       "2       296  79672      296                        Pulp Fiction (1994)   \n",
       "3       593  74127      593           Silence of the Lambs, The (1991)   \n",
       "4      2571  72674     2571                         Matrix, The (1999)   \n",
       "5       260  68717      260  Star Wars: Episode IV - A New Hope (1977)   \n",
       "6       480  64144      480                       Jurassic Park (1993)   \n",
       "7       527  60411      527                    Schindler's List (1993)   \n",
       "8       110  59184      110                          Braveheart (1995)   \n",
       "9      2959  58773     2959                          Fight Club (1999)   \n",
       "\n",
       "                             genres  \n",
       "0          Comedy|Drama|Romance|War  \n",
       "1                       Crime|Drama  \n",
       "2       Comedy|Crime|Drama|Thriller  \n",
       "3             Crime|Horror|Thriller  \n",
       "4            Action|Sci-Fi|Thriller  \n",
       "5           Action|Adventure|Sci-Fi  \n",
       "6  Action|Adventure|Sci-Fi|Thriller  \n",
       "7                         Drama|War  \n",
       "8                  Action|Drama|War  \n",
       "9       Action|Crime|Drama|Thriller  "
      ]
     },
     "execution_count": 16,
     "metadata": {},
     "output_type": "execute_result"
    }
   ],
   "source": [
    "movies_frequency_pdf.head(10)"
   ]
  },
  {
   "cell_type": "markdown",
   "metadata": {},
   "source": [
    "---\n",
    "## SQL"
   ]
  },
  {
   "cell_type": "code",
   "execution_count": 17,
   "metadata": {},
   "outputs": [],
   "source": [
    "ratings_df.createTempView('ratings')\n",
    "movies_df.createTempView('movies')"
   ]
  },
  {
   "cell_type": "code",
   "execution_count": 18,
   "metadata": {},
   "outputs": [
    {
     "name": "stdout",
     "output_type": "stream",
     "text": [
      "+--------+--------+--------------------+\n",
      "|movie_id|count(1)|               title|\n",
      "+--------+--------+--------------------+\n",
      "|     356|   81491| Forrest Gump (1994)|\n",
      "|     318|   81482|Shawshank Redempt...|\n",
      "|     296|   79672| Pulp Fiction (1994)|\n",
      "|     364|   42745|Lion King, The (1...|\n",
      "|     380|   41673|    True Lies (1994)|\n",
      "|     377|   41302|        Speed (1994)|\n",
      "|     344|   37453|Ace Ventura: Pet ...|\n",
      "|     367|   34621|    Mask, The (1994)|\n",
      "|     293|   33680|Léon: The Profess...|\n",
      "|     231|   31843|Dumb & Dumber (Du...|\n",
      "|     316|   30910|     Stargate (1994)|\n",
      "|     349|   27766|Clear and Present...|\n",
      "|     253|   27577|Interview with th...|\n",
      "|     357|   26709|Four Weddings and...|\n",
      "|     329|   24615|Star Trek: Genera...|\n",
      "|     223|   24050|       Clerks (1994)|\n",
      "|     288|   23259|Natural Born Kill...|\n",
      "|     300|   18997|    Quiz Show (1994)|\n",
      "|     368|   16475|     Maverick (1994)|\n",
      "|     353|   16219|    Crow, The (1994)|\n",
      "+--------+--------+--------------------+\n",
      "only showing top 20 rows\n",
      "\n"
     ]
    }
   ],
   "source": [
    "query = \"\"\"\n",
    "    SELECT movie_id, COUNT(*), first(title) as title\n",
    "    FROM ratings INNER JOIN movies ON ratings.movie_id == movies.movieId\n",
    "    WHERE movies.title LIKE '%(1994)%'\n",
    "    GROUP BY movie_id\n",
    "    ORDER BY COUNT(*) DESC\n",
    "\"\"\"\n",
    "\n",
    "movies_frequency = spark.sql(query)\n",
    "movies_frequency.show()"
   ]
  },
  {
   "cell_type": "code",
   "execution_count": 19,
   "metadata": {
    "scrolled": false
   },
   "outputs": [
    {
     "name": "stdout",
     "output_type": "stream",
     "text": [
      "== Parsed Logical Plan ==\n",
      "'Sort ['COUNT(1) DESC NULLS LAST], true\n",
      "+- 'Aggregate ['movie_id], ['movie_id, unresolvedalias('COUNT(1), None), first('title, false) AS title#131]\n",
      "   +- 'Filter 'movies.title LIKE %(1994)%\n",
      "      +- 'Join Inner, ('ratings.movie_id = 'movies.movieId)\n",
      "         :- 'UnresolvedRelation `ratings`\n",
      "         +- 'UnresolvedRelation `movies`\n",
      "\n",
      "== Analyzed Logical Plan ==\n",
      "movie_id: bigint, count(1): bigint, title: string\n",
      "Project [movie_id#12L, count(1)#134L, title#131]\n",
      "+- Sort [count(1)#134L DESC NULLS LAST], true\n",
      "   +- Aggregate [movie_id#12L], [movie_id#12L, count(1) AS count(1)#134L, first(title#31, false) AS title#131]\n",
      "      +- Filter title#31 LIKE %(1994)%\n",
      "         +- Join Inner, (movie_id#12L = cast(movieId#30 as bigint))\n",
      "            :- SubqueryAlias `ratings`\n",
      "            :  +- LogicalRDD [movie_id#12L, rating#13, timestamp#14L, user_id#15L], false\n",
      "            +- SubqueryAlias `movies`\n",
      "               +- Relation[movieId#30,title#31,genres#32] csv\n",
      "\n",
      "== Optimized Logical Plan ==\n",
      "Sort [count(1)#134L DESC NULLS LAST], true\n",
      "+- Aggregate [movie_id#12L], [movie_id#12L, count(1) AS count(1)#134L, first(title#31, false) AS title#131]\n",
      "   +- Project [movie_id#12L, title#31]\n",
      "      +- Join Inner, (movie_id#12L = cast(movieId#30 as bigint))\n",
      "         :- Project [movie_id#12L]\n",
      "         :  +- Filter isnotnull(movie_id#12L)\n",
      "         :     +- LogicalRDD [movie_id#12L, rating#13, timestamp#14L, user_id#15L], false\n",
      "         +- Project [movieId#30, title#31]\n",
      "            +- Filter ((isnotnull(title#31) && Contains(title#31, (1994))) && isnotnull(movieId#30))\n",
      "               +- Relation[movieId#30,title#31,genres#32] csv\n",
      "\n",
      "== Physical Plan ==\n",
      "*(4) Sort [count(1)#134L DESC NULLS LAST], true, 0\n",
      "+- Exchange rangepartitioning(count(1)#134L DESC NULLS LAST, 200)\n",
      "   +- SortAggregate(key=[movie_id#12L], functions=[count(1), first(title#31, false)], output=[movie_id#12L, count(1)#134L, title#131])\n",
      "      +- *(3) Sort [movie_id#12L ASC NULLS FIRST], false, 0\n",
      "         +- Exchange hashpartitioning(movie_id#12L, 200)\n",
      "            +- SortAggregate(key=[movie_id#12L], functions=[partial_count(1), partial_first(title#31, false)], output=[movie_id#12L, count#142L, first#143, valueSet#144])\n",
      "               +- *(2) Sort [movie_id#12L ASC NULLS FIRST], false, 0\n",
      "                  +- *(2) Project [movie_id#12L, title#31]\n",
      "                     +- *(2) BroadcastHashJoin [movie_id#12L], [cast(movieId#30 as bigint)], Inner, BuildRight\n",
      "                        :- *(2) Project [movie_id#12L]\n",
      "                        :  +- *(2) Filter isnotnull(movie_id#12L)\n",
      "                        :     +- Scan ExistingRDD[movie_id#12L,rating#13,timestamp#14L,user_id#15L]\n",
      "                        +- BroadcastExchange HashedRelationBroadcastMode(List(cast(input[0, int, true] as bigint)))\n",
      "                           +- *(1) Project [movieId#30, title#31]\n",
      "                              +- *(1) Filter ((isnotnull(title#31) && Contains(title#31, (1994))) && isnotnull(movieId#30))\n",
      "                                 +- *(1) FileScan csv [movieId#30,title#31] Batched: false, Format: CSV, Location: InMemoryFileIndex[file:/workspace/data/ml-25m/movies.csv], PartitionFilters: [], PushedFilters: [IsNotNull(title), StringContains(title,(1994)), IsNotNull(movieId)], ReadSchema: struct<movieId:int,title:string>\n"
     ]
    }
   ],
   "source": [
    "spark.sql(query).explain(True)"
   ]
  },
  {
   "cell_type": "markdown",
   "metadata": {},
   "source": [
    "---\n",
    "## User Defined Function (UDF)\n",
    "\n",
    "\n",
    "### Количество вышедших фильмов по годам\n",
    "\n",
    "Мы знаем, что название фильма содержит информацию о дате выхода"
   ]
  },
  {
   "cell_type": "code",
   "execution_count": 20,
   "metadata": {},
   "outputs": [],
   "source": [
    "import re\n",
    "\n",
    "\n",
    "def get_release_year(title):\n",
    "    result = re.match(r'.*(\\(\\d+\\))', title)\n",
    "    return int(result.group(1)[1:-1]) if result is not None else None\n",
    "\n",
    "\n",
    "get_release_year_udf = F.udf(get_release_year, IntegerType())"
   ]
  },
  {
   "cell_type": "code",
   "execution_count": 21,
   "metadata": {},
   "outputs": [],
   "source": [
    "relase_count_by_year = movies_df \\\n",
    "    .withColumn('year', get_release_year_udf('title')) \\\n",
    "    .filter((F.col('year').isNotNull()) & (F.col('year') < 2025)) \\\n",
    "    .groupby('year') \\\n",
    "    .count() \\\n",
    "    .sort(F.col('year')) \\\n",
    "    .toPandas()"
   ]
  },
  {
   "cell_type": "code",
   "execution_count": 22,
   "metadata": {},
   "outputs": [
    {
     "data": {
      "text/html": [
       "<div>\n",
       "<style scoped>\n",
       "    .dataframe tbody tr th:only-of-type {\n",
       "        vertical-align: middle;\n",
       "    }\n",
       "\n",
       "    .dataframe tbody tr th {\n",
       "        vertical-align: top;\n",
       "    }\n",
       "\n",
       "    .dataframe thead th {\n",
       "        text-align: right;\n",
       "    }\n",
       "</style>\n",
       "<table border=\"1\" class=\"dataframe\">\n",
       "  <thead>\n",
       "    <tr style=\"text-align: right;\">\n",
       "      <th></th>\n",
       "      <th>year</th>\n",
       "      <th>count</th>\n",
       "    </tr>\n",
       "  </thead>\n",
       "  <tbody>\n",
       "    <tr>\n",
       "      <th>0</th>\n",
       "      <td>1874</td>\n",
       "      <td>1</td>\n",
       "    </tr>\n",
       "    <tr>\n",
       "      <th>1</th>\n",
       "      <td>1878</td>\n",
       "      <td>1</td>\n",
       "    </tr>\n",
       "    <tr>\n",
       "      <th>2</th>\n",
       "      <td>1880</td>\n",
       "      <td>1</td>\n",
       "    </tr>\n",
       "    <tr>\n",
       "      <th>3</th>\n",
       "      <td>1883</td>\n",
       "      <td>1</td>\n",
       "    </tr>\n",
       "    <tr>\n",
       "      <th>4</th>\n",
       "      <td>1887</td>\n",
       "      <td>1</td>\n",
       "    </tr>\n",
       "  </tbody>\n",
       "</table>\n",
       "</div>"
      ],
      "text/plain": [
       "   year  count\n",
       "0  1874      1\n",
       "1  1878      1\n",
       "2  1880      1\n",
       "3  1883      1\n",
       "4  1887      1"
      ]
     },
     "execution_count": 22,
     "metadata": {},
     "output_type": "execute_result"
    }
   ],
   "source": [
    "relase_count_by_year.head()"
   ]
  },
  {
   "cell_type": "code",
   "execution_count": 23,
   "metadata": {},
   "outputs": [
    {
     "data": {
      "image/png": "[encoded data removed]",
      "text/plain": [
       "<Figure size 864x360 with 1 Axes>"
      ]
     },
     "metadata": {
      "image/png": {
       "height": 317,
       "width": 718
      },
      "needs_background": "light"
     },
     "output_type": "display_data"
    }
   ],
   "source": [
    "plt.figure(figsize=(12, 5))\n",
    "relase_count_by_year.set_index('year')['count'].plot()\n",
    "plt.show()"
   ]
  },
  {
   "cell_type": "markdown",
   "metadata": {},
   "source": [
    "---\n",
    "## Window Functions\n",
    "\n",
    "Хотим понять, сколько времени проходит между последовательными оценками для пользователей, более формально:\n",
    "\n",
    "Для пользователя $u$ есть последовательность $(m_1, r_1, t_1), \\ldots, (m_n, r_n, t_n)$, где $t_i \\leq t_{i+1}$. Рассмотрим последовательность $\\Delta_i = t_{i+1} - t_i$, для $i=1,\\ldots,n-1$.\n",
    "\n",
    "Хотим построить распределение величины $\\Delta_i$ используя информацию обо всех пользователях."
   ]
  },
  {
   "cell_type": "code",
   "execution_count": 24,
   "metadata": {
    "ExecuteTime": {
     "end_time": "2020-02-12T00:46:37.603871Z",
     "start_time": "2020-02-12T00:46:37.310006Z"
    }
   },
   "outputs": [
    {
     "data": {
      "text/plain": [
       "[Row(movie_id=2161, rating=3.5, timestamp=1280513623, user_id=26, next_timestamp=1280513649),\n",
       " Row(movie_id=455, rating=3.0, timestamp=1280513649, user_id=26, next_timestamp=1280513679),\n",
       " Row(movie_id=1037, rating=2.5, timestamp=1280513679, user_id=26, next_timestamp=1280513702),\n",
       " Row(movie_id=1586, rating=3.0, timestamp=1280513702, user_id=26, next_timestamp=1280513710),\n",
       " Row(movie_id=54286, rating=4.0, timestamp=1280513710, user_id=26, next_timestamp=1280513785),\n",
       " Row(movie_id=4023, rating=3.0, timestamp=1280513785, user_id=26, next_timestamp=1280513802),\n",
       " Row(movie_id=54503, rating=2.0, timestamp=1280513802, user_id=26, next_timestamp=1280513817),\n",
       " Row(movie_id=3173, rating=3.5, timestamp=1280513817, user_id=26, next_timestamp=1280513893),\n",
       " Row(movie_id=53322, rating=4.0, timestamp=1280513893, user_id=26, next_timestamp=1280513897),\n",
       " Row(movie_id=2764, rating=4.5, timestamp=1280513897, user_id=26, next_timestamp=1280513931)]"
      ]
     },
     "execution_count": 24,
     "metadata": {},
     "output_type": "execute_result"
    }
   ],
   "source": [
    "from pyspark.sql.window import Window\n",
    "\n",
    "\n",
    "user_window = Window.orderBy('timestamp').partitionBy('user_id')\n",
    "\n",
    "ratings_df \\\n",
    "    .withColumn('next_timestamp', F.lead('timestamp').over(user_window)) \\\n",
    "    .filter(F.col('next_timestamp').isNotNull()) \\\n",
    "    .take(10)"
   ]
  },
  {
   "cell_type": "code",
   "execution_count": 25,
   "metadata": {},
   "outputs": [
    {
     "data": {
      "text/plain": [
       "<matplotlib.axes._subplots.AxesSubplot at 0x7f0018ecdef0>"
      ]
     },
     "execution_count": 25,
     "metadata": {},
     "output_type": "execute_result"
    },
    {
     "data": {
      "image/png": "[encoded data removed]",
      "text/plain": [
       "<Figure size 432x288 with 1 Axes>"
      ]
     },
     "metadata": {
      "image/png": {
       "height": 250,
       "width": 389
      },
      "needs_background": "light"
     },
     "output_type": "display_data"
    }
   ],
   "source": [
    "DAY = 24 * 60 * 60\n",
    "\n",
    "ratings_df \\\n",
    "    .withColumn('next_timestamp', F.lead('timestamp').over(user_window)) \\\n",
    "    .filter(F.col('next_timestamp').isNotNull()) \\\n",
    "    .withColumn('delta', (F.col('next_timestamp') - F.col('timestamp')) / F.lit(DAY)) \\\n",
    "    .select('delta') \\\n",
    "    .filter(F.col('delta') <= 365) \\\n",
    "    .sample(False, 0.1) \\\n",
    "    .toPandas().plot.hist(bins=100, logy=True)"
   ]
  },
  {
   "cell_type": "markdown",
   "metadata": {},
   "source": [
    "---\n",
    "# Упражнения. Recommender System\n",
    "\n",
    "Пусть $U$ - множество пользователей, $I$ - множество фильмов, и $R = (r_{ui})$ - матрица рейтингов. \n",
    "\n",
    "Через $R_u$ будем обозначать строку матрицы $R$, соотвествующую пользователю $u$.\n",
    "\n",
    "## Most similar items\n",
    "\n",
    "Для каждого фильма $i$ определим множество $U(i) = \\{ u \\in U \\mid r_{ui} \\neq 0 \\}$ - множество пользователей, поставивших фильму $i$ оценку.\n",
    "\n",
    "Тогда мы можем определить множество $I(i) = \\left\\{ i' \\in I ~\\Big|~ sim(i, i') = \\frac{|U(i) ~\\cap~ U(i')|}{|U(i) ~\\cup~ U(i')|} > \\delta \\right\\}$ - множество похожих фильмов.\n",
    "\n",
    "Можно отсортировать элементы множества $I(i)$ по неубыванию $sim(i, i')$.\n",
    "\n",
    "Реализуйте функцию, которая на вход получает `movie_id` и возвращает топ `N` фильмов отранжированных по $sim$."
   ]
  },
  {
   "cell_type": "markdown",
   "metadata": {},
   "source": [
    "выберем произвольных 10к пользователей"
   ]
  },
  {
   "cell_type": "code",
   "execution_count": 26,
   "metadata": {
    "ExecuteTime": {
     "end_time": "2020-02-12T00:38:58.237458Z",
     "start_time": "2020-02-12T00:38:58.218945Z"
    }
   },
   "outputs": [],
   "source": [
    "n_users = 10000\n",
    "selected_users = ratings_df \\\n",
    "    .select('user_id') \\\n",
    "    .distinct() \\\n",
    "    .sample(False, 0.01) \\\n",
    "    .limit(n_users)\n",
    "# from: https://stackoverflow.com/a/32837900"
   ]
  },
  {
   "cell_type": "code",
   "execution_count": 27,
   "metadata": {
    "ExecuteTime": {
     "end_time": "2020-02-12T00:38:58.494190Z",
     "start_time": "2020-02-12T00:38:58.474870Z"
    }
   },
   "outputs": [],
   "source": [
    "ratings_df = ratings_df \\\n",
    "    .join(selected_users, 'user_id')"
   ]
  },
  {
   "cell_type": "code",
   "execution_count": 28,
   "metadata": {
    "ExecuteTime": {
     "end_time": "2020-02-12T00:40:49.028797Z",
     "start_time": "2020-02-12T00:39:02.311718Z"
    }
   },
   "outputs": [],
   "source": [
    "ratings_df = ratings_df.persist()"
   ]
  },
  {
   "cell_type": "code",
   "execution_count": 29,
   "metadata": {
    "ExecuteTime": {
     "end_time": "2020-02-12T00:40:49.035419Z",
     "start_time": "2020-02-12T00:40:49.030594Z"
    }
   },
   "outputs": [],
   "source": [
    "movies_df = movies_df.withColumnRenamed(\"movieId\", \"movie_id\")"
   ]
  },
  {
   "cell_type": "code",
   "execution_count": 30,
   "metadata": {},
   "outputs": [],
   "source": [
    "def get_similar_films(ratings_df, movie_ids, N=10, exclude_self=True):\n",
    "    movie_reviewers = ratings_df \\\n",
    "            .filter(F.col('movie_id').isin(movie_ids)) \\\n",
    "            .select('user_id', 'movie_id') \\\n",
    "            .withColumnRenamed('user_id', 'selected_user_id') \\\n",
    "            .withColumnRenamed('movie_id', 'selected_movie_id')\n",
    "\n",
    "    movie_reviewers_count = movie_reviewers \\\n",
    "        .groupby('selected_movie_id') \\\n",
    "        .count() \\\n",
    "        .withColumnRenamed('count', 'selected_viewers_number')\n",
    "\n",
    "    intersections = ratings_df \\\n",
    "            .join(movie_reviewers, (ratings_df['user_id'] == movie_reviewers['selected_user_id'])) \\\n",
    "            .groupby('movie_id', 'selected_movie_id') \\\n",
    "            .count() \\\n",
    "            .withColumnRenamed('count', 'intersection')\n",
    "\n",
    "    movie_count = ratings_df \\\n",
    "            .groupby('movie_id') \\\n",
    "            .count() \\\n",
    "            .withColumnRenamed('count', 'viewers_number')\n",
    "    \n",
    "    result = movie_count \\\n",
    "      .join(intersections, 'movie_id') \\\n",
    "      .join(movie_reviewers_count, 'selected_movie_id')\n",
    "\n",
    "    result = result \\\n",
    "                .withColumn('sim', result['intersection'] / (result['selected_viewers_number'] + result['viewers_number'] - result['intersection'])) \\\n",
    "                .sort(F.col('selected_movie_id').asc(), F.col('sim').desc()) \\\n",
    "                .select('selected_movie_id', 'movie_id', 'sim')\n",
    "    \n",
    "    if exclude_self:\n",
    "        result = result.filter(F.col('movie_id') != F.col('selected_movie_id'))\n",
    "    \n",
    "    return result"
   ]
  },
  {
   "cell_type": "code",
   "execution_count": 31,
   "metadata": {},
   "outputs": [
    {
     "data": {
      "text/html": [
       "<div>\n",
       "<style scoped>\n",
       "    .dataframe tbody tr th:only-of-type {\n",
       "        vertical-align: middle;\n",
       "    }\n",
       "\n",
       "    .dataframe tbody tr th {\n",
       "        vertical-align: top;\n",
       "    }\n",
       "\n",
       "    .dataframe thead th {\n",
       "        text-align: right;\n",
       "    }\n",
       "</style>\n",
       "<table border=\"1\" class=\"dataframe\">\n",
       "  <thead>\n",
       "    <tr style=\"text-align: right;\">\n",
       "      <th></th>\n",
       "      <th>movie_id</th>\n",
       "      <th>selected_movie_id</th>\n",
       "      <th>sim</th>\n",
       "      <th>title</th>\n",
       "      <th>genres</th>\n",
       "    </tr>\n",
       "  </thead>\n",
       "  <tbody>\n",
       "    <tr>\n",
       "      <th>0</th>\n",
       "      <td>356</td>\n",
       "      <td>356</td>\n",
       "      <td>1.000000</td>\n",
       "      <td>Forrest Gump (1994)</td>\n",
       "      <td>Comedy|Drama|Romance|War</td>\n",
       "    </tr>\n",
       "    <tr>\n",
       "      <th>1</th>\n",
       "      <td>480</td>\n",
       "      <td>356</td>\n",
       "      <td>0.544586</td>\n",
       "      <td>Jurassic Park (1993)</td>\n",
       "      <td>Action|Adventure|Sci-Fi|Thriller</td>\n",
       "    </tr>\n",
       "    <tr>\n",
       "      <th>2</th>\n",
       "      <td>296</td>\n",
       "      <td>356</td>\n",
       "      <td>0.525214</td>\n",
       "      <td>Pulp Fiction (1994)</td>\n",
       "      <td>Comedy|Crime|Drama|Thriller</td>\n",
       "    </tr>\n",
       "    <tr>\n",
       "      <th>3</th>\n",
       "      <td>318</td>\n",
       "      <td>356</td>\n",
       "      <td>0.506196</td>\n",
       "      <td>Shawshank Redemption, The (1994)</td>\n",
       "      <td>Crime|Drama</td>\n",
       "    </tr>\n",
       "    <tr>\n",
       "      <th>4</th>\n",
       "      <td>593</td>\n",
       "      <td>356</td>\n",
       "      <td>0.501449</td>\n",
       "      <td>Silence of the Lambs, The (1991)</td>\n",
       "      <td>Crime|Horror|Thriller</td>\n",
       "    </tr>\n",
       "    <tr>\n",
       "      <th>5</th>\n",
       "      <td>589</td>\n",
       "      <td>356</td>\n",
       "      <td>0.471519</td>\n",
       "      <td>Terminator 2: Judgment Day (1991)</td>\n",
       "      <td>Action|Sci-Fi</td>\n",
       "    </tr>\n",
       "    <tr>\n",
       "      <th>6</th>\n",
       "      <td>110</td>\n",
       "      <td>356</td>\n",
       "      <td>0.467437</td>\n",
       "      <td>Braveheart (1995)</td>\n",
       "      <td>Action|Drama|War</td>\n",
       "    </tr>\n",
       "    <tr>\n",
       "      <th>7</th>\n",
       "      <td>457</td>\n",
       "      <td>356</td>\n",
       "      <td>0.443219</td>\n",
       "      <td>Fugitive, The (1993)</td>\n",
       "      <td>Thriller</td>\n",
       "    </tr>\n",
       "    <tr>\n",
       "      <th>8</th>\n",
       "      <td>377</td>\n",
       "      <td>356</td>\n",
       "      <td>0.422325</td>\n",
       "      <td>Speed (1994)</td>\n",
       "      <td>Action|Romance|Thriller</td>\n",
       "    </tr>\n",
       "    <tr>\n",
       "      <th>9</th>\n",
       "      <td>2571</td>\n",
       "      <td>356</td>\n",
       "      <td>0.421933</td>\n",
       "      <td>Matrix, The (1999)</td>\n",
       "      <td>Action|Sci-Fi|Thriller</td>\n",
       "    </tr>\n",
       "  </tbody>\n",
       "</table>\n",
       "</div>"
      ],
      "text/plain": [
       "   movie_id  selected_movie_id       sim                              title  \\\n",
       "0       356                356  1.000000                Forrest Gump (1994)   \n",
       "1       480                356  0.544586               Jurassic Park (1993)   \n",
       "2       296                356  0.525214                Pulp Fiction (1994)   \n",
       "3       318                356  0.506196   Shawshank Redemption, The (1994)   \n",
       "4       593                356  0.501449   Silence of the Lambs, The (1991)   \n",
       "5       589                356  0.471519  Terminator 2: Judgment Day (1991)   \n",
       "6       110                356  0.467437                  Braveheart (1995)   \n",
       "7       457                356  0.443219               Fugitive, The (1993)   \n",
       "8       377                356  0.422325                       Speed (1994)   \n",
       "9      2571                356  0.421933                 Matrix, The (1999)   \n",
       "\n",
       "                             genres  \n",
       "0          Comedy|Drama|Romance|War  \n",
       "1  Action|Adventure|Sci-Fi|Thriller  \n",
       "2       Comedy|Crime|Drama|Thriller  \n",
       "3                       Crime|Drama  \n",
       "4             Crime|Horror|Thriller  \n",
       "5                     Action|Sci-Fi  \n",
       "6                  Action|Drama|War  \n",
       "7                          Thriller  \n",
       "8           Action|Romance|Thriller  \n",
       "9            Action|Sci-Fi|Thriller  "
      ]
     },
     "execution_count": 31,
     "metadata": {},
     "output_type": "execute_result"
    }
   ],
   "source": [
    "get_similar_films(ratings_df, [356], exclude_self=False) \\\n",
    "    .join(movies_df, \"movie_id\") \\\n",
    "    .sort(F.col('selected_movie_id').desc(), F.col('sim').desc()) \\\n",
    "    .limit(10).toPandas()"
   ]
  },
  {
   "cell_type": "markdown",
   "metadata": {},
   "source": [
    "Построим несколько вариантов простой Рекомендательной Системы.\n",
    "\n",
    "*Основная цель:* порекомендовать фильм пользователю. (Для простоты опустим информацию о самих рейтингах)\n",
    "\n",
    "## Methods\n",
    "\n",
    "При разработке сложных методов, сначала нужно выбрать несколько простотых методов (`Baseline`), относительно которых мы будем сравнивать новый метод."
   ]
  },
  {
   "cell_type": "code",
   "execution_count": 32,
   "metadata": {
    "ExecuteTime": {
     "end_time": "2020-02-12T00:41:40.861086Z",
     "start_time": "2020-02-12T00:41:40.858705Z"
    }
   },
   "outputs": [],
   "source": [
    "import abc"
   ]
  },
  {
   "cell_type": "code",
   "execution_count": 33,
   "metadata": {
    "ExecuteTime": {
     "end_time": "2020-02-12T00:41:41.069773Z",
     "start_time": "2020-02-12T00:41:41.066722Z"
    }
   },
   "outputs": [],
   "source": [
    "class Recommender(metaclass=abc.ABCMeta):\n",
    "    @abc.abstractmethod\n",
    "    def recommend(self, user_id): raise NotImplementedError\n",
    "        \n",
    "    def prepare_result(self, ordered_films):\n",
    "        return ordered_films \\\n",
    "                    .limit(self.N) \\\n",
    "                    .withColumn(\"rank\", F.monotonically_increasing_id() + F.lit(1)) \\\n",
    "                    .select('movie_id', 'rank')\n",
    "    \n",
    "    def get_viewed_films(self, user_id):\n",
    "        # выберем все фильмы, которые уже смотрел пользователь, чтобы не рекоммендовать\n",
    "        films_viewed = self.ratings_df \\\n",
    "                                .filter(F.col('user_id') == user_id) \\\n",
    "                                .select('movie_id') \\\n",
    "                                .distinct() \\\n",
    "                                .agg(F.collect_list('movie_id').alias('movies')) \\\n",
    "                                .collect()[0][\"movies\"]\n",
    "        return films_viewed"
   ]
  },
  {
   "cell_type": "markdown",
   "metadata": {},
   "source": [
    "### POP\n",
    "\n",
    "Будем всегда рекомендовать самые популярные фильмы (с наибольшим цислом оценок пользователей).\n",
    "\n",
    "Не смотря на свою простоту, в ряде задач показывает себя достаточно хорошо."
   ]
  },
  {
   "cell_type": "code",
   "execution_count": 60,
   "metadata": {
    "ExecuteTime": {
     "end_time": "2020-02-12T06:18:30.372141Z",
     "start_time": "2020-02-12T06:18:30.367112Z"
    }
   },
   "outputs": [],
   "source": [
    "class Popular(Recommender):\n",
    "    def __init__(self, ratings_df, exclude_viewed=True, N=10):\n",
    "        self.ratings_df = ratings_df\n",
    "        self.N = N\n",
    "        self.exclude_viewed = exclude_viewed\n",
    "        self.pop = ratings_df \\\n",
    "                    .groupby('movie_id') \\\n",
    "                    .count() \\\n",
    "                    .sort(F.col('count').desc()) \\\n",
    "                    .persist()\n",
    "    \n",
    "    def recommend(self, user_id):\n",
    "        films_viewed = self.get_viewed_films(user_id) if self.exclude_viewed else [] \n",
    "        films = self.pop \\\n",
    "                        .filter(~F.col('movie_id').isin(*films_viewed))\n",
    "        \n",
    "        return self.prepare_result(films)"
   ]
  },
  {
   "cell_type": "code",
   "execution_count": 61,
   "metadata": {},
   "outputs": [
    {
     "data": {
      "text/html": [
       "<div>\n",
       "<style scoped>\n",
       "    .dataframe tbody tr th:only-of-type {\n",
       "        vertical-align: middle;\n",
       "    }\n",
       "\n",
       "    .dataframe tbody tr th {\n",
       "        vertical-align: top;\n",
       "    }\n",
       "\n",
       "    .dataframe thead th {\n",
       "        text-align: right;\n",
       "    }\n",
       "</style>\n",
       "<table border=\"1\" class=\"dataframe\">\n",
       "  <thead>\n",
       "    <tr style=\"text-align: right;\">\n",
       "      <th></th>\n",
       "      <th>movie_id</th>\n",
       "      <th>rank</th>\n",
       "    </tr>\n",
       "  </thead>\n",
       "  <tbody>\n",
       "    <tr>\n",
       "      <th>0</th>\n",
       "      <td>356</td>\n",
       "      <td>1</td>\n",
       "    </tr>\n",
       "    <tr>\n",
       "      <th>1</th>\n",
       "      <td>296</td>\n",
       "      <td>2</td>\n",
       "    </tr>\n",
       "    <tr>\n",
       "      <th>2</th>\n",
       "      <td>318</td>\n",
       "      <td>3</td>\n",
       "    </tr>\n",
       "    <tr>\n",
       "      <th>3</th>\n",
       "      <td>593</td>\n",
       "      <td>4</td>\n",
       "    </tr>\n",
       "  </tbody>\n",
       "</table>\n",
       "</div>"
      ],
      "text/plain": [
       "   movie_id  rank\n",
       "0       356     1\n",
       "1       296     2\n",
       "2       318     3\n",
       "3       593     4"
      ]
     },
     "execution_count": 61,
     "metadata": {},
     "output_type": "execute_result"
    }
   ],
   "source": [
    "Popular(ratings_df, N=4, exclude_viewed=False, ).recommend(user_id=153095).toPandas()"
   ]
  },
  {
   "cell_type": "code",
   "execution_count": 62,
   "metadata": {},
   "outputs": [
    {
     "data": {
      "text/html": [
       "<div>\n",
       "<style scoped>\n",
       "    .dataframe tbody tr th:only-of-type {\n",
       "        vertical-align: middle;\n",
       "    }\n",
       "\n",
       "    .dataframe tbody tr th {\n",
       "        vertical-align: top;\n",
       "    }\n",
       "\n",
       "    .dataframe thead th {\n",
       "        text-align: right;\n",
       "    }\n",
       "</style>\n",
       "<table border=\"1\" class=\"dataframe\">\n",
       "  <thead>\n",
       "    <tr style=\"text-align: right;\">\n",
       "      <th></th>\n",
       "      <th>movie_id</th>\n",
       "      <th>rank</th>\n",
       "    </tr>\n",
       "  </thead>\n",
       "  <tbody>\n",
       "    <tr>\n",
       "      <th>0</th>\n",
       "      <td>2571</td>\n",
       "      <td>1</td>\n",
       "    </tr>\n",
       "    <tr>\n",
       "      <th>1</th>\n",
       "      <td>260</td>\n",
       "      <td>2</td>\n",
       "    </tr>\n",
       "    <tr>\n",
       "      <th>2</th>\n",
       "      <td>527</td>\n",
       "      <td>3</td>\n",
       "    </tr>\n",
       "    <tr>\n",
       "      <th>3</th>\n",
       "      <td>1</td>\n",
       "      <td>4</td>\n",
       "    </tr>\n",
       "  </tbody>\n",
       "</table>\n",
       "</div>"
      ],
      "text/plain": [
       "   movie_id  rank\n",
       "0      2571     1\n",
       "1       260     2\n",
       "2       527     3\n",
       "3         1     4"
      ]
     },
     "execution_count": 62,
     "metadata": {},
     "output_type": "execute_result"
    }
   ],
   "source": [
    "Popular(ratings_df, N=4, exclude_viewed=True).recommend(user_id=153095).toPandas()"
   ]
  },
  {
   "cell_type": "markdown",
   "metadata": {},
   "source": [
    "Всё ок, не учитываются фильмы, которые пользователь уже смотрел"
   ]
  },
  {
   "cell_type": "markdown",
   "metadata": {},
   "source": [
    "### User-based Collaborative Filtering\n",
    "\n",
    "1. Для пользователя $u$ определим множество похожих пользователей как \n",
    "\n",
    "$$U(u) = \\left\\{ u' \\in U \\mid sim(u, u') > \\alpha \\right\\},$$\n",
    "\n",
    "где $sim(u, u')$ — одна из возможных мер близости $u'$ к $u$, например, косинусная близость между $R_{u}$ и $R_{u'}$\n",
    "\n",
    "2. $$I(u) = \\left\\{ i \\in I ~\\Big|~ B(i) = \\frac{|U(u) ~\\cap~ U(i)|}{|U(u) ~\\cup~ U(i)|} > 0 \\right\\}$$\n",
    "\n",
    "\n",
    "3. Отсортировать $i \\in I(u)$ по убыванию $B(i)$, взять top $N$"
   ]
  },
  {
   "cell_type": "markdown",
   "metadata": {},
   "source": [
    "***\n",
    "1. Мера близости — косинусная  \n",
    "![img](https://wikimedia.org/api/rest_v1/media/math/render/svg/2a8c50526e2cc7aa837477be87eff1ea703f9dec)  \n",
    "Так как для простоты мы опустили информацию о самих рейтингах, оставив только посмотрел ли пользователь фильм или нет, то формула эквивалентна отношению числа фильмов, которые посмотрели оба пользователя, к произведению корней количества просмотренных фильмов\n",
    "\n",
    "2. В числителе просто пересечение множества пользователей, которые посмотрели фильм, к множеству похожих пользователей. В знаменателе объединение этих двух множеств"
   ]
  },
  {
   "cell_type": "code",
   "execution_count": 39,
   "metadata": {},
   "outputs": [],
   "source": [
    "import numpy as np"
   ]
  },
  {
   "cell_type": "code",
   "execution_count": 40,
   "metadata": {},
   "outputs": [],
   "source": [
    "def get_similar_users(ratings_df, user_id):\n",
    "    films_viewed = ratings_df \\\n",
    "            .filter(F.col('user_id') == user_id) \\\n",
    "            .select(F.col(\"movie_id\"))\n",
    "    films_viewed_count = films_viewed.count()\n",
    "    \n",
    "    intersection = ratings_df \\\n",
    "                        .join(films_viewed, on=\"movie_id\") \\\n",
    "                        .groupby('user_id') \\\n",
    "                        .count() \\\n",
    "                        .withColumnRenamed('count', 'intersection') \\\n",
    "                        .filter(F.col('user_id') != user_id)\n",
    "    \n",
    "    total_viewed = ratings_df \\\n",
    "            .groupby('user_id') \\\n",
    "            .count() \\\n",
    "            .withColumnRenamed('count', 'total_viewed') \\\n",
    "            .filter(F.col('user_id') != user_id)\n",
    "    \n",
    "    \n",
    "    result = intersection \\\n",
    "                .join(total_viewed, on=\"user_id\")\n",
    "    \n",
    "    sim = result \\\n",
    "            .withColumn('sim', result['intersection'] / (np.sqrt(films_viewed_count) * F.sqrt(result['total_viewed']))) \\\n",
    "            .select('user_id', 'sim')\n",
    "    \n",
    "    return sim"
   ]
  },
  {
   "cell_type": "code",
   "execution_count": 63,
   "metadata": {},
   "outputs": [
    {
     "data": {
      "text/html": [
       "<div>\n",
       "<style scoped>\n",
       "    .dataframe tbody tr th:only-of-type {\n",
       "        vertical-align: middle;\n",
       "    }\n",
       "\n",
       "    .dataframe tbody tr th {\n",
       "        vertical-align: top;\n",
       "    }\n",
       "\n",
       "    .dataframe thead th {\n",
       "        text-align: right;\n",
       "    }\n",
       "</style>\n",
       "<table border=\"1\" class=\"dataframe\">\n",
       "  <thead>\n",
       "    <tr style=\"text-align: right;\">\n",
       "      <th></th>\n",
       "      <th>user_id</th>\n",
       "      <th>sim</th>\n",
       "    </tr>\n",
       "  </thead>\n",
       "  <tbody>\n",
       "    <tr>\n",
       "      <th>0</th>\n",
       "      <td>3764</td>\n",
       "      <td>0.858116</td>\n",
       "    </tr>\n",
       "    <tr>\n",
       "      <th>1</th>\n",
       "      <td>53663</td>\n",
       "      <td>0.746004</td>\n",
       "    </tr>\n",
       "  </tbody>\n",
       "</table>\n",
       "</div>"
      ],
      "text/plain": [
       "   user_id       sim\n",
       "0     3764  0.858116\n",
       "1    53663  0.746004"
      ]
     },
     "execution_count": 63,
     "metadata": {},
     "output_type": "execute_result"
    }
   ],
   "source": [
    "get_similar_users(ratings_df, 153095).sort(F.col('sim').desc()).limit(2).toPandas()"
   ]
  },
  {
   "cell_type": "code",
   "execution_count": 65,
   "metadata": {
    "ExecuteTime": {
     "end_time": "2020-02-12T06:43:12.417226Z",
     "start_time": "2020-02-12T06:43:12.414081Z"
    }
   },
   "outputs": [],
   "source": [
    "class UCF(Recommender):\n",
    "    def __init__(self, rating_df, alpha=0.2, exclude_viewed=True, N=10):\n",
    "        self.ratings_df = ratings_df\n",
    "        self.alpha = alpha\n",
    "        self.exclude_viewed = exclude_viewed\n",
    "        self.N = N\n",
    "        \n",
    "    def recommend(self, user_id):\n",
    "        similar = get_similar_users(self.ratings_df, user_id) \\\n",
    "                            .filter(F.col('sim') > self.alpha) \\\n",
    "                            .select('user_id')\n",
    "            \n",
    "        similar_count = similar.count()\n",
    "        \n",
    "        intersection = self.ratings_df \\\n",
    "                        .filter(F.col('user_id') != user_id) \\\n",
    "                        .join(similar, on=\"user_id\") \\\n",
    "                        .groupby('movie_id') \\\n",
    "                        .count() \\\n",
    "                        .withColumnRenamed('count', 'intersection')\n",
    "        \n",
    "        \n",
    "        total_viewed = self.ratings_df \\\n",
    "                        .filter(F.col('user_id') != user_id) \\\n",
    "                        .groupby('movie_id') \\\n",
    "                        .count() \\\n",
    "                        .withColumnRenamed('count', 'total_users')\n",
    "    \n",
    "    \n",
    "        result = intersection \\\n",
    "                    .join(total_viewed, on=\"movie_id\")\n",
    "\n",
    "        films = result \\\n",
    "                .withColumn('sim', result['intersection'] / (similar_count + result[\"total_users\"] - result[\"intersection\"])) \\\n",
    "                .sort(F.col('sim').desc())\n",
    "        \n",
    "        films_viewed = self.get_viewed_films(user_id) if self.exclude_viewed else [] \n",
    "        \n",
    "        films = films \\\n",
    "                    .filter(~F.col('movie_id').isin(*films_viewed))\n",
    "        \n",
    "        return self.prepare_result(films)"
   ]
  },
  {
   "cell_type": "code",
   "execution_count": 66,
   "metadata": {},
   "outputs": [
    {
     "data": {
      "text/html": [
       "<div>\n",
       "<style scoped>\n",
       "    .dataframe tbody tr th:only-of-type {\n",
       "        vertical-align: middle;\n",
       "    }\n",
       "\n",
       "    .dataframe tbody tr th {\n",
       "        vertical-align: top;\n",
       "    }\n",
       "\n",
       "    .dataframe thead th {\n",
       "        text-align: right;\n",
       "    }\n",
       "</style>\n",
       "<table border=\"1\" class=\"dataframe\">\n",
       "  <thead>\n",
       "    <tr style=\"text-align: right;\">\n",
       "      <th></th>\n",
       "      <th>movie_id</th>\n",
       "      <th>rank</th>\n",
       "    </tr>\n",
       "  </thead>\n",
       "  <tbody>\n",
       "    <tr>\n",
       "      <th>0</th>\n",
       "      <td>592</td>\n",
       "      <td>1</td>\n",
       "    </tr>\n",
       "    <tr>\n",
       "      <th>1</th>\n",
       "      <td>454</td>\n",
       "      <td>2</td>\n",
       "    </tr>\n",
       "    <tr>\n",
       "      <th>2</th>\n",
       "      <td>165</td>\n",
       "      <td>3</td>\n",
       "    </tr>\n",
       "    <tr>\n",
       "      <th>3</th>\n",
       "      <td>316</td>\n",
       "      <td>4</td>\n",
       "    </tr>\n",
       "  </tbody>\n",
       "</table>\n",
       "</div>"
      ],
      "text/plain": [
       "   movie_id  rank\n",
       "0       592     1\n",
       "1       454     2\n",
       "2       165     3\n",
       "3       316     4"
      ]
     },
     "execution_count": 66,
     "metadata": {},
     "output_type": "execute_result"
    }
   ],
   "source": [
    "UCF(ratings_df).recommend(user_id=153095).limit(4).toPandas()"
   ]
  },
  {
   "cell_type": "markdown",
   "metadata": {},
   "source": [
    "### Item-kNN\n",
    "\n",
    "1. Для пользователя $u$ мы знаем $R(u) = \\{ i \\in I \\mid r_{ui} \\neq 0 \\} $\n",
    "\n",
    "\n",
    "2. Для каждого $i \\in R(u)$ построим $I(i)$ - множество похожих фильмов\n",
    "\n",
    "\n",
    "3. Отсортируем элементы множества $ \\bigcup_{i \\in R(u)} I(i) $, возьмем top $N$"
   ]
  },
  {
   "cell_type": "code",
   "execution_count": 71,
   "metadata": {},
   "outputs": [],
   "source": [
    "class Item_kNN(Recommender):\n",
    "    def __init__(self, ratings_df, exclude_viewed=True, N=10):\n",
    "        self.ratings_df = ratings_df\n",
    "        self.N = N\n",
    "        self.exclude_viewed = exclude_viewed\n",
    "    \n",
    "    def recommend(self, user_id):\n",
    "        films_viewed = self.get_viewed_films(user_id)\n",
    "        \n",
    "        rating = get_similar_films(self.ratings_df, films_viewed)\n",
    "        \n",
    "        films = rating \\\n",
    "                    .groupby(\"movie_id\") \\\n",
    "                    .agg(F.sum(rating.sim).alias('total_sim')) \\\n",
    "                    .sort(F.col('total_sim').desc())\n",
    "        \n",
    "        if not self.exclude_viewed:\n",
    "            films_viewed = []        \n",
    "        \n",
    "        films = films \\\n",
    "                    .filter(~F.col('movie_id').isin(*films_viewed))\n",
    "        \n",
    "        return self.prepare_result(films)"
   ]
  },
  {
   "cell_type": "code",
   "execution_count": 72,
   "metadata": {},
   "outputs": [
    {
     "data": {
      "text/html": [
       "<div>\n",
       "<style scoped>\n",
       "    .dataframe tbody tr th:only-of-type {\n",
       "        vertical-align: middle;\n",
       "    }\n",
       "\n",
       "    .dataframe tbody tr th {\n",
       "        vertical-align: top;\n",
       "    }\n",
       "\n",
       "    .dataframe thead th {\n",
       "        text-align: right;\n",
       "    }\n",
       "</style>\n",
       "<table border=\"1\" class=\"dataframe\">\n",
       "  <thead>\n",
       "    <tr style=\"text-align: right;\">\n",
       "      <th></th>\n",
       "      <th>movie_id</th>\n",
       "      <th>rank</th>\n",
       "    </tr>\n",
       "  </thead>\n",
       "  <tbody>\n",
       "    <tr>\n",
       "      <th>0</th>\n",
       "      <td>592</td>\n",
       "      <td>1</td>\n",
       "    </tr>\n",
       "    <tr>\n",
       "      <th>1</th>\n",
       "      <td>457</td>\n",
       "      <td>2</td>\n",
       "    </tr>\n",
       "    <tr>\n",
       "      <th>2</th>\n",
       "      <td>380</td>\n",
       "      <td>3</td>\n",
       "    </tr>\n",
       "    <tr>\n",
       "      <th>3</th>\n",
       "      <td>377</td>\n",
       "      <td>4</td>\n",
       "    </tr>\n",
       "    <tr>\n",
       "      <th>4</th>\n",
       "      <td>165</td>\n",
       "      <td>5</td>\n",
       "    </tr>\n",
       "  </tbody>\n",
       "</table>\n",
       "</div>"
      ],
      "text/plain": [
       "   movie_id  rank\n",
       "0       592     1\n",
       "1       457     2\n",
       "2       380     3\n",
       "3       377     4\n",
       "4       165     5"
      ]
     },
     "execution_count": 72,
     "metadata": {},
     "output_type": "execute_result"
    }
   ],
   "source": [
    "Item_kNN(ratings_df, exclude_viewed=False).recommend(153095).limit(5).toPandas()"
   ]
  },
  {
   "cell_type": "code",
   "execution_count": 73,
   "metadata": {},
   "outputs": [
    {
     "data": {
      "text/html": [
       "<div>\n",
       "<style scoped>\n",
       "    .dataframe tbody tr th:only-of-type {\n",
       "        vertical-align: middle;\n",
       "    }\n",
       "\n",
       "    .dataframe tbody tr th {\n",
       "        vertical-align: top;\n",
       "    }\n",
       "\n",
       "    .dataframe thead th {\n",
       "        text-align: right;\n",
       "    }\n",
       "</style>\n",
       "<table border=\"1\" class=\"dataframe\">\n",
       "  <thead>\n",
       "    <tr style=\"text-align: right;\">\n",
       "      <th></th>\n",
       "      <th>movie_id</th>\n",
       "      <th>rank</th>\n",
       "    </tr>\n",
       "  </thead>\n",
       "  <tbody>\n",
       "    <tr>\n",
       "      <th>0</th>\n",
       "      <td>592</td>\n",
       "      <td>1</td>\n",
       "    </tr>\n",
       "    <tr>\n",
       "      <th>1</th>\n",
       "      <td>377</td>\n",
       "      <td>2</td>\n",
       "    </tr>\n",
       "    <tr>\n",
       "      <th>2</th>\n",
       "      <td>165</td>\n",
       "      <td>3</td>\n",
       "    </tr>\n",
       "    <tr>\n",
       "      <th>3</th>\n",
       "      <td>153</td>\n",
       "      <td>4</td>\n",
       "    </tr>\n",
       "    <tr>\n",
       "      <th>4</th>\n",
       "      <td>316</td>\n",
       "      <td>5</td>\n",
       "    </tr>\n",
       "  </tbody>\n",
       "</table>\n",
       "</div>"
      ],
      "text/plain": [
       "   movie_id  rank\n",
       "0       592     1\n",
       "1       377     2\n",
       "2       165     3\n",
       "3       153     4\n",
       "4       316     5"
      ]
     },
     "execution_count": 73,
     "metadata": {},
     "output_type": "execute_result"
    }
   ],
   "source": [
    "Item_kNN(ratings_df, exclude_viewed=True).recommend(153095).limit(5).toPandas()"
   ]
  },
  {
   "cell_type": "markdown",
   "metadata": {},
   "source": [
    "## Evaluation Protocol\n",
    "\n",
    "Теперь опишем, как будем оценивать качество рассматриваемых методов.\n",
    "\n",
    "### Data Splits\n",
    "\n",
    "Так как в данных `ratings` есть поле `timestamp`, то для каждого пользователя отсортируем его рейтинги по времени и первые $80\\%$ рейтингов отнесем в `Train`, еще $10\\%$ в `Validation`, и остальное в `Test`.\n"
   ]
  },
  {
   "cell_type": "code",
   "execution_count": 74,
   "metadata": {
    "ExecuteTime": {
     "end_time": "2020-02-12T00:46:43.214666Z",
     "start_time": "2020-02-12T00:46:43.209388Z"
    }
   },
   "outputs": [],
   "source": [
    "def train_val_test_split(df, train_size=0.8, valid_size=0.1):\n",
    "    # https://stackoverflow.com/a/51773836\n",
    "    user_window = Window.orderBy('timestamp').partitionBy('user_id')\n",
    "    \n",
    "    df_with_ranks = df \\\n",
    "      .withColumn('rank', F.percent_rank().over(user_window))\n",
    "\n",
    "    train = df_with_ranks \\\n",
    "      .filter(df_with_ranks['rank'] < train_size) \\\n",
    "      .drop('rank')\n",
    "\n",
    "    valid = df_with_ranks \\\n",
    "      .filter((train_size <= df_with_ranks['rank'])  \\\n",
    "                          & (df_with_ranks['rank'] < train_size + valid_size)) \\\n",
    "      .drop('rank')\n",
    "\n",
    "    test = df_with_ranks \\\n",
    "      .filter(train_size + valid_size <= df_with_ranks['rank']) \\\n",
    "      .drop('rank')\n",
    "    \n",
    "    return train, valid, test"
   ]
  },
  {
   "cell_type": "code",
   "execution_count": 75,
   "metadata": {
    "ExecuteTime": {
     "end_time": "2020-02-12T00:46:43.491397Z",
     "start_time": "2020-02-12T00:46:43.428886Z"
    }
   },
   "outputs": [],
   "source": [
    "train, valid, test = train_val_test_split(ratings_df)"
   ]
  },
  {
   "cell_type": "code",
   "execution_count": 76,
   "metadata": {
    "ExecuteTime": {
     "end_time": "2020-02-12T00:46:45.204141Z",
     "start_time": "2020-02-12T00:46:44.997635Z"
    }
   },
   "outputs": [
    {
     "data": {
      "text/html": [
       "<div>\n",
       "<style scoped>\n",
       "    .dataframe tbody tr th:only-of-type {\n",
       "        vertical-align: middle;\n",
       "    }\n",
       "\n",
       "    .dataframe tbody tr th {\n",
       "        vertical-align: top;\n",
       "    }\n",
       "\n",
       "    .dataframe thead th {\n",
       "        text-align: right;\n",
       "    }\n",
       "</style>\n",
       "<table border=\"1\" class=\"dataframe\">\n",
       "  <thead>\n",
       "    <tr style=\"text-align: right;\">\n",
       "      <th></th>\n",
       "      <th>user_id</th>\n",
       "      <th>movie_id</th>\n",
       "      <th>rating</th>\n",
       "      <th>timestamp</th>\n",
       "    </tr>\n",
       "  </thead>\n",
       "  <tbody>\n",
       "    <tr>\n",
       "      <th>0</th>\n",
       "      <td>3764</td>\n",
       "      <td>150</td>\n",
       "      <td>3.0</td>\n",
       "      <td>843471309</td>\n",
       "    </tr>\n",
       "    <tr>\n",
       "      <th>1</th>\n",
       "      <td>3764</td>\n",
       "      <td>296</td>\n",
       "      <td>3.0</td>\n",
       "      <td>843471309</td>\n",
       "    </tr>\n",
       "    <tr>\n",
       "      <th>2</th>\n",
       "      <td>3764</td>\n",
       "      <td>380</td>\n",
       "      <td>3.0</td>\n",
       "      <td>843471309</td>\n",
       "    </tr>\n",
       "  </tbody>\n",
       "</table>\n",
       "</div>"
      ],
      "text/plain": [
       "   user_id  movie_id  rating  timestamp\n",
       "0     3764       150     3.0  843471309\n",
       "1     3764       296     3.0  843471309\n",
       "2     3764       380     3.0  843471309"
      ]
     },
     "execution_count": 76,
     "metadata": {},
     "output_type": "execute_result"
    }
   ],
   "source": [
    "train.limit(3).toPandas()"
   ]
  },
  {
   "cell_type": "markdown",
   "metadata": {},
   "source": [
    "### Metrics\n",
    "\n",
    "В `Test` для каждого пользователя есть `user_id, R_u`, где $R_u$ - множество фильмов, которым он поставил оценку. Для того чтобы оценить качество рассматриваемых методов будем для пользователя строить список из $N$ рекомендаций $\\hat{R}_{1\\colon N}$ и считать метрики.\n",
    "\n",
    "* $$ Precision@N = \\frac{|R_u \\cap \\hat{R}_{1\\colon N} |}{N} $$\n",
    "* $$ Recall@N = \\frac{|R_u \\cap \\hat{R}_{1\\colon N} |}{|R_u|} $$\n",
    "* $Map@N$\n",
    "\n",
    "где $N \\in \\{1,5,10\\}$\n",
    "\n",
    "https://spark.apache.org/docs/latest/mllib-evaluation-metrics.html#ranking-systems"
   ]
  },
  {
   "cell_type": "code",
   "execution_count": 77,
   "metadata": {
    "ExecuteTime": {
     "end_time": "2020-02-12T06:23:09.475050Z",
     "start_time": "2020-02-12T06:23:09.471403Z"
    }
   },
   "outputs": [],
   "source": [
    "def calculate_metrics(predicted, test, n):\n",
    "    predicted = predicted.limit(n)\n",
    "    \n",
    "    predicted = predicted \\\n",
    "                .withColumn('inverse_rank', 1. / F.col('rank'))\n",
    "    \n",
    "    true_positive = predicted \\\n",
    "        .join(test, on=['user_id', 'movie_id'])\n",
    "    \n",
    "    ap = true_positive.select(F.sum('inverse_rank')).collect()[0][0]\n",
    "    if not ap:\n",
    "        ap = 0\n",
    "        \n",
    "    divide = max(predicted.count(), 1) # don't know why, but sometimes there is divizion_by_zero exception\n",
    "    \n",
    "    true_positive_counts = true_positive.count()\n",
    "    \n",
    "    precision = true_positive_counts / divide\n",
    "    recall = true_positive_counts / test.count()\n",
    "    map_ = ap / divide\n",
    "    \n",
    "    \n",
    "    \n",
    "    return precision, recall, map_"
   ]
  },
  {
   "cell_type": "markdown",
   "metadata": {},
   "source": [
    "## Experimental Results\n",
    "\n",
    "Посмотрим на результаты\n",
    "\n",
    "*Remark* скорее всего посчитать метрики для всех пользователей будет довольно долго - можно ограничится, например, случайными 10к пользователями"
   ]
  },
  {
   "cell_type": "code",
   "execution_count": 78,
   "metadata": {},
   "outputs": [],
   "source": [
    "def evaluate_algorithms(algorithms, num_users_to_test=1, ns=[1, 5, 10]):\n",
    "    users_to_test = valid \\\n",
    "                        .select('user_id') \\\n",
    "                        .distinct() \\\n",
    "                        .limit(num_users_to_test) \\\n",
    "                        .agg(F.collect_list('user_id').alias('users')) \\\n",
    "                        .collect()[0][\"users\"]    \n",
    "\n",
    "    test_ratings = valid \\\n",
    "                    .filter(F.col('user_id').isin(users_to_test)) \\\n",
    "                    .cache()        \n",
    "    \n",
    "    for algorithm in algorithms:\n",
    "        precision, recall, map_ = [[0, 0, 0] for _ in range(len(ns))]\n",
    "        for user in users_to_test:\n",
    "            predictions = algorithm.recommend(user) \\\n",
    "                                .withColumn('user_id', F.lit(user))\n",
    "            \n",
    "            true_films = test_ratings \\\n",
    "                                .filter(F.col('user_id') == user)\n",
    "            \n",
    "            for i, n in enumerate(ns):\n",
    "                p, r, m = calculate_metrics(predictions, true_films, n)\n",
    "                precision[i] += p\n",
    "                recall[i] += r\n",
    "                map_[i] += m\n",
    "                \n",
    "        print(\"Algorithm: \", algorithm.__class__.__name__)\n",
    "        for i, n in enumerate(ns):\n",
    "            precision[i] /= num_users_to_test\n",
    "            recall[i] /= num_users_to_test\n",
    "            map_[i] /= num_users_to_test\n",
    "            print(\"N={}, precision={}, recall={}, map={}\".format(n, precision[i], recall[i], map_[i]))\n",
    "        print(\"*\"*25, \"\\n\\n\\n\")"
   ]
  },
  {
   "cell_type": "code",
   "execution_count": 79,
   "metadata": {},
   "outputs": [],
   "source": [
    "train = train.repartition(8).cache()"
   ]
  },
  {
   "cell_type": "code",
   "execution_count": 80,
   "metadata": {},
   "outputs": [],
   "source": [
    "algorithms = [Popular(train), UCF(train), Item_kNN(train)]"
   ]
  },
  {
   "cell_type": "code",
   "execution_count": 81,
   "metadata": {},
   "outputs": [
    {
     "name": "stdout",
     "output_type": "stream",
     "text": [
      "Algorithm:  Popular\n",
      "N=1, precision=0.0, recall=0.0, map=0.0\n",
      "N=5, precision=0.2, recall=0.25, map=0.05\n",
      "N=10, precision=0.1, recall=0.25, map=0.025\n",
      "************************* \n",
      "\n",
      "\n",
      "\n",
      "Algorithm:  UCF\n",
      "N=1, precision=0.0, recall=0.0, map=0.0\n",
      "N=5, precision=0.0, recall=0.0, map=0.0\n",
      "N=10, precision=0.0, recall=0.0, map=0.0\n",
      "************************* \n",
      "\n",
      "\n",
      "\n",
      "Algorithm:  Item_kNN\n",
      "N=1, precision=0.0, recall=0.0, map=0.0\n",
      "N=5, precision=0.2, recall=0.25, map=0.04\n",
      "N=10, precision=0.1, recall=0.25, map=0.02\n",
      "************************* \n",
      "\n",
      "\n",
      "\n",
      "CPU times: user 1.03 s, sys: 596 ms, total: 1.63 s\n",
      "Wall time: 1min 16s\n"
     ]
    }
   ],
   "source": [
    "%%time\n",
    "evaluate_algorithms(algorithms)"
   ]
  },
  {
   "cell_type": "code",
   "execution_count": 83,
   "metadata": {},
   "outputs": [
    {
     "name": "stdout",
     "output_type": "stream",
     "text": [
      "Algorithm:  Popular\n",
      "N=1, precision=0.025, recall=0.001376381294144452, map=0.025\n",
      "N=5, precision=0.04400000000000002, recall=0.02496001317889369, map=0.01731666666666667\n",
      "N=10, precision=0.040999999999999995, recall=0.043558648765622834, map=0.011126785714285714\n",
      "************************* \n",
      "\n",
      "\n",
      "\n",
      "Algorithm:  UCF\n",
      "N=1, precision=0.0, recall=0.0, map=0.0\n",
      "N=5, precision=0.0, recall=0.0, map=0.0\n",
      "N=10, precision=0.0, recall=0.0, map=0.0\n",
      "************************* \n",
      "\n",
      "\n",
      "\n",
      "Algorithm:  Item_kNN\n",
      "N=1, precision=0.05, recall=0.0036311896622251306, map=0.05\n",
      "N=5, precision=0.051, recall=0.028020545647385195, map=0.024466666666666668\n",
      "N=10, precision=0.044999999999999964, recall=0.055712605840409796, map=0.014771428571428567\n",
      "************************* \n",
      "\n",
      "\n",
      "\n",
      "CPU times: user 3min 15s, sys: 2min 13s, total: 5min 29s\n",
      "Wall time: 4h 19min 12s\n"
     ]
    }
   ],
   "source": [
    "%%time\n",
    "evaluate_algorithms(algorithms, num_users_to_test=200)"
   ]
  },
  {
   "cell_type": "code",
   "execution_count": null,
   "metadata": {},
   "outputs": [],
   "source": []
  }
 ],
 "metadata": {
  "kernelspec": {
   "display_name": "Python 3",
   "language": "python",
   "name": "python3"
  },
  "language_info": {
   "codemirror_mode": {
    "name": "ipython",
    "version": 3
   },
   "file_extension": ".py",
   "mimetype": "text/x-python",
   "name": "python",
   "nbconvert_exporter": "python",
   "pygments_lexer": "ipython3",
   "version": "3.5.6"
  },
  "toc": {
   "base_numbering": 1,
   "nav_menu": {
    "height": "431.997px",
    "width": "329.514px"
   },
   "number_sections": true,
   "sideBar": true,
   "skip_h1_title": false,
   "title_cell": "Table of Contents",
   "title_sidebar": "Contents",
   "toc_cell": false,
   "toc_position": {
    "height": "calc(100% - 180px)",
    "left": "10px",
    "top": "150px",
    "width": "321.545px"
   },
   "toc_section_display": true,
   "toc_window_display": true
  }
 },
 "nbformat": 4,
 "nbformat_minor": 2
}

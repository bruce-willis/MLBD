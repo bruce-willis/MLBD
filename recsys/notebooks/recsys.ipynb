{
 "cells": [
  {
   "cell_type": "markdown",
   "metadata": {
    "toc": true
   },
   "source": [
    "<h1>Table of Contents<span class=\"tocSkip\"></span></h1>\n",
    "<div class=\"toc\"><ul class=\"toc-item\"><li><span><a href=\"#Movie-recommendation\" data-toc-modified-id=\"Movie-recommendation-1\"><span class=\"toc-item-num\">1&nbsp;&nbsp;</span>Movie recommendation</a></span><ul class=\"toc-item\"><li><span><a href=\"#Dataset\" data-toc-modified-id=\"Dataset-1.1\"><span class=\"toc-item-num\">1.1&nbsp;&nbsp;</span>Dataset</a></span></li><li><span><a href=\"#Evaluation-Protocol\" data-toc-modified-id=\"Evaluation-Protocol-1.2\"><span class=\"toc-item-num\">1.2&nbsp;&nbsp;</span>Evaluation Protocol</a></span></li><li><span><a href=\"#Models\" data-toc-modified-id=\"Models-1.3\"><span class=\"toc-item-num\">1.3&nbsp;&nbsp;</span>Models</a></span><ul class=\"toc-item\"><li><span><a href=\"#ALS\" data-toc-modified-id=\"ALS-1.3.1\"><span class=\"toc-item-num\">1.3.1&nbsp;&nbsp;</span><a href=\"https://spark.apache.org/docs/latest/ml-collaborative-filtering.html#explicit-vs-implicit-feedback\" target=\"_blank\">ALS</a></a></span></li><li><span><a href=\"#Ваша-формулировка\" data-toc-modified-id=\"Ваша-формулировка-1.3.2\"><span class=\"toc-item-num\">1.3.2&nbsp;&nbsp;</span>Ваша формулировка</a></span></li></ul></li><li><span><a href=\"#Evaluation-Results\" data-toc-modified-id=\"Evaluation-Results-1.4\"><span class=\"toc-item-num\">1.4&nbsp;&nbsp;</span>Evaluation Results</a></span></li></ul></li></ul></div>"
   ]
  },
  {
   "cell_type": "markdown",
   "metadata": {},
   "source": [
    "# Movie recommendation\n",
    "\n",
    "Ваша задача - рекомендация фильмов для пользователей\n"
   ]
  },
  {
   "cell_type": "code",
   "execution_count": 1,
   "metadata": {},
   "outputs": [],
   "source": [
    "%matplotlib inline\n",
    "%config InlineBackend.figure_format ='retina'\n",
    "\n",
    "import os\n",
    "import sys\n",
    "import glob\n",
    "import pickle\n",
    "import seaborn as sns\n",
    "import matplotlib.pyplot as plt\n",
    "import numpy as np\n",
    "import pandas as pd\n",
    "\n",
    "import pyspark\n",
    "from pyspark.conf import SparkConf\n",
    "from pyspark.sql import SQLContext\n",
    "from pyspark.sql import SparkSession\n",
    "\n",
    "\n",
    "spark = SparkSession \\\n",
    "    .builder \\\n",
    "    .master('local[*]') \\\n",
    "    .appName(\"spark_sql_examples\") \\\n",
    "    .config(\"spark.executor.memory\", \"12g\") \\\n",
    "    .config(\"spark.driver.memory\", \"12g\") \\\n",
    "    .config(\"spark.task.cpus\", \"8\") \\\n",
    "    .config(\"spark.executor.cores\", \"8\") \\\n",
    "    .getOrCreate()\n",
    "\n",
    "sc = spark.sparkContext\n",
    "sqlContext = SQLContext(sc)"
   ]
  },
  {
   "cell_type": "markdown",
   "metadata": {},
   "source": [
    "## Dataset \n",
    "\n",
    "`MovieLens-25M`"
   ]
  },
  {
   "cell_type": "code",
   "execution_count": 2,
   "metadata": {},
   "outputs": [],
   "source": [
    "DATA_PATH = '/workspace/data/ml-25m'\n",
    "\n",
    "RATINGS_PATH = os.path.join(DATA_PATH, 'ratings.csv')\n",
    "MOVIES_PATH = os.path.join(DATA_PATH, 'movies.csv')\n",
    "TAGS_PATH = os.path.join(DATA_PATH, 'tags.csv')"
   ]
  },
  {
   "cell_type": "code",
   "execution_count": 3,
   "metadata": {},
   "outputs": [],
   "source": [
    "import pyspark.sql.functions as F\n",
    "from pyspark.sql.types import *\n",
    "\n",
    "\n",
    "ratings_df = sqlContext.read.format(\"com.databricks.spark.csv\") \\\n",
    "    .option(\"delimiter\", \",\") \\\n",
    "    .option(\"header\", \"true\") \\\n",
    "    .option(\"inferSchema\", \"true\") \\\n",
    "    .load('file:///' + RATINGS_PATH)"
   ]
  },
  {
   "cell_type": "code",
   "execution_count": 4,
   "metadata": {},
   "outputs": [
    {
     "data": {
      "text/html": [
       "<div>\n",
       "<style scoped>\n",
       "    .dataframe tbody tr th:only-of-type {\n",
       "        vertical-align: middle;\n",
       "    }\n",
       "\n",
       "    .dataframe tbody tr th {\n",
       "        vertical-align: top;\n",
       "    }\n",
       "\n",
       "    .dataframe thead th {\n",
       "        text-align: right;\n",
       "    }\n",
       "</style>\n",
       "<table border=\"1\" class=\"dataframe\">\n",
       "  <thead>\n",
       "    <tr style=\"text-align: right;\">\n",
       "      <th></th>\n",
       "      <th>userId</th>\n",
       "      <th>movieId</th>\n",
       "      <th>rating</th>\n",
       "      <th>timestamp</th>\n",
       "    </tr>\n",
       "  </thead>\n",
       "  <tbody>\n",
       "    <tr>\n",
       "      <th>0</th>\n",
       "      <td>1</td>\n",
       "      <td>296</td>\n",
       "      <td>5.0</td>\n",
       "      <td>1147880044</td>\n",
       "    </tr>\n",
       "    <tr>\n",
       "      <th>1</th>\n",
       "      <td>1</td>\n",
       "      <td>306</td>\n",
       "      <td>3.5</td>\n",
       "      <td>1147868817</td>\n",
       "    </tr>\n",
       "    <tr>\n",
       "      <th>2</th>\n",
       "      <td>1</td>\n",
       "      <td>307</td>\n",
       "      <td>5.0</td>\n",
       "      <td>1147868828</td>\n",
       "    </tr>\n",
       "    <tr>\n",
       "      <th>3</th>\n",
       "      <td>1</td>\n",
       "      <td>665</td>\n",
       "      <td>5.0</td>\n",
       "      <td>1147878820</td>\n",
       "    </tr>\n",
       "    <tr>\n",
       "      <th>4</th>\n",
       "      <td>1</td>\n",
       "      <td>899</td>\n",
       "      <td>3.5</td>\n",
       "      <td>1147868510</td>\n",
       "    </tr>\n",
       "  </tbody>\n",
       "</table>\n",
       "</div>"
      ],
      "text/plain": [
       "   userId  movieId  rating   timestamp\n",
       "0       1      296     5.0  1147880044\n",
       "1       1      306     3.5  1147868817\n",
       "2       1      307     5.0  1147868828\n",
       "3       1      665     5.0  1147878820\n",
       "4       1      899     3.5  1147868510"
      ]
     },
     "execution_count": 4,
     "metadata": {},
     "output_type": "execute_result"
    }
   ],
   "source": [
    "ratings_df.limit(5).toPandas()"
   ]
  },
  {
   "cell_type": "markdown",
   "metadata": {},
   "source": [
    "## Evaluation Protocol\n",
    "\n",
    "Так как мы хотим оценивать качество разных алгоритмов рекомендаций, то в первую очередь нам нужно определить\n",
    "* Как разбить данные на `Train`/`Validation`/`Test`;\n",
    "* Какие метрики использовать для оценки качества."
   ]
  },
  {
   "cell_type": "markdown",
   "metadata": {},
   "source": [
    "Выбрал способ разбиения №1, чтобы точно не заглядывать в будущее.  \n",
    "\n",
    "Также explicit feedback (т.е. не делать бинарным рейтинг — например понравился фильм или нет — rating > 3), так как есть уже собранный датасет с explicit, что круто\n",
    "\n",
    "Добавил опцию, чтобы оставить только тех пользователей, которые встречаются во всех частях"
   ]
  },
  {
   "cell_type": "code",
   "execution_count": 5,
   "metadata": {},
   "outputs": [],
   "source": [
    "from pyspark.sql.window import Window"
   ]
  },
  {
   "cell_type": "code",
   "execution_count": 6,
   "metadata": {},
   "outputs": [],
   "source": [
    "def split_by_col(df, split_col, parts_fractions, common_users=False, user_col=None):\n",
    "    \"\"\"\n",
    "    df - DataFrame\n",
    "    split_col - total order column\n",
    "    parts_fractions - fractions of resulting parts\n",
    "    \"\"\"\n",
    "    # from homework № 3\n",
    "    df_with_rank = df \\\n",
    "      .withColumn('rank', F.percent_rank().over(Window.orderBy(split_col))) # (sorting inside)\n",
    "    \n",
    "    parts = []    \n",
    "    cumsum = 0\n",
    "    \n",
    "    for part_ratio in parts_fractions:\n",
    "        part = df_with_rank \\\n",
    "                    .filter((cumsum <= df_with_rank['rank'])  \\\n",
    "                              & (df_with_rank['rank'] < cumsum + part_ratio)) \\\n",
    "                    .drop('rank') \\\n",
    "                    .persist()\n",
    "        parts.append(part)\n",
    "        \n",
    "        cumsum += part_ratio\n",
    "    \n",
    "    if common_users:\n",
    "        assert user_col, \"Specify column of user to leave only common\"\n",
    "        \n",
    "        users = [part.select(F.col(user_col)).distinct() for part in parts]\n",
    "        \n",
    "        common_users = users[0]\n",
    "        for users_part in users[1:]:\n",
    "            common_users = common_users.join(users_part, on=user_col)\n",
    "            \n",
    "        parts = [part.join(common_users, on=user_col) for part in parts]       \n",
    "    \n",
    "    return parts"
   ]
  },
  {
   "cell_type": "code",
   "execution_count": 7,
   "metadata": {},
   "outputs": [],
   "source": [
    "train_df, val_df, test_df = split_by_col(ratings_df, 'timestamp', [0.8, 0.1, 0.1], common_users=True, user_col='userId')\n",
    "train_df, val_df, test_df = train_df.cache(), val_df.cache(), test_df.cache()"
   ]
  },
  {
   "cell_type": "code",
   "execution_count": 9,
   "metadata": {},
   "outputs": [],
   "source": [
    "N = ratings_df.count()\n",
    "train_df.count() / N, val_df.count() / N, test_df.count() / N"
   ]
  },
  {
   "cell_type": "markdown",
   "metadata": {},
   "source": [
    "Для оценивания будем использовать Average Treatment Effect и [RankingMetrics](https://spark.apache.org/docs/2.3.0/api/python/pyspark.mllib.html#pyspark.mllib.evaluation.RankingMetrics):\n",
    "* MAP\n",
    "* NDCG \n",
    "* Precision at k\n",
    "А также можно подойти как к задаче регрессии: а именно разность предсказания и настоящей оценки пользователя"
   ]
  },
  {
   "cell_type": "code",
   "execution_count": 10,
   "metadata": {},
   "outputs": [],
   "source": [
    "def get_ate(groups, control_name) -> pd.DataFrame:\n",
    "    \"\"\"Get Average Treatment Effect\n",
    "    groups - dictionary where keys - names of models, values - dicts of pairs <metric_name>, <metric_value>\n",
    "    control_name - name of baseline model\n",
    "    \n",
    "    return pd.DataFrame (rows corresponds to metrics, cols corresponds to models and ATE with respect to control)\n",
    "    \"\"\"\n",
    "    metrics = pd.DataFrame.from_records(groups, columns=groups.keys())\n",
    "    metrics.index.name = 'metric'\n",
    "    return metrics.subtract(metrics[control_name], axis='index') * 100"
   ]
  },
  {
   "cell_type": "code",
   "execution_count": 11,
   "metadata": {},
   "outputs": [],
   "source": [
    "from pyspark.ml.evaluation import RegressionEvaluator\n",
    "\n",
    "from pyspark.mllib.evaluation import RankingMetrics"
   ]
  },
  {
   "cell_type": "code",
   "execution_count": 12,
   "metadata": {},
   "outputs": [],
   "source": [
    "def test_model(df, model):\n",
    "    # regression: evaluate the model by computing the RMSE\n",
    "    predictions = model.transform(df)\n",
    "    evaluator = RegressionEvaluator(metricName=\"rmse\", labelCol=\"rating\",\n",
    "                                    predictionCol=\"prediction\")\n",
    "    rmse = evaluator.evaluate(predictions)\n",
    "    regression_metrics = {'rmse': rmse}\n",
    "    \n",
    "    # ranking\n",
    "    top_Ns = [1, 5, 10]\n",
    "    \n",
    "    users = df.select('userId').distinct()\n",
    "    recommendations = model.recommendForUserSubset(users, numItems=max(top_Ns))\n",
    "    \n",
    "    true_items = df \\\n",
    "        .groupby('userId') \\\n",
    "        .agg(F.collect_set('movieId').alias('true_movies'))\n",
    "    \n",
    "    pred_and_true = true_items \\\n",
    "        .join(recommendations, 'userId') \\\n",
    "        .select('recommendations', 'true_movies') \\\n",
    "        .rdd \\\n",
    "        .map(lambda row: (list(map(lambda x: x.movieId, row[0])), row[1]))\n",
    "    \n",
    "    ranking_metrics = RankingMetrics(pred_and_true)    \n",
    "    ranking_metrics_values = {\n",
    "        **{\"Precision@{}\".format(N): ranking_metrics.precisionAt(N) for N in top_Ns},\n",
    "        **{\"NDCG@{}\".format(N): ranking_metrics.ndcgAt(N) for N in top_Ns},\n",
    "        \"MAP@{}\".format(max(top_Ns)) : ranking_metrics.meanAveragePrecision\n",
    "    }\n",
    "    \n",
    "    return {**regression_metrics, **ranking_metrics_values}"
   ]
  },
  {
   "cell_type": "markdown",
   "metadata": {},
   "source": [
    "## Models\n",
    "\n",
    "Теперь мы можем перейти к формулировке задачи в терминах машинного обучения.\n",
    "\n",
    "Одна из формулировок, к которой мы сведем нашу задачу - **Matrix Completetion**. Данную задачу будем решать с помощью `ALS`"
   ]
  },
  {
   "cell_type": "markdown",
   "metadata": {},
   "source": [
    "### [ALS](https://spark.apache.org/docs/latest/ml-collaborative-filtering.html#explicit-vs-implicit-feedback)"
   ]
  },
  {
   "cell_type": "code",
   "execution_count": 13,
   "metadata": {},
   "outputs": [],
   "source": [
    "from pyspark.ml.recommendation import ALS"
   ]
  },
  {
   "cell_type": "code",
   "execution_count": 14,
   "metadata": {},
   "outputs": [],
   "source": [
    "ALS_static_params = {\n",
    "    'implicitPrefs': False,\n",
    "    'userCol': 'userId',\n",
    "    'itemCol': 'movieId',\n",
    "    'ratingCol': 'rating',\n",
    "    'coldStartStrategy': 'drop',\n",
    "}"
   ]
  },
  {
   "cell_type": "code",
   "execution_count": 15,
   "metadata": {},
   "outputs": [],
   "source": [
    "als = ALS(**ALS_static_params)"
   ]
  },
  {
   "cell_type": "code",
   "execution_count": 14,
   "metadata": {},
   "outputs": [
    {
     "name": "stdout",
     "output_type": "stream",
     "text": [
      "CPU times: user 28 ms, sys: 12.1 ms, total: 40.1 ms\n",
      "Wall time: 2min 48s\n"
     ]
    }
   ],
   "source": [
    "%%time\n",
    "als_baseline_model = als.fit(train_df)"
   ]
  },
  {
   "cell_type": "code",
   "execution_count": 15,
   "metadata": {},
   "outputs": [],
   "source": [
    "als_baseline_metrics = test_model(test_df, als_baseline_model)"
   ]
  },
  {
   "cell_type": "code",
   "execution_count": 16,
   "metadata": {
    "scrolled": true
   },
   "outputs": [
    {
     "data": {
      "text/plain": [
       "{'MAP@10': 5.559622687812465e-06,\n",
       " 'NDCG@1': 0.0,\n",
       " 'NDCG@10': 0.0004756600202195305,\n",
       " 'NDCG@5': 0.00036512865098158216,\n",
       " 'Precision@1': 0.0,\n",
       " 'Precision@10': 0.0005679919812896758,\n",
       " 'Precision@5': 0.00046775810223855684,\n",
       " 'rmse': 0.9421837158466277}"
      ]
     },
     "execution_count": 16,
     "metadata": {},
     "output_type": "execute_result"
    }
   ],
   "source": [
    "als_baseline_metrics"
   ]
  },
  {
   "cell_type": "code",
   "execution_count": 17,
   "metadata": {},
   "outputs": [],
   "source": [
    "from collections import OrderedDict"
   ]
  },
  {
   "cell_type": "code",
   "execution_count": 18,
   "metadata": {},
   "outputs": [],
   "source": [
    "all_metrics = OrderedDict()"
   ]
  },
  {
   "cell_type": "code",
   "execution_count": 19,
   "metadata": {},
   "outputs": [],
   "source": [
    "all_metrics['als_baseline'] = als_baseline_metrics"
   ]
  },
  {
   "cell_type": "markdown",
   "metadata": {},
   "source": [
    "Покажите для выбранных вами фильмов топ-20 наиболее похожих фильмов"
   ]
  },
  {
   "cell_type": "code",
   "execution_count": 143,
   "metadata": {},
   "outputs": [],
   "source": [
    "movies_df = sqlContext.read.format(\"com.databricks.spark.csv\") \\\n",
    "    .option(\"delimiter\", \",\") \\\n",
    "    .option(\"header\", \"true\") \\\n",
    "    .option(\"inferSchema\", \"true\") \\\n",
    "    .load('file:///' + MOVIES_PATH)"
   ]
  },
  {
   "cell_type": "code",
   "execution_count": 144,
   "metadata": {},
   "outputs": [],
   "source": [
    "from scipy.spatial.distance import cosine \n",
    "\n",
    "@F.udf(returnType=FloatType())\n",
    "def cosine_similarity(x, y):\n",
    "    return float(1 - cosine(x, y))"
   ]
  },
  {
   "cell_type": "code",
   "execution_count": 145,
   "metadata": {},
   "outputs": [],
   "source": [
    "def most_similar_movies(movie_id, model_features, top_n=10):\n",
    "    movie_features = model_features \\\n",
    "                    .filter(F.col('id') == movie_id) \\\n",
    "                    .select(F.col('id').alias('movie_id'), F.col('features').alias('movie_features'))\n",
    "    \n",
    "    similar = model_features \\\n",
    "                    .crossJoin(movie_features) \\\n",
    "                    .withColumn('sim', cosine_similarity('movie_features', 'features')) \\\n",
    "                    .select(F.col('id').alias('movieId'), 'sim') \\\n",
    "                    .sort(F.col('sim').desc()) \\\n",
    "                    .limit(top_n)\n",
    "    \n",
    "    return similar.join(movies_df, on='movieId').sort(F.col('sim').desc()) "
   ]
  },
  {
   "cell_type": "code",
   "execution_count": 148,
   "metadata": {},
   "outputs": [
    {
     "data": {
      "text/html": [
       "<div>\n",
       "<style scoped>\n",
       "    .dataframe tbody tr th:only-of-type {\n",
       "        vertical-align: middle;\n",
       "    }\n",
       "\n",
       "    .dataframe tbody tr th {\n",
       "        vertical-align: top;\n",
       "    }\n",
       "\n",
       "    .dataframe thead th {\n",
       "        text-align: right;\n",
       "    }\n",
       "</style>\n",
       "<table border=\"1\" class=\"dataframe\">\n",
       "  <thead>\n",
       "    <tr style=\"text-align: right;\">\n",
       "      <th></th>\n",
       "      <th>movieId</th>\n",
       "      <th>sim</th>\n",
       "      <th>title</th>\n",
       "      <th>genres</th>\n",
       "    </tr>\n",
       "  </thead>\n",
       "  <tbody>\n",
       "    <tr>\n",
       "      <th>0</th>\n",
       "      <td>1</td>\n",
       "      <td>1.000000</td>\n",
       "      <td>Toy Story (1995)</td>\n",
       "      <td>Adventure|Animation|Children|Comedy|Fantasy</td>\n",
       "    </tr>\n",
       "    <tr>\n",
       "      <th>1</th>\n",
       "      <td>3114</td>\n",
       "      <td>0.996000</td>\n",
       "      <td>Toy Story 2 (1999)</td>\n",
       "      <td>Adventure|Animation|Children|Comedy|Fantasy</td>\n",
       "    </tr>\n",
       "    <tr>\n",
       "      <th>2</th>\n",
       "      <td>2355</td>\n",
       "      <td>0.992900</td>\n",
       "      <td>Bug's Life, A (1998)</td>\n",
       "      <td>Adventure|Animation|Children|Comedy</td>\n",
       "    </tr>\n",
       "    <tr>\n",
       "      <th>3</th>\n",
       "      <td>4886</td>\n",
       "      <td>0.977806</td>\n",
       "      <td>Monsters, Inc. (2001)</td>\n",
       "      <td>Adventure|Animation|Children|Comedy|Fantasy</td>\n",
       "    </tr>\n",
       "    <tr>\n",
       "      <th>4</th>\n",
       "      <td>80862</td>\n",
       "      <td>0.975387</td>\n",
       "      <td>Catfish (2010)</td>\n",
       "      <td>Documentary|Mystery</td>\n",
       "    </tr>\n",
       "    <tr>\n",
       "      <th>5</th>\n",
       "      <td>8961</td>\n",
       "      <td>0.972890</td>\n",
       "      <td>Incredibles, The (2004)</td>\n",
       "      <td>Action|Adventure|Animation|Children|Comedy</td>\n",
       "    </tr>\n",
       "    <tr>\n",
       "      <th>6</th>\n",
       "      <td>6377</td>\n",
       "      <td>0.972354</td>\n",
       "      <td>Finding Nemo (2003)</td>\n",
       "      <td>Adventure|Animation|Children|Comedy</td>\n",
       "    </tr>\n",
       "    <tr>\n",
       "      <th>7</th>\n",
       "      <td>2294</td>\n",
       "      <td>0.969500</td>\n",
       "      <td>Antz (1998)</td>\n",
       "      <td>Adventure|Animation|Children|Comedy|Fantasy</td>\n",
       "    </tr>\n",
       "    <tr>\n",
       "      <th>8</th>\n",
       "      <td>78737</td>\n",
       "      <td>0.969368</td>\n",
       "      <td>Captain from Castile (1947)</td>\n",
       "      <td>Adventure|Drama</td>\n",
       "    </tr>\n",
       "    <tr>\n",
       "      <th>9</th>\n",
       "      <td>2078</td>\n",
       "      <td>0.969146</td>\n",
       "      <td>Jungle Book, The (1967)</td>\n",
       "      <td>Animation|Children|Comedy|Musical</td>\n",
       "    </tr>\n",
       "  </tbody>\n",
       "</table>\n",
       "</div>"
      ],
      "text/plain": [
       "   movieId       sim                        title  \\\n",
       "0        1  1.000000             Toy Story (1995)   \n",
       "1     3114  0.996000           Toy Story 2 (1999)   \n",
       "2     2355  0.992900         Bug's Life, A (1998)   \n",
       "3     4886  0.977806        Monsters, Inc. (2001)   \n",
       "4    80862  0.975387               Catfish (2010)   \n",
       "5     8961  0.972890      Incredibles, The (2004)   \n",
       "6     6377  0.972354          Finding Nemo (2003)   \n",
       "7     2294  0.969500                  Antz (1998)   \n",
       "8    78737  0.969368  Captain from Castile (1947)   \n",
       "9     2078  0.969146      Jungle Book, The (1967)   \n",
       "\n",
       "                                        genres  \n",
       "0  Adventure|Animation|Children|Comedy|Fantasy  \n",
       "1  Adventure|Animation|Children|Comedy|Fantasy  \n",
       "2          Adventure|Animation|Children|Comedy  \n",
       "3  Adventure|Animation|Children|Comedy|Fantasy  \n",
       "4                          Documentary|Mystery  \n",
       "5   Action|Adventure|Animation|Children|Comedy  \n",
       "6          Adventure|Animation|Children|Comedy  \n",
       "7  Adventure|Animation|Children|Comedy|Fantasy  \n",
       "8                              Adventure|Drama  \n",
       "9            Animation|Children|Comedy|Musical  "
      ]
     },
     "execution_count": 148,
     "metadata": {},
     "output_type": "execute_result"
    }
   ],
   "source": [
    "most_similar_movies(1, als_baseline_model.itemFactors).toPandas()"
   ]
  },
  {
   "cell_type": "markdown",
   "metadata": {},
   "source": [
    "История игрушек 2 похожа на Историю игрушек 1, что вполне оправданно  \n",
    "\n",
    "0, 1, 2, 3, 5, 6 - фильмы Pixar"
   ]
  },
  {
   "cell_type": "code",
   "execution_count": 149,
   "metadata": {},
   "outputs": [
    {
     "data": {
      "text/html": [
       "<div>\n",
       "<style scoped>\n",
       "    .dataframe tbody tr th:only-of-type {\n",
       "        vertical-align: middle;\n",
       "    }\n",
       "\n",
       "    .dataframe tbody tr th {\n",
       "        vertical-align: top;\n",
       "    }\n",
       "\n",
       "    .dataframe thead th {\n",
       "        text-align: right;\n",
       "    }\n",
       "</style>\n",
       "<table border=\"1\" class=\"dataframe\">\n",
       "  <thead>\n",
       "    <tr style=\"text-align: right;\">\n",
       "      <th></th>\n",
       "      <th>movieId</th>\n",
       "      <th>sim</th>\n",
       "      <th>title</th>\n",
       "      <th>genres</th>\n",
       "    </tr>\n",
       "  </thead>\n",
       "  <tbody>\n",
       "    <tr>\n",
       "      <th>0</th>\n",
       "      <td>296</td>\n",
       "      <td>1.000000</td>\n",
       "      <td>Pulp Fiction (1994)</td>\n",
       "      <td>Comedy|Crime|Drama|Thriller</td>\n",
       "    </tr>\n",
       "    <tr>\n",
       "      <th>1</th>\n",
       "      <td>1089</td>\n",
       "      <td>0.990733</td>\n",
       "      <td>Reservoir Dogs (1992)</td>\n",
       "      <td>Crime|Mystery|Thriller</td>\n",
       "    </tr>\n",
       "    <tr>\n",
       "      <th>2</th>\n",
       "      <td>67168</td>\n",
       "      <td>0.978129</td>\n",
       "      <td>Dance of the Dead (2008)</td>\n",
       "      <td>Adventure|Comedy|Horror</td>\n",
       "    </tr>\n",
       "    <tr>\n",
       "      <th>3</th>\n",
       "      <td>778</td>\n",
       "      <td>0.978029</td>\n",
       "      <td>Trainspotting (1996)</td>\n",
       "      <td>Comedy|Crime|Drama</td>\n",
       "    </tr>\n",
       "    <tr>\n",
       "      <th>4</th>\n",
       "      <td>555</td>\n",
       "      <td>0.975035</td>\n",
       "      <td>True Romance (1993)</td>\n",
       "      <td>Crime|Thriller</td>\n",
       "    </tr>\n",
       "    <tr>\n",
       "      <th>5</th>\n",
       "      <td>4251</td>\n",
       "      <td>0.970117</td>\n",
       "      <td>Chopper (2000)</td>\n",
       "      <td>Drama|Thriller</td>\n",
       "    </tr>\n",
       "    <tr>\n",
       "      <th>6</th>\n",
       "      <td>1222</td>\n",
       "      <td>0.969624</td>\n",
       "      <td>Full Metal Jacket (1987)</td>\n",
       "      <td>Drama|War</td>\n",
       "    </tr>\n",
       "    <tr>\n",
       "      <th>7</th>\n",
       "      <td>223</td>\n",
       "      <td>0.968471</td>\n",
       "      <td>Clerks (1994)</td>\n",
       "      <td>Comedy</td>\n",
       "    </tr>\n",
       "    <tr>\n",
       "      <th>8</th>\n",
       "      <td>26574</td>\n",
       "      <td>0.968295</td>\n",
       "      <td>Ginger and Fred (Ginger e Fred) (1986)</td>\n",
       "      <td>Comedy|Drama</td>\n",
       "    </tr>\n",
       "    <tr>\n",
       "      <th>9</th>\n",
       "      <td>6874</td>\n",
       "      <td>0.965939</td>\n",
       "      <td>Kill Bill: Vol. 1 (2003)</td>\n",
       "      <td>Action|Crime|Thriller</td>\n",
       "    </tr>\n",
       "  </tbody>\n",
       "</table>\n",
       "</div>"
      ],
      "text/plain": [
       "   movieId       sim                                   title  \\\n",
       "0      296  1.000000                     Pulp Fiction (1994)   \n",
       "1     1089  0.990733                   Reservoir Dogs (1992)   \n",
       "2    67168  0.978129                Dance of the Dead (2008)   \n",
       "3      778  0.978029                    Trainspotting (1996)   \n",
       "4      555  0.975035                     True Romance (1993)   \n",
       "5     4251  0.970117                          Chopper (2000)   \n",
       "6     1222  0.969624                Full Metal Jacket (1987)   \n",
       "7      223  0.968471                           Clerks (1994)   \n",
       "8    26574  0.968295  Ginger and Fred (Ginger e Fred) (1986)   \n",
       "9     6874  0.965939                Kill Bill: Vol. 1 (2003)   \n",
       "\n",
       "                        genres  \n",
       "0  Comedy|Crime|Drama|Thriller  \n",
       "1       Crime|Mystery|Thriller  \n",
       "2      Adventure|Comedy|Horror  \n",
       "3           Comedy|Crime|Drama  \n",
       "4               Crime|Thriller  \n",
       "5               Drama|Thriller  \n",
       "6                    Drama|War  \n",
       "7                       Comedy  \n",
       "8                 Comedy|Drama  \n",
       "9        Action|Crime|Thriller  "
      ]
     },
     "execution_count": 149,
     "metadata": {},
     "output_type": "execute_result"
    }
   ],
   "source": [
    "most_similar_movies(296, als_baseline_model.itemFactors).toPandas()"
   ]
  },
  {
   "cell_type": "markdown",
   "metadata": {},
   "source": [
    "3 фильма от Тарантино (True Romance - сценарист)"
   ]
  },
  {
   "cell_type": "code",
   "execution_count": 150,
   "metadata": {},
   "outputs": [
    {
     "data": {
      "text/html": [
       "<div>\n",
       "<style scoped>\n",
       "    .dataframe tbody tr th:only-of-type {\n",
       "        vertical-align: middle;\n",
       "    }\n",
       "\n",
       "    .dataframe tbody tr th {\n",
       "        vertical-align: top;\n",
       "    }\n",
       "\n",
       "    .dataframe thead th {\n",
       "        text-align: right;\n",
       "    }\n",
       "</style>\n",
       "<table border=\"1\" class=\"dataframe\">\n",
       "  <thead>\n",
       "    <tr style=\"text-align: right;\">\n",
       "      <th></th>\n",
       "      <th>movieId</th>\n",
       "      <th>sim</th>\n",
       "      <th>title</th>\n",
       "      <th>genres</th>\n",
       "    </tr>\n",
       "  </thead>\n",
       "  <tbody>\n",
       "    <tr>\n",
       "      <th>0</th>\n",
       "      <td>260</td>\n",
       "      <td>1.000000</td>\n",
       "      <td>Star Wars: Episode IV - A New Hope (1977)</td>\n",
       "      <td>Action|Adventure|Sci-Fi</td>\n",
       "    </tr>\n",
       "    <tr>\n",
       "      <th>1</th>\n",
       "      <td>1196</td>\n",
       "      <td>0.995534</td>\n",
       "      <td>Star Wars: Episode V - The Empire Strikes Back...</td>\n",
       "      <td>Action|Adventure|Sci-Fi</td>\n",
       "    </tr>\n",
       "    <tr>\n",
       "      <th>2</th>\n",
       "      <td>1210</td>\n",
       "      <td>0.984139</td>\n",
       "      <td>Star Wars: Episode VI - Return of the Jedi (1983)</td>\n",
       "      <td>Action|Adventure|Sci-Fi</td>\n",
       "    </tr>\n",
       "    <tr>\n",
       "      <th>3</th>\n",
       "      <td>1198</td>\n",
       "      <td>0.983977</td>\n",
       "      <td>Raiders of the Lost Ark (Indiana Jones and the...</td>\n",
       "      <td>Action|Adventure</td>\n",
       "    </tr>\n",
       "    <tr>\n",
       "      <th>4</th>\n",
       "      <td>1374</td>\n",
       "      <td>0.976134</td>\n",
       "      <td>Star Trek II: The Wrath of Khan (1982)</td>\n",
       "      <td>Action|Adventure|Sci-Fi|Thriller</td>\n",
       "    </tr>\n",
       "    <tr>\n",
       "      <th>5</th>\n",
       "      <td>1291</td>\n",
       "      <td>0.974766</td>\n",
       "      <td>Indiana Jones and the Last Crusade (1989)</td>\n",
       "      <td>Action|Adventure</td>\n",
       "    </tr>\n",
       "    <tr>\n",
       "      <th>6</th>\n",
       "      <td>77966</td>\n",
       "      <td>0.971665</td>\n",
       "      <td>Love the Beast (2009)</td>\n",
       "      <td>Documentary</td>\n",
       "    </tr>\n",
       "    <tr>\n",
       "      <th>7</th>\n",
       "      <td>8771</td>\n",
       "      <td>0.966122</td>\n",
       "      <td>Sherlock Holmes: Terror by Night (1946)</td>\n",
       "      <td>Crime|Mystery|Thriller</td>\n",
       "    </tr>\n",
       "    <tr>\n",
       "      <th>8</th>\n",
       "      <td>73981</td>\n",
       "      <td>0.963986</td>\n",
       "      <td>Man Hunt (1941)</td>\n",
       "      <td>Crime|Drama|Thriller</td>\n",
       "    </tr>\n",
       "    <tr>\n",
       "      <th>9</th>\n",
       "      <td>2716</td>\n",
       "      <td>0.962633</td>\n",
       "      <td>Ghostbusters (a.k.a. Ghost Busters) (1984)</td>\n",
       "      <td>Action|Comedy|Sci-Fi</td>\n",
       "    </tr>\n",
       "  </tbody>\n",
       "</table>\n",
       "</div>"
      ],
      "text/plain": [
       "   movieId       sim                                              title  \\\n",
       "0      260  1.000000          Star Wars: Episode IV - A New Hope (1977)   \n",
       "1     1196  0.995534  Star Wars: Episode V - The Empire Strikes Back...   \n",
       "2     1210  0.984139  Star Wars: Episode VI - Return of the Jedi (1983)   \n",
       "3     1198  0.983977  Raiders of the Lost Ark (Indiana Jones and the...   \n",
       "4     1374  0.976134             Star Trek II: The Wrath of Khan (1982)   \n",
       "5     1291  0.974766          Indiana Jones and the Last Crusade (1989)   \n",
       "6    77966  0.971665                              Love the Beast (2009)   \n",
       "7     8771  0.966122            Sherlock Holmes: Terror by Night (1946)   \n",
       "8    73981  0.963986                                    Man Hunt (1941)   \n",
       "9     2716  0.962633         Ghostbusters (a.k.a. Ghost Busters) (1984)   \n",
       "\n",
       "                             genres  \n",
       "0           Action|Adventure|Sci-Fi  \n",
       "1           Action|Adventure|Sci-Fi  \n",
       "2           Action|Adventure|Sci-Fi  \n",
       "3                  Action|Adventure  \n",
       "4  Action|Adventure|Sci-Fi|Thriller  \n",
       "5                  Action|Adventure  \n",
       "6                       Documentary  \n",
       "7            Crime|Mystery|Thriller  \n",
       "8              Crime|Drama|Thriller  \n",
       "9              Action|Comedy|Sci-Fi  "
      ]
     },
     "execution_count": 150,
     "metadata": {},
     "output_type": "execute_result"
    }
   ],
   "source": [
    "most_similar_movies(260, als_baseline_model.itemFactors).toPandas()"
   ]
  },
  {
   "cell_type": "markdown",
   "metadata": {},
   "source": [
    "В топе звездные войны"
   ]
  },
  {
   "cell_type": "code",
   "execution_count": 151,
   "metadata": {},
   "outputs": [
    {
     "data": {
      "text/html": [
       "<div>\n",
       "<style scoped>\n",
       "    .dataframe tbody tr th:only-of-type {\n",
       "        vertical-align: middle;\n",
       "    }\n",
       "\n",
       "    .dataframe tbody tr th {\n",
       "        vertical-align: top;\n",
       "    }\n",
       "\n",
       "    .dataframe thead th {\n",
       "        text-align: right;\n",
       "    }\n",
       "</style>\n",
       "<table border=\"1\" class=\"dataframe\">\n",
       "  <thead>\n",
       "    <tr style=\"text-align: right;\">\n",
       "      <th></th>\n",
       "      <th>movieId</th>\n",
       "      <th>sim</th>\n",
       "      <th>title</th>\n",
       "      <th>genres</th>\n",
       "    </tr>\n",
       "  </thead>\n",
       "  <tbody>\n",
       "    <tr>\n",
       "      <th>0</th>\n",
       "      <td>58559</td>\n",
       "      <td>1.000000</td>\n",
       "      <td>Dark Knight, The (2008)</td>\n",
       "      <td>Action|Crime|Drama|IMAX</td>\n",
       "    </tr>\n",
       "    <tr>\n",
       "      <th>1</th>\n",
       "      <td>33794</td>\n",
       "      <td>0.993886</td>\n",
       "      <td>Batman Begins (2005)</td>\n",
       "      <td>Action|Crime|IMAX</td>\n",
       "    </tr>\n",
       "    <tr>\n",
       "      <th>2</th>\n",
       "      <td>79132</td>\n",
       "      <td>0.988752</td>\n",
       "      <td>Inception (2010)</td>\n",
       "      <td>Action|Crime|Drama|Mystery|Sci-Fi|Thriller|IMAX</td>\n",
       "    </tr>\n",
       "    <tr>\n",
       "      <th>3</th>\n",
       "      <td>49272</td>\n",
       "      <td>0.988206</td>\n",
       "      <td>Casino Royale (2006)</td>\n",
       "      <td>Action|Adventure|Thriller</td>\n",
       "    </tr>\n",
       "    <tr>\n",
       "      <th>4</th>\n",
       "      <td>48780</td>\n",
       "      <td>0.984723</td>\n",
       "      <td>Prestige, The (2006)</td>\n",
       "      <td>Drama|Mystery|Sci-Fi|Thriller</td>\n",
       "    </tr>\n",
       "    <tr>\n",
       "      <th>5</th>\n",
       "      <td>54997</td>\n",
       "      <td>0.981426</td>\n",
       "      <td>3:10 to Yuma (2007)</td>\n",
       "      <td>Action|Crime|Drama|Western</td>\n",
       "    </tr>\n",
       "    <tr>\n",
       "      <th>6</th>\n",
       "      <td>76251</td>\n",
       "      <td>0.981426</td>\n",
       "      <td>Kick-Ass (2010)</td>\n",
       "      <td>Action|Comedy</td>\n",
       "    </tr>\n",
       "    <tr>\n",
       "      <th>7</th>\n",
       "      <td>77833</td>\n",
       "      <td>0.980662</td>\n",
       "      <td>Armadillo (2010)</td>\n",
       "      <td>Documentary|Drama</td>\n",
       "    </tr>\n",
       "    <tr>\n",
       "      <th>8</th>\n",
       "      <td>79333</td>\n",
       "      <td>0.980321</td>\n",
       "      <td>Watch Out for the Automobile (Beregis avtomobi...</td>\n",
       "      <td>Comedy|Crime|Romance</td>\n",
       "    </tr>\n",
       "    <tr>\n",
       "      <th>9</th>\n",
       "      <td>71817</td>\n",
       "      <td>0.980078</td>\n",
       "      <td>Beer Wars (2009)</td>\n",
       "      <td>Documentary</td>\n",
       "    </tr>\n",
       "  </tbody>\n",
       "</table>\n",
       "</div>"
      ],
      "text/plain": [
       "   movieId       sim                                              title  \\\n",
       "0    58559  1.000000                            Dark Knight, The (2008)   \n",
       "1    33794  0.993886                               Batman Begins (2005)   \n",
       "2    79132  0.988752                                   Inception (2010)   \n",
       "3    49272  0.988206                               Casino Royale (2006)   \n",
       "4    48780  0.984723                               Prestige, The (2006)   \n",
       "5    54997  0.981426                                3:10 to Yuma (2007)   \n",
       "6    76251  0.981426                                    Kick-Ass (2010)   \n",
       "7    77833  0.980662                                   Armadillo (2010)   \n",
       "8    79333  0.980321  Watch Out for the Automobile (Beregis avtomobi...   \n",
       "9    71817  0.980078                                   Beer Wars (2009)   \n",
       "\n",
       "                                            genres  \n",
       "0                          Action|Crime|Drama|IMAX  \n",
       "1                                Action|Crime|IMAX  \n",
       "2  Action|Crime|Drama|Mystery|Sci-Fi|Thriller|IMAX  \n",
       "3                        Action|Adventure|Thriller  \n",
       "4                    Drama|Mystery|Sci-Fi|Thriller  \n",
       "5                       Action|Crime|Drama|Western  \n",
       "6                                    Action|Comedy  \n",
       "7                                Documentary|Drama  \n",
       "8                             Comedy|Crime|Romance  \n",
       "9                                      Documentary  "
      ]
     },
     "execution_count": 151,
     "metadata": {},
     "output_type": "execute_result"
    }
   ],
   "source": [
    "most_similar_movies(58559, als_baseline_model.itemFactors).toPandas()"
   ]
  },
  {
   "cell_type": "markdown",
   "metadata": {},
   "source": [
    "0, 1, 2, 4 - фильмы Нолана"
   ]
  },
  {
   "cell_type": "markdown",
   "metadata": {},
   "source": [
    "### Ваша формулировка\n",
    "\n",
    "На лекции было еще несколько ML формулировок задачи рекомендаций. Выберете одну из них и реализуйте метод."
   ]
  },
  {
   "cell_type": "code",
   "execution_count": null,
   "metadata": {},
   "outputs": [],
   "source": [
    "######################################\n",
    "######### YOUR CODE HERE #############\n",
    "######################################"
   ]
  },
  {
   "cell_type": "markdown",
   "metadata": {},
   "source": [
    "## Evaluation Results\n",
    "\n",
    "Сравните реализованные методы с помощью выбранных метрик. Не забывайте про оптимизацию гиперпараметров."
   ]
  },
  {
   "cell_type": "code",
   "execution_count": 20,
   "metadata": {},
   "outputs": [
    {
     "name": "stdout",
     "output_type": "stream",
     "text": [
      "Requirement already satisfied: hyperopt in /usr/lib/python3.5/site-packages (0.2.3)\r\n",
      "Requirement already satisfied: scipy in /usr/lib64/python3.5/site-packages (from hyperopt) (1.3.3)\r\n",
      "Requirement already satisfied: numpy in /usr/lib64/python3.5/site-packages (from hyperopt) (1.17.2)\r\n",
      "Requirement already satisfied: cloudpickle in /usr/lib/python3.5/site-packages (from hyperopt) (1.3.0)\r\n",
      "Requirement already satisfied: networkx==2.2 in /usr/lib/python3.5/site-packages (from hyperopt) (2.2)\r\n",
      "Requirement already satisfied: six in /usr/lib/python3.5/site-packages (from hyperopt) (1.14.0)\r\n",
      "Requirement already satisfied: future in /usr/lib/python3.5/site-packages (from hyperopt) (0.18.2)\r\n",
      "Requirement already satisfied: tqdm in /usr/lib/python3.5/site-packages (from hyperopt) (4.45.0)\r\n",
      "Requirement already satisfied: decorator>=4.3.0 in /usr/lib/python3.5/site-packages (from networkx==2.2->hyperopt) (4.4.1)\r\n"
     ]
    }
   ],
   "source": [
    "! pip3.5 install hyperopt"
   ]
  },
  {
   "cell_type": "code",
   "execution_count": 16,
   "metadata": {},
   "outputs": [],
   "source": [
    "from hyperopt import fmin, tpe, hp, Trials, STATUS_OK\n",
    "\n",
    "should_cast_to_int = ['rank', 'maxIter', 'numUserBlocks', 'numItemBlocks']\n",
    "\n",
    "def cast_to_int(space):\n",
    "    for param in should_cast_to_int:\n",
    "        space[param] = int(space[param])\n",
    "    return space\n",
    "\n",
    "def objective(space):\n",
    "    space = cast_to_int(space)\n",
    "    print(\"\\nSpace: \", space)\n",
    "    als = ALS(**space)\n",
    "    fitted_model = als.fit(train_df)\n",
    "    print(\"Done training\")\n",
    "    metrics = test_model(val_df, fitted_model)    \n",
    "    print(metrics)\n",
    "\n",
    "    return {'loss': -metrics['MAP@10'], 'status': STATUS_OK }"
   ]
  },
  {
   "cell_type": "code",
   "execution_count": 17,
   "metadata": {},
   "outputs": [],
   "source": [
    "als_space = {\n",
    "    # Optimize\n",
    "    'rank': hp.quniform('rank', 2, 50, 4),\n",
    "    'maxIter': hp.quniform('maxIter', 2, 30, 4),\n",
    "    'regParam': hp.loguniform('regParam', -4, 0),\n",
    "    'numUserBlocks': hp.quniform('numUserBlocks', 2, 30, 4),\n",
    "    'numItemBlocks': hp.quniform('numItemBlocks', 2, 30, 4),\n",
    "    \n",
    "    **ALS_static_params\n",
    "}"
   ]
  },
  {
   "cell_type": "code",
   "execution_count": null,
   "metadata": {},
   "outputs": [
    {
     "name": "stdout",
     "output_type": "stream",
     "text": [
      "                                                      \n",
      "Space: \n",
      "{'coldStartStrategy': 'drop', 'userCol': 'userId', 'implicitPrefs': False, 'rank': 12, 'numUserBlocks': 12, 'ratingCol': 'rating', 'regParam': 0.029980628141101903, 'maxIter': 8, 'itemCol': 'movieId', 'numItemBlocks': 16}\n",
      "{'NDCG@1': 0.0006682258603407954, 'rmse': 0.859194142209738, 'NDCG@10': 0.0010494608114461977, 'Precision@5': 0.0009355162044771135, 'MAP@10': 1.5458243788489057e-05, 'Precision@10': 0.001169395255596392, 'Precision@1': 0.0006682258603407954, 'NDCG@5': 0.000836594019627714}\n",
      "                                                                                       \n",
      "Space: \n",
      "{'coldStartStrategy': 'drop', 'userCol': 'userId', 'implicitPrefs': False, 'rank': 16, 'numUserBlocks': 8, 'ratingCol': 'rating', 'regParam': 0.04498241642290061, 'maxIter': 12, 'itemCol': 'movieId', 'numItemBlocks': 20}\n",
      "  5%|▌         | 1/20 [04:10<1:19:22, 250.67s/trial, best loss: 1.5458243788489057e-05]"
     ]
    }
   ],
   "source": [
    "trials = Trials()\n",
    "best = fmin(fn=objective,\n",
    "            space=als_space,\n",
    "            algo=tpe.suggest,\n",
    "            max_evals=20,\n",
    "            trials=trials)"
   ]
  },
  {
   "cell_type": "code",
   "execution_count": null,
   "metadata": {},
   "outputs": [],
   "source": [
    "######################################\n",
    "######### YOUR CODE HERE #############\n",
    "######################################"
   ]
  }
 ],
 "metadata": {
  "kernelspec": {
   "display_name": "Python 3",
   "language": "python",
   "name": "python3"
  },
  "language_info": {
   "codemirror_mode": {
    "name": "ipython",
    "version": 3
   },
   "file_extension": ".py",
   "mimetype": "text/x-python",
   "name": "python",
   "nbconvert_exporter": "python",
   "pygments_lexer": "ipython3",
   "version": "3.5.6"
  },
  "toc": {
   "base_numbering": 1,
   "nav_menu": {},
   "number_sections": true,
   "sideBar": true,
   "skip_h1_title": false,
   "title_cell": "Table of Contents",
   "title_sidebar": "Contents",
   "toc_cell": true,
   "toc_position": {},
   "toc_section_display": true,
   "toc_window_display": true
  }
 },
 "nbformat": 4,
 "nbformat_minor": 2
}

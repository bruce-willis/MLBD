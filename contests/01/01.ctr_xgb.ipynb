{
 "cells": [
  {
   "cell_type": "code",
   "execution_count": 1,
   "metadata": {},
   "outputs": [
    {
     "name": "stdout",
     "output_type": "stream",
     "text": [
      "Requirement already satisfied: xgboost in /usr/lib/python3.5/site-packages (1.0.2)\n",
      "Requirement already satisfied: numpy in /usr/lib64/python3.5/site-packages (from xgboost) (1.17.2)\n",
      "Requirement already satisfied: scipy in /usr/lib64/python3.5/site-packages (from xgboost) (1.3.3)\n"
     ]
    }
   ],
   "source": [
    "! pip3.5 install xgboost"
   ]
  },
  {
   "cell_type": "markdown",
   "metadata": {},
   "source": [
    "Чтение данных"
   ]
  },
  {
   "cell_type": "code",
   "execution_count": 2,
   "metadata": {},
   "outputs": [],
   "source": [
    "%matplotlib inline\n",
    "%config InlineBackend.figure_format ='retina'\n",
    "\n",
    "import os\n",
    "import shutil\n",
    "import sys\n",
    "import glob\n",
    "import pickle\n",
    "import seaborn as sns\n",
    "import matplotlib.pyplot as plt\n",
    "import numpy as np\n",
    "\n",
    "import pyspark\n",
    "import pyspark.sql.functions as F\n",
    "from pyspark.conf import SparkConf\n",
    "from pyspark.sql import SQLContext\n",
    "from pyspark.sql import SparkSession\n",
    "from pyspark.sql import Row\n",
    "\n",
    "COMMON_PATH = '/workspace/common'\n",
    "\n",
    "sys.path.append(os.path.join(COMMON_PATH, 'utils'))\n",
    "\n",
    "os.environ['PYSPARK_SUBMIT_ARGS'] = \"\"\"\n",
    "--jars {common}/xgboost4j-spark-0.72.jar,{common}/xgboost4j-0.72.jar\n",
    "--py-files {common}/sparkxgb.zip pyspark-shell\n",
    "\"\"\".format(common=COMMON_PATH).replace('\\n', ' ')\n",
    "\n",
    "spark = SparkSession \\\n",
    "    .builder \\\n",
    "    .master('local[*]') \\\n",
    "    .appName(\"spark_sql_examples\") \\\n",
    "    .config(\"spark.executor.memory\", \"100g\") \\\n",
    "    .config(\"spark.driver.memory\", \"100g\") \\\n",
    "    .config(\"spark.task.cpus\", \"6\") \\\n",
    "    .config(\"spark.executor.cores\", \"6\") \\\n",
    "    .getOrCreate()\n",
    "\n",
    "sc = spark.sparkContext\n",
    "sqlContext = SQLContext(sc)\n",
    "\n",
    "from metrics import rocauc, logloss, ne, get_ate\n",
    "from processing import split_by_col\n",
    "\n",
    "from sparkxgb.xgboost import *"
   ]
  },
  {
   "cell_type": "code",
   "execution_count": 3,
   "metadata": {},
   "outputs": [],
   "source": [
    "DATA_PATH = '/workspace/data/criteo'\n",
    "\n",
    "TRAIN_PATH = os.path.join(DATA_PATH, 'train.csv')"
   ]
  },
  {
   "cell_type": "code",
   "execution_count": 4,
   "metadata": {},
   "outputs": [],
   "source": [
    "import pandas as pd "
   ]
  },
  {
   "cell_type": "code",
   "execution_count": 5,
   "metadata": {},
   "outputs": [],
   "source": [
    "train = pd.read_csv(TRAIN_PATH)"
   ]
  },
  {
   "cell_type": "code",
   "execution_count": 6,
   "metadata": {},
   "outputs": [
    {
     "data": {
      "text/html": [
       "<div>\n",
       "<style scoped>\n",
       "    .dataframe tbody tr th:only-of-type {\n",
       "        vertical-align: middle;\n",
       "    }\n",
       "\n",
       "    .dataframe tbody tr th {\n",
       "        vertical-align: top;\n",
       "    }\n",
       "\n",
       "    .dataframe thead th {\n",
       "        text-align: right;\n",
       "    }\n",
       "</style>\n",
       "<table border=\"1\" class=\"dataframe\">\n",
       "  <thead>\n",
       "    <tr style=\"text-align: right;\">\n",
       "      <th></th>\n",
       "      <th>_c0</th>\n",
       "      <th>_c1</th>\n",
       "      <th>_c2</th>\n",
       "      <th>_c3</th>\n",
       "      <th>_c4</th>\n",
       "      <th>_c5</th>\n",
       "      <th>_c6</th>\n",
       "      <th>_c7</th>\n",
       "      <th>_c8</th>\n",
       "      <th>_c9</th>\n",
       "      <th>...</th>\n",
       "      <th>_c31</th>\n",
       "      <th>_c32</th>\n",
       "      <th>_c33</th>\n",
       "      <th>_c34</th>\n",
       "      <th>_c35</th>\n",
       "      <th>_c36</th>\n",
       "      <th>_c37</th>\n",
       "      <th>_c38</th>\n",
       "      <th>_c39</th>\n",
       "      <th>id</th>\n",
       "    </tr>\n",
       "  </thead>\n",
       "  <tbody>\n",
       "    <tr>\n",
       "      <th>0</th>\n",
       "      <td>1</td>\n",
       "      <td>0.0</td>\n",
       "      <td>-1</td>\n",
       "      <td>NaN</td>\n",
       "      <td>NaN</td>\n",
       "      <td>1465.0</td>\n",
       "      <td>0.0</td>\n",
       "      <td>17.0</td>\n",
       "      <td>0.0</td>\n",
       "      <td>4.0</td>\n",
       "      <td>...</td>\n",
       "      <td>e5f8f18f</td>\n",
       "      <td>NaN</td>\n",
       "      <td>NaN</td>\n",
       "      <td>f3ddd519</td>\n",
       "      <td>NaN</td>\n",
       "      <td>32c7478e</td>\n",
       "      <td>b34f3128</td>\n",
       "      <td>NaN</td>\n",
       "      <td>NaN</td>\n",
       "      <td>12</td>\n",
       "    </tr>\n",
       "    <tr>\n",
       "      <th>1</th>\n",
       "      <td>1</td>\n",
       "      <td>0.0</td>\n",
       "      <td>1</td>\n",
       "      <td>20.0</td>\n",
       "      <td>16.0</td>\n",
       "      <td>1548.0</td>\n",
       "      <td>93.0</td>\n",
       "      <td>42.0</td>\n",
       "      <td>32.0</td>\n",
       "      <td>912.0</td>\n",
       "      <td>...</td>\n",
       "      <td>1f868fdd</td>\n",
       "      <td>21ddcdc9</td>\n",
       "      <td>a458ea53</td>\n",
       "      <td>7eee76d1</td>\n",
       "      <td>NaN</td>\n",
       "      <td>32c7478e</td>\n",
       "      <td>9af06ad9</td>\n",
       "      <td>9d93af03</td>\n",
       "      <td>cdfe5ab7</td>\n",
       "      <td>26</td>\n",
       "    </tr>\n",
       "    <tr>\n",
       "      <th>2</th>\n",
       "      <td>0</td>\n",
       "      <td>8.0</td>\n",
       "      <td>0</td>\n",
       "      <td>15.0</td>\n",
       "      <td>20.0</td>\n",
       "      <td>115.0</td>\n",
       "      <td>24.0</td>\n",
       "      <td>8.0</td>\n",
       "      <td>23.0</td>\n",
       "      <td>24.0</td>\n",
       "      <td>...</td>\n",
       "      <td>1304f63b</td>\n",
       "      <td>21ddcdc9</td>\n",
       "      <td>b1252a9d</td>\n",
       "      <td>07b2853e</td>\n",
       "      <td>NaN</td>\n",
       "      <td>32c7478e</td>\n",
       "      <td>94bde4f2</td>\n",
       "      <td>010f6491</td>\n",
       "      <td>09b76f8d</td>\n",
       "      <td>39</td>\n",
       "    </tr>\n",
       "    <tr>\n",
       "      <th>3</th>\n",
       "      <td>1</td>\n",
       "      <td>88.0</td>\n",
       "      <td>319</td>\n",
       "      <td>NaN</td>\n",
       "      <td>4.0</td>\n",
       "      <td>5.0</td>\n",
       "      <td>4.0</td>\n",
       "      <td>89.0</td>\n",
       "      <td>40.0</td>\n",
       "      <td>88.0</td>\n",
       "      <td>...</td>\n",
       "      <td>bbf70d82</td>\n",
       "      <td>NaN</td>\n",
       "      <td>NaN</td>\n",
       "      <td>16e2e3b3</td>\n",
       "      <td>NaN</td>\n",
       "      <td>32c7478e</td>\n",
       "      <td>d859b4dd</td>\n",
       "      <td>NaN</td>\n",
       "      <td>NaN</td>\n",
       "      <td>41</td>\n",
       "    </tr>\n",
       "    <tr>\n",
       "      <th>4</th>\n",
       "      <td>0</td>\n",
       "      <td>0.0</td>\n",
       "      <td>53</td>\n",
       "      <td>NaN</td>\n",
       "      <td>10.0</td>\n",
       "      <td>6550.0</td>\n",
       "      <td>98.0</td>\n",
       "      <td>34.0</td>\n",
       "      <td>11.0</td>\n",
       "      <td>349.0</td>\n",
       "      <td>...</td>\n",
       "      <td>fa0643ee</td>\n",
       "      <td>21ddcdc9</td>\n",
       "      <td>b1252a9d</td>\n",
       "      <td>0094bc78</td>\n",
       "      <td>NaN</td>\n",
       "      <td>32c7478e</td>\n",
       "      <td>29ece3ed</td>\n",
       "      <td>001f3601</td>\n",
       "      <td>402185f3</td>\n",
       "      <td>85</td>\n",
       "    </tr>\n",
       "  </tbody>\n",
       "</table>\n",
       "<p>5 rows × 41 columns</p>\n",
       "</div>"
      ],
      "text/plain": [
       "   _c0   _c1  _c2   _c3   _c4     _c5   _c6   _c7   _c8    _c9  ...      _c31  \\\n",
       "0    1   0.0   -1   NaN   NaN  1465.0   0.0  17.0   0.0    4.0  ...  e5f8f18f   \n",
       "1    1   0.0    1  20.0  16.0  1548.0  93.0  42.0  32.0  912.0  ...  1f868fdd   \n",
       "2    0   8.0    0  15.0  20.0   115.0  24.0   8.0  23.0   24.0  ...  1304f63b   \n",
       "3    1  88.0  319   NaN   4.0     5.0   4.0  89.0  40.0   88.0  ...  bbf70d82   \n",
       "4    0   0.0   53   NaN  10.0  6550.0  98.0  34.0  11.0  349.0  ...  fa0643ee   \n",
       "\n",
       "       _c32      _c33      _c34 _c35      _c36      _c37      _c38      _c39  \\\n",
       "0       NaN       NaN  f3ddd519  NaN  32c7478e  b34f3128       NaN       NaN   \n",
       "1  21ddcdc9  a458ea53  7eee76d1  NaN  32c7478e  9af06ad9  9d93af03  cdfe5ab7   \n",
       "2  21ddcdc9  b1252a9d  07b2853e  NaN  32c7478e  94bde4f2  010f6491  09b76f8d   \n",
       "3       NaN       NaN  16e2e3b3  NaN  32c7478e  d859b4dd       NaN       NaN   \n",
       "4  21ddcdc9  b1252a9d  0094bc78  NaN  32c7478e  29ece3ed  001f3601  402185f3   \n",
       "\n",
       "   id  \n",
       "0  12  \n",
       "1  26  \n",
       "2  39  \n",
       "3  41  \n",
       "4  85  \n",
       "\n",
       "[5 rows x 41 columns]"
      ]
     },
     "execution_count": 6,
     "metadata": {},
     "output_type": "execute_result"
    }
   ],
   "source": [
    "train.head()"
   ]
  },
  {
   "cell_type": "code",
   "execution_count": 7,
   "metadata": {},
   "outputs": [
    {
     "data": {
      "text/plain": [
       "(13, 26)"
      ]
     },
     "execution_count": 7,
     "metadata": {},
     "output_type": "execute_result"
    }
   ],
   "source": [
    "num_columns = ['_c{}'.format(i) for i in range(1, 14)]\n",
    "cat_columns = ['_c{}'.format(i) for i in range(14, 40)]\n",
    "len(num_columns), len(cat_columns)"
   ]
  },
  {
   "cell_type": "code",
   "execution_count": 8,
   "metadata": {},
   "outputs": [
    {
     "name": "stdout",
     "output_type": "stream",
     "text": [
      "Requirement already satisfied: category_encoders in /usr/lib/python3.5/site-packages (2.1.0)\n",
      "Requirement already satisfied: scikit-learn>=0.20.0 in /usr/lib64/python3.5/site-packages (from category_encoders) (0.22)\n",
      "Requirement already satisfied: patsy>=0.4.1 in /usr/lib/python3.5/site-packages (from category_encoders) (0.5.1)\n",
      "Requirement already satisfied: pandas>=0.21.1 in /usr/lib64/python3.5/site-packages (from category_encoders) (0.24.2)\n",
      "Requirement already satisfied: numpy>=1.11.3 in /usr/lib64/python3.5/site-packages (from category_encoders) (1.17.2)\n",
      "Requirement already satisfied: scipy>=0.19.0 in /usr/lib64/python3.5/site-packages (from category_encoders) (1.3.3)\n",
      "Requirement already satisfied: statsmodels>=0.6.1 in /usr/lib64/python3.5/site-packages (from category_encoders) (0.11.1)\n",
      "Requirement already satisfied: joblib>=0.11 in /usr/lib/python3.5/site-packages (from scikit-learn>=0.20.0->category_encoders) (0.14.1)\n",
      "Requirement already satisfied: six in /usr/lib/python3.5/site-packages (from patsy>=0.4.1->category_encoders) (1.14.0)\n",
      "Requirement already satisfied: pytz>=2011k in /usr/lib/python3.5/site-packages (from pandas>=0.21.1->category_encoders) (2019.3)\n",
      "Requirement already satisfied: python-dateutil>=2.5.0 in /usr/lib/python3.5/site-packages (from pandas>=0.21.1->category_encoders) (2.8.1)\n"
     ]
    }
   ],
   "source": [
    "! pip3.5 install category_encoders"
   ]
  },
  {
   "cell_type": "code",
   "execution_count": 9,
   "metadata": {},
   "outputs": [],
   "source": [
    "import category_encoders as ce"
   ]
  },
  {
   "cell_type": "code",
   "execution_count": 10,
   "metadata": {},
   "outputs": [],
   "source": [
    "encoder = ce.CatBoostEncoder(cols=cat_columns)"
   ]
  },
  {
   "cell_type": "code",
   "execution_count": 11,
   "metadata": {},
   "outputs": [],
   "source": [
    "X, y = train.drop(columns=['_c0', 'id']), train['_c0']"
   ]
  },
  {
   "cell_type": "code",
   "execution_count": 12,
   "metadata": {},
   "outputs": [
    {
     "name": "stdout",
     "output_type": "stream",
     "text": [
      "CPU times: user 5min 15s, sys: 27.5 s, total: 5min 43s\n",
      "Wall time: 5min 43s\n"
     ]
    }
   ],
   "source": [
    "%%time\n",
    "X_encoded = encoder.fit_transform(X, y)"
   ]
  },
  {
   "cell_type": "code",
   "execution_count": 13,
   "metadata": {},
   "outputs": [],
   "source": [
    "X_encoded[['_c0', 'id']] = train[['_c0', 'id']]"
   ]
  },
  {
   "cell_type": "code",
   "execution_count": 14,
   "metadata": {},
   "outputs": [
    {
     "data": {
      "text/html": [
       "<div>\n",
       "<style scoped>\n",
       "    .dataframe tbody tr th:only-of-type {\n",
       "        vertical-align: middle;\n",
       "    }\n",
       "\n",
       "    .dataframe tbody tr th {\n",
       "        vertical-align: top;\n",
       "    }\n",
       "\n",
       "    .dataframe thead th {\n",
       "        text-align: right;\n",
       "    }\n",
       "</style>\n",
       "<table border=\"1\" class=\"dataframe\">\n",
       "  <thead>\n",
       "    <tr style=\"text-align: right;\">\n",
       "      <th></th>\n",
       "      <th>_c1</th>\n",
       "      <th>_c2</th>\n",
       "      <th>_c3</th>\n",
       "      <th>_c4</th>\n",
       "      <th>_c5</th>\n",
       "      <th>_c6</th>\n",
       "      <th>_c7</th>\n",
       "      <th>_c8</th>\n",
       "      <th>_c9</th>\n",
       "      <th>_c10</th>\n",
       "      <th>...</th>\n",
       "      <th>_c32</th>\n",
       "      <th>_c33</th>\n",
       "      <th>_c34</th>\n",
       "      <th>_c35</th>\n",
       "      <th>_c36</th>\n",
       "      <th>_c37</th>\n",
       "      <th>_c38</th>\n",
       "      <th>_c39</th>\n",
       "      <th>_c0</th>\n",
       "      <th>id</th>\n",
       "    </tr>\n",
       "  </thead>\n",
       "  <tbody>\n",
       "    <tr>\n",
       "      <th>0</th>\n",
       "      <td>0.0</td>\n",
       "      <td>-1</td>\n",
       "      <td>NaN</td>\n",
       "      <td>NaN</td>\n",
       "      <td>1465.0</td>\n",
       "      <td>0.0</td>\n",
       "      <td>17.0</td>\n",
       "      <td>0.0</td>\n",
       "      <td>4.0</td>\n",
       "      <td>0.0</td>\n",
       "      <td>...</td>\n",
       "      <td>0.256457</td>\n",
       "      <td>0.256457</td>\n",
       "      <td>0.256457</td>\n",
       "      <td>0.256457</td>\n",
       "      <td>0.256457</td>\n",
       "      <td>0.256457</td>\n",
       "      <td>0.256457</td>\n",
       "      <td>0.256457</td>\n",
       "      <td>1</td>\n",
       "      <td>12</td>\n",
       "    </tr>\n",
       "    <tr>\n",
       "      <th>1</th>\n",
       "      <td>0.0</td>\n",
       "      <td>1</td>\n",
       "      <td>20.0</td>\n",
       "      <td>16.0</td>\n",
       "      <td>1548.0</td>\n",
       "      <td>93.0</td>\n",
       "      <td>42.0</td>\n",
       "      <td>32.0</td>\n",
       "      <td>912.0</td>\n",
       "      <td>0.0</td>\n",
       "      <td>...</td>\n",
       "      <td>0.256457</td>\n",
       "      <td>0.256457</td>\n",
       "      <td>0.256457</td>\n",
       "      <td>0.628229</td>\n",
       "      <td>0.628229</td>\n",
       "      <td>0.256457</td>\n",
       "      <td>0.256457</td>\n",
       "      <td>0.256457</td>\n",
       "      <td>1</td>\n",
       "      <td>26</td>\n",
       "    </tr>\n",
       "    <tr>\n",
       "      <th>2</th>\n",
       "      <td>8.0</td>\n",
       "      <td>0</td>\n",
       "      <td>15.0</td>\n",
       "      <td>20.0</td>\n",
       "      <td>115.0</td>\n",
       "      <td>24.0</td>\n",
       "      <td>8.0</td>\n",
       "      <td>23.0</td>\n",
       "      <td>24.0</td>\n",
       "      <td>2.0</td>\n",
       "      <td>...</td>\n",
       "      <td>0.628229</td>\n",
       "      <td>0.256457</td>\n",
       "      <td>0.256457</td>\n",
       "      <td>0.752152</td>\n",
       "      <td>0.752152</td>\n",
       "      <td>0.256457</td>\n",
       "      <td>0.256457</td>\n",
       "      <td>0.256457</td>\n",
       "      <td>0</td>\n",
       "      <td>39</td>\n",
       "    </tr>\n",
       "    <tr>\n",
       "      <th>3</th>\n",
       "      <td>88.0</td>\n",
       "      <td>319</td>\n",
       "      <td>NaN</td>\n",
       "      <td>4.0</td>\n",
       "      <td>5.0</td>\n",
       "      <td>4.0</td>\n",
       "      <td>89.0</td>\n",
       "      <td>40.0</td>\n",
       "      <td>88.0</td>\n",
       "      <td>3.0</td>\n",
       "      <td>...</td>\n",
       "      <td>0.628229</td>\n",
       "      <td>0.628229</td>\n",
       "      <td>0.256457</td>\n",
       "      <td>0.564114</td>\n",
       "      <td>0.564114</td>\n",
       "      <td>0.256457</td>\n",
       "      <td>0.628229</td>\n",
       "      <td>0.628229</td>\n",
       "      <td>1</td>\n",
       "      <td>41</td>\n",
       "    </tr>\n",
       "    <tr>\n",
       "      <th>4</th>\n",
       "      <td>0.0</td>\n",
       "      <td>53</td>\n",
       "      <td>NaN</td>\n",
       "      <td>10.0</td>\n",
       "      <td>6550.0</td>\n",
       "      <td>98.0</td>\n",
       "      <td>34.0</td>\n",
       "      <td>11.0</td>\n",
       "      <td>349.0</td>\n",
       "      <td>0.0</td>\n",
       "      <td>...</td>\n",
       "      <td>0.418819</td>\n",
       "      <td>0.128229</td>\n",
       "      <td>0.256457</td>\n",
       "      <td>0.651291</td>\n",
       "      <td>0.651291</td>\n",
       "      <td>0.256457</td>\n",
       "      <td>0.256457</td>\n",
       "      <td>0.256457</td>\n",
       "      <td>0</td>\n",
       "      <td>85</td>\n",
       "    </tr>\n",
       "  </tbody>\n",
       "</table>\n",
       "<p>5 rows × 41 columns</p>\n",
       "</div>"
      ],
      "text/plain": [
       "    _c1  _c2   _c3   _c4     _c5   _c6   _c7   _c8    _c9  _c10  ...  \\\n",
       "0   0.0   -1   NaN   NaN  1465.0   0.0  17.0   0.0    4.0   0.0  ...   \n",
       "1   0.0    1  20.0  16.0  1548.0  93.0  42.0  32.0  912.0   0.0  ...   \n",
       "2   8.0    0  15.0  20.0   115.0  24.0   8.0  23.0   24.0   2.0  ...   \n",
       "3  88.0  319   NaN   4.0     5.0   4.0  89.0  40.0   88.0   3.0  ...   \n",
       "4   0.0   53   NaN  10.0  6550.0  98.0  34.0  11.0  349.0   0.0  ...   \n",
       "\n",
       "       _c32      _c33      _c34      _c35      _c36      _c37      _c38  \\\n",
       "0  0.256457  0.256457  0.256457  0.256457  0.256457  0.256457  0.256457   \n",
       "1  0.256457  0.256457  0.256457  0.628229  0.628229  0.256457  0.256457   \n",
       "2  0.628229  0.256457  0.256457  0.752152  0.752152  0.256457  0.256457   \n",
       "3  0.628229  0.628229  0.256457  0.564114  0.564114  0.256457  0.628229   \n",
       "4  0.418819  0.128229  0.256457  0.651291  0.651291  0.256457  0.256457   \n",
       "\n",
       "       _c39  _c0  id  \n",
       "0  0.256457    1  12  \n",
       "1  0.256457    1  26  \n",
       "2  0.256457    0  39  \n",
       "3  0.628229    1  41  \n",
       "4  0.256457    0  85  \n",
       "\n",
       "[5 rows x 41 columns]"
      ]
     },
     "execution_count": 14,
     "metadata": {},
     "output_type": "execute_result"
    }
   ],
   "source": [
    "X_encoded.head()"
   ]
  },
  {
   "cell_type": "code",
   "execution_count": 15,
   "metadata": {},
   "outputs": [],
   "source": [
    "# from: https://stackoverflow.com/a/56895546/6696410\n",
    "\n",
    "from pyspark.sql.types import *\n",
    "\n",
    "# Auxiliar functions\n",
    "def equivalent_type(f):\n",
    "    if f == 'datetime64[ns]': return DateType()\n",
    "    elif f == 'int64': return LongType()\n",
    "    elif f == 'int32': return IntegerType()\n",
    "    elif f == 'float64': return FloatType()\n",
    "    else: return StringType()\n",
    "\n",
    "def define_structure(string, format_type):\n",
    "    try: typo = equivalent_type(format_type)\n",
    "    except: typo = StringType()\n",
    "    return StructField(string, typo)\n",
    "\n",
    "\n",
    "# Given pandas dataframe, it will return a spark's dataframe.\n",
    "def pandas_to_spark(pandas_df):\n",
    "    columns = list(pandas_df.columns)\n",
    "    types = list(pandas_df.dtypes)\n",
    "    struct_list = []\n",
    "    for column, typo in zip(columns, types): \n",
    "        struct_list.append(define_structure(column, typo))\n",
    "    p_schema = StructType(struct_list)\n",
    "    return sqlContext.createDataFrame(pandas_df, p_schema)"
   ]
  },
  {
   "cell_type": "code",
   "execution_count": 16,
   "metadata": {},
   "outputs": [],
   "source": [
    "df = pandas_to_spark(X_encoded)"
   ]
  },
  {
   "cell_type": "code",
   "execution_count": 17,
   "metadata": {},
   "outputs": [],
   "source": [
    "df = df.fillna(0, subset=num_columns)"
   ]
  },
  {
   "cell_type": "code",
   "execution_count": 18,
   "metadata": {},
   "outputs": [],
   "source": [
    "from pyspark.ml import Pipeline\n",
    "from pyspark.ml.feature import StringIndexer, OneHotEncoderEstimator, VectorAssembler"
   ]
  },
  {
   "cell_type": "code",
   "execution_count": 19,
   "metadata": {},
   "outputs": [],
   "source": [
    "assembler = VectorAssembler(\n",
    "    inputCols=num_columns + cat_columns,\n",
    "    outputCol=\"features\")"
   ]
  },
  {
   "cell_type": "code",
   "execution_count": 20,
   "metadata": {},
   "outputs": [],
   "source": [
    "pipeline = Pipeline(stages=[assembler])"
   ]
  },
  {
   "cell_type": "code",
   "execution_count": 21,
   "metadata": {},
   "outputs": [],
   "source": [
    "fitted_pipeline = pipeline.fit(df)"
   ]
  },
  {
   "cell_type": "code",
   "execution_count": 22,
   "metadata": {},
   "outputs": [],
   "source": [
    "df = fitted_pipeline \\\n",
    "        .transform(df) \\\n",
    "        .select(F.col('_c0').alias('label'), 'features', 'id') \\\n",
    "        .cache()"
   ]
  },
  {
   "cell_type": "code",
   "execution_count": 23,
   "metadata": {
    "scrolled": true
   },
   "outputs": [
    {
     "name": "stdout",
     "output_type": "stream",
     "text": [
      "CPU times: user 5.94 ms, sys: 245 µs, total: 6.19 ms\n",
      "Wall time: 26.4 s\n"
     ]
    },
    {
     "data": {
      "text/plain": [
       "3664931"
      ]
     },
     "execution_count": 23,
     "metadata": {},
     "output_type": "execute_result"
    }
   ],
   "source": [
    "%%time\n",
    "df.count()"
   ]
  },
  {
   "cell_type": "code",
   "execution_count": 24,
   "metadata": {},
   "outputs": [],
   "source": [
    "df = df.repartition(6).cache()"
   ]
  },
  {
   "cell_type": "code",
   "execution_count": 25,
   "metadata": {},
   "outputs": [
    {
     "name": "stdout",
     "output_type": "stream",
     "text": [
      "CPU times: user 0 ns, sys: 3.4 ms, total: 3.4 ms\n",
      "Wall time: 14.7 s\n"
     ]
    },
    {
     "data": {
      "text/plain": [
       "3664931"
      ]
     },
     "execution_count": 25,
     "metadata": {},
     "output_type": "execute_result"
    }
   ],
   "source": [
    "%%time\n",
    "df.count()"
   ]
  },
  {
   "cell_type": "code",
   "execution_count": 26,
   "metadata": {},
   "outputs": [],
   "source": [
    "train_df, val_df, test_df = split_by_col(df, 'id', [0.8, 0.1, 0.1])"
   ]
  },
  {
   "cell_type": "code",
   "execution_count": 27,
   "metadata": {},
   "outputs": [],
   "source": [
    "train_df, val_df = train_df.cache(), val_df.cache()"
   ]
  },
  {
   "cell_type": "code",
   "execution_count": 28,
   "metadata": {},
   "outputs": [],
   "source": [
    "static_params = {\n",
    "    'featuresCol': \"features\", \n",
    "    'labelCol': \"label\", \n",
    "    'predictionCol': \"prediction\",\n",
    "    'eval_metric': 'logloss',\n",
    "    'objective': 'binary:logistic',\n",
    "    'nthread': 6,\n",
    "    'silent': 0,\n",
    "    'nworkers': 1\n",
    "}"
   ]
  },
  {
   "cell_type": "code",
   "execution_count": 29,
   "metadata": {},
   "outputs": [
    {
     "name": "stdout",
     "output_type": "stream",
     "text": [
      "CPU times: user 73.1 ms, sys: 8.56 ms, total: 81.7 ms\n",
      "Wall time: 1min 15s\n"
     ]
    }
   ],
   "source": [
    "%%time\n",
    "CONTROL_NAME = 'xgb baseline'\n",
    "\n",
    "baseline_params = {\n",
    "    'colsample_bytree': 0.9,\n",
    "    'eta': 0.15,\n",
    "    'gamma': 0.9,\n",
    "    'max_depth': 6,\n",
    "    'min_child_weight': 50.0,\n",
    "    'subsample': 0.9,\n",
    "    'num_round': 20\n",
    "}\n",
    "\n",
    "baseline_model = XGBoostEstimator(**{**static_params, **baseline_params}).fit(train_df)"
   ]
  },
  {
   "cell_type": "code",
   "execution_count": 30,
   "metadata": {},
   "outputs": [],
   "source": [
    "all_metrics = {}"
   ]
  },
  {
   "cell_type": "code",
   "execution_count": 31,
   "metadata": {},
   "outputs": [],
   "source": [
    "baseline_test_metrics = {\n",
    "    'logloss': logloss(baseline_model, test_df, probabilities_col='probabilities'),\n",
    "    'rocauc': rocauc(baseline_model, test_df, probabilities_col='probabilities')\n",
    "}\n",
    "\n",
    "all_metrics[CONTROL_NAME] = baseline_test_metrics"
   ]
  },
  {
   "cell_type": "markdown",
   "metadata": {},
   "source": [
    "### Hyperopt"
   ]
  },
  {
   "cell_type": "code",
   "execution_count": 32,
   "metadata": {},
   "outputs": [
    {
     "name": "stdout",
     "output_type": "stream",
     "text": [
      "Collecting hyperopt\n",
      "  Downloading hyperopt-0.2.3-py3-none-any.whl (1.9 MB)\n",
      "\u001b[K     |████████████████████████████████| 1.9 MB 14.6 MB/s eta 0:00:01\n",
      "\u001b[?25hCollecting networkx==2.2\n",
      "  Downloading networkx-2.2.zip (1.7 MB)\n",
      "\u001b[K     |████████████████████████████████| 1.7 MB 54.9 MB/s eta 0:00:01\n",
      "\u001b[?25hRequirement already satisfied: scipy in /usr/lib64/python3.5/site-packages (from hyperopt) (1.3.3)\n",
      "Collecting tqdm\n",
      "  Downloading tqdm-4.44.1-py2.py3-none-any.whl (60 kB)\n",
      "\u001b[K     |████████████████████████████████| 60 kB 3.8 MB/s  eta 0:00:01\n",
      "\u001b[?25hRequirement already satisfied: six in /usr/lib/python3.5/site-packages (from hyperopt) (1.14.0)\n",
      "Collecting cloudpickle\n",
      "  Downloading cloudpickle-1.3.0-py2.py3-none-any.whl (26 kB)\n",
      "Requirement already satisfied: numpy in /usr/lib64/python3.5/site-packages (from hyperopt) (1.17.2)\n",
      "Collecting future\n",
      "  Downloading future-0.18.2.tar.gz (829 kB)\n",
      "\u001b[K     |████████████████████████████████| 829 kB 56.6 MB/s eta 0:00:01\n",
      "\u001b[?25hRequirement already satisfied: decorator>=4.3.0 in /usr/lib/python3.5/site-packages (from networkx==2.2->hyperopt) (4.4.2)\n",
      "Installing collected packages: networkx, tqdm, cloudpickle, future, hyperopt\n",
      "    Running setup.py install for networkx ... \u001b[?25ldone\n",
      "\u001b[?25h    Running setup.py install for future ... \u001b[?25ldone\n",
      "\u001b[?25hSuccessfully installed cloudpickle-1.3.0 future-0.18.2 hyperopt-0.2.3 networkx-2.2 tqdm-4.44.1\n"
     ]
    }
   ],
   "source": [
    "!pip3.5 install hyperopt"
   ]
  },
  {
   "cell_type": "code",
   "execution_count": 79,
   "metadata": {},
   "outputs": [],
   "source": [
    "from hyperopt import fmin, tpe, hp, Trials, STATUS_OK\n",
    "import scipy.stats as st"
   ]
  },
  {
   "cell_type": "code",
   "execution_count": 81,
   "metadata": {},
   "outputs": [],
   "source": [
    "from time import perf_counter"
   ]
  },
  {
   "cell_type": "code",
   "execution_count": 86,
   "metadata": {},
   "outputs": [],
   "source": [
    "cast_to_int_params = ['num_round', 'max_depth']\n",
    "\n",
    "def objective(space):\n",
    "    start_time = perf_counter()\n",
    "    for param in cast_to_int_params:\n",
    "        space[param] = int(space[param])\n",
    "    print(space)\n",
    "    estimator = XGBoostEstimator(**space)\n",
    "    success = False\n",
    "    attempts = 0\n",
    "    model = None\n",
    "    while not success and attempts < 2:\n",
    "        try:\n",
    "            model = estimator.fit(train_df)\n",
    "            success = True\n",
    "        except Exception as e:\n",
    "            attempts += 1\n",
    "            print(e)\n",
    "            print('Try again')\n",
    "        \n",
    "    log_loss = logloss(model, val_df, probabilities_col='probabilities')\n",
    "    roc_auc = rocauc(model, val_df, probabilities_col='probabilities')\n",
    "    \n",
    "    print('LOG-LOSS: {}, ROC-AUC: {}, elapsed_time: {}\\n'.format(log_loss, roc_auc, perf_counter() - start_time))\n",
    "\n",
    "    return {'loss': log_loss, 'rocauc': roc_auc, 'status': STATUS_OK }"
   ]
  },
  {
   "cell_type": "code",
   "execution_count": 87,
   "metadata": {},
   "outputs": [],
   "source": [
    "space = {\n",
    "    # Optimize\n",
    "    'num_round': hp.quniform('num_round', 10, 100, 10),\n",
    "    'eta': hp.uniform('eta', 0.025, 0.8),\n",
    "    \n",
    "    'max_depth': hp.quniform('max_depth', 3, 9, 1),\n",
    "    'min_child_weight': hp.quniform('min_child_weight', 0, 100, 15),\n",
    "    \n",
    "    'gamma': hp.loguniform('gamma', -3, 0),\n",
    "    \n",
    "    'subsample': hp.uniform('subsample', 0.3, 1.),\n",
    "    'colsample_bytree': hp.uniform('colsample_bytree', 0.3, 1.),\n",
    "    \n",
    "    **static_params\n",
    "}"
   ]
  },
  {
   "cell_type": "code",
   "execution_count": 88,
   "metadata": {},
   "outputs": [
    {
     "name": "stdout",
     "output_type": "stream",
     "text": [
      "{'subsample': 0.8241716986818315, 'eta': 0.5416518294422941, 'max_depth': 5, 'nthread': 6, 'min_child_weight': 90.0, 'objective': 'binary:logistic', 'num_round': 70, 'featuresCol': 'features', 'nworkers': 1, 'silent': 0, 'labelCol': 'label', 'predictionCol': 'prediction', 'eval_metric': 'logloss', 'colsample_bytree': 0.6842649958524079, 'gamma': 0.24813774864179464}\n",
      "LOG-LOSS: 0.4689897531185601, ROC-AUC: 0.7834624736571406, elapsed_time: 164.7245990309748\n",
      "\n",
      "{'subsample': 0.39842035677857357, 'eta': 0.43410000408036803, 'max_depth': 4, 'nthread': 6, 'min_child_weight': 45.0, 'objective': 'binary:logistic', 'num_round': 10, 'featuresCol': 'features', 'nworkers': 1, 'silent': 0, 'labelCol': 'label', 'predictionCol': 'prediction', 'eval_metric': 'logloss', 'colsample_bytree': 0.4571084153944315, 'gamma': 0.32235261370526436}\n",
      "LOG-LOSS: 0.48237613951997416, ROC-AUC: 0.7683602800055078, elapsed_time: 66.64418106200173\n",
      "\n",
      "{'subsample': 0.8242792700942874, 'eta': 0.5194181554204429, 'max_depth': 5, 'nthread': 6, 'min_child_weight': 30.0, 'objective': 'binary:logistic', 'num_round': 40, 'featuresCol': 'features', 'nworkers': 1, 'silent': 0, 'labelCol': 'label', 'predictionCol': 'prediction', 'eval_metric': 'logloss', 'colsample_bytree': 0.8681694163149789, 'gamma': 0.6389055786834883}\n",
      "LOG-LOSS: 0.47011468603283896, ROC-AUC: 0.7821080348313318, elapsed_time: 129.41809748200467\n",
      "\n",
      "{'subsample': 0.6043909864321374, 'eta': 0.21254807620748958, 'max_depth': 3, 'nthread': 6, 'min_child_weight': 60.0, 'objective': 'binary:logistic', 'num_round': 70, 'featuresCol': 'features', 'nworkers': 1, 'silent': 0, 'labelCol': 'label', 'predictionCol': 'prediction', 'eval_metric': 'logloss', 'colsample_bytree': 0.4796410435013107, 'gamma': 0.0631822306377387}\n",
      "LOG-LOSS: 0.47399584353371854, ROC-AUC: 0.7779837935456759, elapsed_time: 119.69067629199708\n",
      "\n",
      "{'subsample': 0.9932822269485737, 'eta': 0.10146064079760064, 'max_depth': 3, 'nthread': 6, 'min_child_weight': 60.0, 'objective': 'binary:logistic', 'num_round': 30, 'featuresCol': 'features', 'nworkers': 1, 'silent': 0, 'labelCol': 'label', 'predictionCol': 'prediction', 'eval_metric': 'logloss', 'colsample_bytree': 0.8986342870657467, 'gamma': 0.11478344583844961}\n",
      "LOG-LOSS: 0.49058956351706384, ROC-AUC: 0.7656939753380659, elapsed_time: 94.69130029401276\n",
      "\n",
      "{'subsample': 0.4467168593287339, 'eta': 0.571259616295986, 'max_depth': 5, 'nthread': 6, 'min_child_weight': 60.0, 'objective': 'binary:logistic', 'num_round': 70, 'featuresCol': 'features', 'nworkers': 1, 'silent': 0, 'labelCol': 'label', 'predictionCol': 'prediction', 'eval_metric': 'logloss', 'colsample_bytree': 0.3462776979963403, 'gamma': 0.2887769691520879}\n",
      "LOG-LOSS: 0.4694058143733919, ROC-AUC: 0.7832909387615916, elapsed_time: 132.13802110904362\n",
      "\n",
      "{'subsample': 0.9350024728901856, 'eta': 0.03313986245267239, 'max_depth': 5, 'nthread': 6, 'min_child_weight': 60.0, 'objective': 'binary:logistic', 'num_round': 80, 'featuresCol': 'features', 'nworkers': 1, 'silent': 0, 'labelCol': 'label', 'predictionCol': 'prediction', 'eval_metric': 'logloss', 'colsample_bytree': 0.7973791344950929, 'gamma': 0.1222446291578458}\n",
      "LOG-LOSS: 0.48543874115833335, ROC-AUC: 0.7721272401786218, elapsed_time: 190.77397616999224\n",
      "\n",
      "{'subsample': 0.47780987232467365, 'eta': 0.24312145047252842, 'max_depth': 8, 'nthread': 6, 'min_child_weight': 75.0, 'objective': 'binary:logistic', 'num_round': 50, 'featuresCol': 'features', 'nworkers': 1, 'silent': 0, 'labelCol': 'label', 'predictionCol': 'prediction', 'eval_metric': 'logloss', 'colsample_bytree': 0.353806557737475, 'gamma': 0.07380314717185035}\n",
      "LOG-LOSS: 0.4677646077925165, ROC-AUC: 0.7845301960282076, elapsed_time: 138.5554228699766\n",
      "\n",
      "{'subsample': 0.7777625003216837, 'eta': 0.5534020859903632, 'max_depth': 5, 'nthread': 6, 'min_child_weight': 90.0, 'objective': 'binary:logistic', 'num_round': 100, 'featuresCol': 'features', 'nworkers': 1, 'silent': 0, 'labelCol': 'label', 'predictionCol': 'prediction', 'eval_metric': 'logloss', 'colsample_bytree': 0.38562110584235615, 'gamma': 0.2840900556474765}\n",
      "LOG-LOSS: 0.46792793437927305, ROC-AUC: 0.7844446088886418, elapsed_time: 172.49148260400398\n",
      "\n",
      "{'subsample': 0.7371246171206214, 'eta': 0.4628233306662515, 'max_depth': 6, 'nthread': 6, 'min_child_weight': 60.0, 'objective': 'binary:logistic', 'num_round': 30, 'featuresCol': 'features', 'nworkers': 1, 'silent': 0, 'labelCol': 'label', 'predictionCol': 'prediction', 'eval_metric': 'logloss', 'colsample_bytree': 0.571419747132792, 'gamma': 0.06504777884076235}\n",
      "LOG-LOSS: 0.4701965175074214, ROC-AUC: 0.7818606490917382, elapsed_time: 105.1920388409635\n",
      "\n",
      "{'subsample': 0.4001966058348033, 'eta': 0.35831281000924775, 'max_depth': 8, 'nthread': 6, 'min_child_weight': 30.0, 'objective': 'binary:logistic', 'num_round': 40, 'featuresCol': 'features', 'nworkers': 1, 'silent': 0, 'labelCol': 'label', 'predictionCol': 'prediction', 'eval_metric': 'logloss', 'colsample_bytree': 0.715416462120785, 'gamma': 0.06741184733992506}\n",
      "LOG-LOSS: 0.4686724174131693, ROC-AUC: 0.7838452170758139, elapsed_time: 151.51293926301878\n",
      "\n",
      "{'subsample': 0.4568892569157948, 'eta': 0.4454897513569088, 'max_depth': 8, 'nthread': 6, 'min_child_weight': 75.0, 'objective': 'binary:logistic', 'num_round': 50, 'featuresCol': 'features', 'nworkers': 1, 'silent': 0, 'labelCol': 'label', 'predictionCol': 'prediction', 'eval_metric': 'logloss', 'colsample_bytree': 0.9837797153408661, 'gamma': 0.3752706212230005}\n",
      "LOG-LOSS: 0.4691519829678823, ROC-AUC: 0.7831236608327897, elapsed_time: 214.24388126801932\n",
      "\n",
      "{'subsample': 0.9250667566528992, 'eta': 0.28571713038137114, 'max_depth': 6, 'nthread': 6, 'min_child_weight': 30.0, 'objective': 'binary:logistic', 'num_round': 10, 'featuresCol': 'features', 'nworkers': 1, 'silent': 0, 'labelCol': 'label', 'predictionCol': 'prediction', 'eval_metric': 'logloss', 'colsample_bytree': 0.8398254982629432, 'gamma': 0.07375685027118614}\n",
      "LOG-LOSS: 0.48062594135888587, ROC-AUC: 0.7732360181640778, elapsed_time: 79.68704657600028\n",
      "\n",
      "{'subsample': 0.697499659569971, 'eta': 0.2871409400119694, 'max_depth': 5, 'nthread': 6, 'min_child_weight': 15.0, 'objective': 'binary:logistic', 'num_round': 50, 'featuresCol': 'features', 'nworkers': 1, 'silent': 0, 'labelCol': 'label', 'predictionCol': 'prediction', 'eval_metric': 'logloss', 'colsample_bytree': 0.8658718438767703, 'gamma': 0.050804525430450755}\n",
      "LOG-LOSS: 0.469744406454615, ROC-AUC: 0.7823034371554576, elapsed_time: 148.21414143004222\n",
      "\n",
      "{'subsample': 0.4192456841904105, 'eta': 0.0698435709477091, 'max_depth': 5, 'nthread': 6, 'min_child_weight': 15.0, 'objective': 'binary:logistic', 'num_round': 50, 'featuresCol': 'features', 'nworkers': 1, 'silent': 0, 'labelCol': 'label', 'predictionCol': 'prediction', 'eval_metric': 'logloss', 'colsample_bytree': 0.7014501539297906, 'gamma': 0.20855916938271948}\n",
      "LOG-LOSS: 0.4797975411299997, ROC-AUC: 0.7742618846952749, elapsed_time: 133.27245621598559\n",
      "\n",
      "{'subsample': 0.6592816962814653, 'eta': 0.14685914288402413, 'max_depth': 4, 'nthread': 6, 'min_child_weight': 75.0, 'objective': 'binary:logistic', 'num_round': 40, 'featuresCol': 'features', 'nworkers': 1, 'silent': 0, 'labelCol': 'label', 'predictionCol': 'prediction', 'eval_metric': 'logloss', 'colsample_bytree': 0.8234231644004666, 'gamma': 0.06307686619292974}\n",
      "LOG-LOSS: 0.4766509661532512, ROC-AUC: 0.7754482699941144, elapsed_time: 117.51623095397372\n",
      "\n",
      "{'subsample': 0.878663296847362, 'eta': 0.15573884576046093, 'max_depth': 7, 'nthread': 6, 'min_child_weight': 90.0, 'objective': 'binary:logistic', 'num_round': 50, 'featuresCol': 'features', 'nworkers': 1, 'silent': 0, 'labelCol': 'label', 'predictionCol': 'prediction', 'eval_metric': 'logloss', 'colsample_bytree': 0.4634130715218455, 'gamma': 0.11613618035342983}\n",
      "LOG-LOSS: 0.46868492789865457, ROC-AUC: 0.7839554033872674, elapsed_time: 134.93483041599393\n",
      "\n",
      "{'subsample': 0.6055906059597004, 'eta': 0.761538920695642, 'max_depth': 4, 'nthread': 6, 'min_child_weight': 90.0, 'objective': 'binary:logistic', 'num_round': 90, 'featuresCol': 'features', 'nworkers': 1, 'silent': 0, 'labelCol': 'label', 'predictionCol': 'prediction', 'eval_metric': 'logloss', 'colsample_bytree': 0.7421735008186495, 'gamma': 0.13836557053148252}\n",
      "LOG-LOSS: 0.4718444371276647, ROC-AUC: 0.7799775429091744, elapsed_time: 177.8392508319812\n",
      "\n",
      "{'subsample': 0.6155228145653329, 'eta': 0.19718983146969132, 'max_depth': 5, 'nthread': 6, 'min_child_weight': 75.0, 'objective': 'binary:logistic', 'num_round': 40, 'featuresCol': 'features', 'nworkers': 1, 'silent': 0, 'labelCol': 'label', 'predictionCol': 'prediction', 'eval_metric': 'logloss', 'colsample_bytree': 0.6612813655489045, 'gamma': 0.31227443804827193}\n",
      "LOG-LOSS: 0.47251729374190926, ROC-AUC: 0.7796531762244477, elapsed_time: 119.47284038801445\n",
      "\n",
      "{'subsample': 0.7425296746054271, 'eta': 0.7285827378002535, 'max_depth': 9, 'nthread': 6, 'min_child_weight': 15.0, 'objective': 'binary:logistic', 'num_round': 80, 'featuresCol': 'features', 'nworkers': 1, 'silent': 0, 'labelCol': 'label', 'predictionCol': 'prediction', 'eval_metric': 'logloss', 'colsample_bytree': 0.8718237133498643, 'gamma': 0.0871272247236031}\n",
      "LOG-LOSS: 0.4995370779706706, ROC-AUC: 0.7579268332089345, elapsed_time: 318.14228576398455\n",
      "\n",
      "{'subsample': 0.5386858324450278, 'eta': 0.6567402540955658, 'max_depth': 7, 'nthread': 6, 'min_child_weight': 75.0, 'objective': 'binary:logistic', 'num_round': 100, 'featuresCol': 'features', 'nworkers': 1, 'silent': 0, 'labelCol': 'label', 'predictionCol': 'prediction', 'eval_metric': 'logloss', 'colsample_bytree': 0.3162542852029956, 'gamma': 0.6049309338370196}\n",
      "LOG-LOSS: 0.47519312074475534, ROC-AUC: 0.7770498005739523, elapsed_time: 219.92450278799515\n",
      "\n",
      "{'subsample': 0.33193126172898635, 'eta': 0.6368926156423922, 'max_depth': 9, 'nthread': 6, 'min_child_weight': 105.0, 'objective': 'binary:logistic', 'num_round': 60, 'featuresCol': 'features', 'nworkers': 1, 'silent': 0, 'labelCol': 'label', 'predictionCol': 'prediction', 'eval_metric': 'logloss', 'colsample_bytree': 0.3829023585494981, 'gamma': 0.1990033900303442}\n",
      "LOG-LOSS: 0.4804507144005349, ROC-AUC: 0.772594413134907, elapsed_time: 159.8053681209567\n",
      "\n",
      "{'subsample': 0.5227357111959497, 'eta': 0.36254429562879775, 'max_depth': 7, 'nthread': 6, 'min_child_weight': 90.0, 'objective': 'binary:logistic', 'num_round': 100, 'featuresCol': 'features', 'nworkers': 1, 'silent': 0, 'labelCol': 'label', 'predictionCol': 'prediction', 'eval_metric': 'logloss', 'colsample_bytree': 0.5663181462444257, 'gamma': 0.9943920251713693}\n",
      "LOG-LOSS: 0.46771410212029524, ROC-AUC: 0.7847524395017516, elapsed_time: 255.7302469369606\n",
      "\n",
      "{'subsample': 0.509146164153202, 'eta': 0.35609626623757634, 'max_depth': 8, 'nthread': 6, 'min_child_weight': 105.0, 'objective': 'binary:logistic', 'num_round': 60, 'featuresCol': 'features', 'nworkers': 1, 'silent': 0, 'labelCol': 'label', 'predictionCol': 'prediction', 'eval_metric': 'logloss', 'colsample_bytree': 0.5792677028119534, 'gamma': 0.9236911478468861}\n",
      "LOG-LOSS: 0.467793357077849, ROC-AUC: 0.7846745275958666, elapsed_time: 187.82973339298042\n",
      "\n",
      "{'subsample': 0.30895312780302503, 'eta': 0.27329267869174184, 'max_depth': 7, 'nthread': 6, 'min_child_weight': 90.0, 'objective': 'binary:logistic', 'num_round': 20, 'featuresCol': 'features', 'nworkers': 1, 'silent': 0, 'labelCol': 'label', 'predictionCol': 'prediction', 'eval_metric': 'logloss', 'colsample_bytree': 0.5797093635890789, 'gamma': 0.4616697439272115}\n",
      "LOG-LOSS: 0.47230590052848426, ROC-AUC: 0.7796873504664951, elapsed_time: 91.08072696701856\n",
      "\n",
      "{'subsample': 0.5323679930783145, 'eta': 0.36077850009527856, 'max_depth': 8, 'nthread': 6, 'min_child_weight': 45.0, 'objective': 'binary:logistic', 'num_round': 90, 'featuresCol': 'features', 'nworkers': 1, 'silent': 0, 'labelCol': 'label', 'predictionCol': 'prediction', 'eval_metric': 'logloss', 'colsample_bytree': 0.5258808116351223, 'gamma': 0.9342776339140261}\n",
      "LOG-LOSS: 0.4685393073601466, ROC-AUC: 0.7835428217245493, elapsed_time: 247.34261828800663\n",
      "\n",
      "{'subsample': 0.33476702735112784, 'eta': 0.23580631214379336, 'max_depth': 7, 'nthread': 6, 'min_child_weight': 105.0, 'objective': 'binary:logistic', 'num_round': 60, 'featuresCol': 'features', 'nworkers': 1, 'silent': 0, 'labelCol': 'label', 'predictionCol': 'prediction', 'eval_metric': 'logloss', 'colsample_bytree': 0.4139464132422515, 'gamma': 0.16462859392587736}\n",
      "LOG-LOSS: 0.4677632424715894, ROC-AUC: 0.7847715723431269, elapsed_time: 149.06585489801364\n",
      "\n",
      "{'subsample': 0.34902456034849716, 'eta': 0.3286641857523619, 'max_depth': 7, 'nthread': 6, 'min_child_weight': 90.0, 'objective': 'binary:logistic', 'num_round': 90, 'featuresCol': 'features', 'nworkers': 1, 'silent': 0, 'labelCol': 'label', 'predictionCol': 'prediction', 'eval_metric': 'logloss', 'colsample_bytree': 0.41912955576844657, 'gamma': 0.16600784590451817}\n",
      "LOG-LOSS: 0.46767534375521946, ROC-AUC: 0.7849063899172523, elapsed_time: 182.20199364802102\n",
      "\n",
      "{'subsample': 0.38262941245478777, 'eta': 0.5056557568124793, 'max_depth': 6, 'nthread': 6, 'min_child_weight': 105.0, 'objective': 'binary:logistic', 'num_round': 90, 'featuresCol': 'features', 'nworkers': 1, 'silent': 0, 'labelCol': 'label', 'predictionCol': 'prediction', 'eval_metric': 'logloss', 'colsample_bytree': 0.6242628174662751, 'gamma': 0.7187141022267345}\n",
      "LOG-LOSS: 0.4702862089062906, ROC-AUC: 0.7817295146686147, elapsed_time: 195.50204657402355\n",
      "\n",
      "{'subsample': 0.5671199406830716, 'eta': 0.3360421120626716, 'max_depth': 7, 'nthread': 6, 'min_child_weight': 90.0, 'objective': 'binary:logistic', 'num_round': 80, 'featuresCol': 'features', 'nworkers': 1, 'silent': 0, 'labelCol': 'label', 'predictionCol': 'prediction', 'eval_metric': 'logloss', 'colsample_bytree': 0.6310204096347904, 'gamma': 0.1807684385259789}\n",
      "LOG-LOSS: 0.4661847945552596, ROC-AUC: 0.7865544191452583, elapsed_time: 221.8223773589707\n",
      "\n",
      "100%|██████████| 30/30 [1:20:20<00:00, 160.67s/trial, best loss: 0.4661847945552596] \n"
     ]
    }
   ],
   "source": [
    "trials = Trials()\n",
    "best = fmin(fn=objective,\n",
    "            space=space,\n",
    "            algo=tpe.suggest,\n",
    "            max_evals=30,\n",
    "            trials=trials)"
   ]
  },
  {
   "cell_type": "code",
   "execution_count": 89,
   "metadata": {},
   "outputs": [
    {
     "data": {
      "text/plain": [
       "{'colsample_bytree': 0.6310204096347904,\n",
       " 'eta': 0.3360421120626716,\n",
       " 'gamma': 0.1807684385259789,\n",
       " 'max_depth': 7.0,\n",
       " 'min_child_weight': 90.0,\n",
       " 'num_round': 80.0,\n",
       " 'subsample': 0.5671199406830716}"
      ]
     },
     "execution_count": 89,
     "metadata": {},
     "output_type": "execute_result"
    }
   ],
   "source": [
    "best"
   ]
  },
  {
   "cell_type": "code",
   "execution_count": 91,
   "metadata": {},
   "outputs": [],
   "source": [
    "for param in cast_to_int_params:\n",
    "    best[param] = int(best[param])"
   ]
  },
  {
   "cell_type": "code",
   "execution_count": 92,
   "metadata": {},
   "outputs": [],
   "source": [
    "tuned_model = XGBoostEstimator(**{**static_params, **best}).fit(train_df)"
   ]
  },
  {
   "cell_type": "code",
   "execution_count": 93,
   "metadata": {},
   "outputs": [],
   "source": [
    "tuned_xgb_test_metrics = {\n",
    "    'logloss': logloss(tuned_model, test_df, probabilities_col='probabilities'),\n",
    "    'rocauc': rocauc(tuned_model, test_df, probabilities_col='probabilities')\n",
    "}\n",
    "\n",
    "all_metrics['tuned_xgb'] = tuned_xgb_test_metrics"
   ]
  },
  {
   "cell_type": "code",
   "execution_count": 94,
   "metadata": {},
   "outputs": [
    {
     "data": {
      "text/html": [
       "<div>\n",
       "<style scoped>\n",
       "    .dataframe tbody tr th:only-of-type {\n",
       "        vertical-align: middle;\n",
       "    }\n",
       "\n",
       "    .dataframe tbody tr th {\n",
       "        vertical-align: top;\n",
       "    }\n",
       "\n",
       "    .dataframe thead th {\n",
       "        text-align: right;\n",
       "    }\n",
       "</style>\n",
       "<table border=\"1\" class=\"dataframe\">\n",
       "  <thead>\n",
       "    <tr style=\"text-align: right;\">\n",
       "      <th></th>\n",
       "      <th>metric</th>\n",
       "      <th>tuned_xgb ate %</th>\n",
       "    </tr>\n",
       "  </thead>\n",
       "  <tbody>\n",
       "    <tr>\n",
       "      <th>0</th>\n",
       "      <td>logloss</td>\n",
       "      <td>-2.649236</td>\n",
       "    </tr>\n",
       "    <tr>\n",
       "      <th>1</th>\n",
       "      <td>rocauc</td>\n",
       "      <td>1.435124</td>\n",
       "    </tr>\n",
       "  </tbody>\n",
       "</table>\n",
       "</div>"
      ],
      "text/plain": [
       "    metric  tuned_xgb ate %\n",
       "0  logloss        -2.649236\n",
       "1   rocauc         1.435124"
      ]
     },
     "execution_count": 94,
     "metadata": {},
     "output_type": "execute_result"
    }
   ],
   "source": [
    "get_ate(all_metrics, CONTROL_NAME)"
   ]
  },
  {
   "cell_type": "code",
   "execution_count": 95,
   "metadata": {},
   "outputs": [
    {
     "data": {
      "text/plain": [
       "{'tuned_xgb': {'logloss': 0.4717134469662689, 'rocauc': 0.7839528973677383},\n",
       " 'xgb baseline': {'logloss': 0.4845503277394011, 'rocauc': 0.7728613798531613}}"
      ]
     },
     "execution_count": 95,
     "metadata": {},
     "output_type": "execute_result"
    }
   ],
   "source": [
    "all_metrics"
   ]
  },
  {
   "cell_type": "markdown",
   "metadata": {},
   "source": [
    "## Kaggle"
   ]
  },
  {
   "cell_type": "code",
   "execution_count": 111,
   "metadata": {},
   "outputs": [],
   "source": [
    "from pyspark.sql import types as T"
   ]
  },
  {
   "cell_type": "code",
   "execution_count": 125,
   "metadata": {},
   "outputs": [],
   "source": [
    "TEST_PATH = os.path.join(DATA_PATH, 'test.csv')"
   ]
  },
  {
   "cell_type": "code",
   "execution_count": 126,
   "metadata": {},
   "outputs": [],
   "source": [
    "kaggle = pd.read_csv(TEST_PATH)"
   ]
  },
  {
   "cell_type": "code",
   "execution_count": 127,
   "metadata": {},
   "outputs": [
    {
     "data": {
      "text/html": [
       "<div>\n",
       "<style scoped>\n",
       "    .dataframe tbody tr th:only-of-type {\n",
       "        vertical-align: middle;\n",
       "    }\n",
       "\n",
       "    .dataframe tbody tr th {\n",
       "        vertical-align: top;\n",
       "    }\n",
       "\n",
       "    .dataframe thead th {\n",
       "        text-align: right;\n",
       "    }\n",
       "</style>\n",
       "<table border=\"1\" class=\"dataframe\">\n",
       "  <thead>\n",
       "    <tr style=\"text-align: right;\">\n",
       "      <th></th>\n",
       "      <th>_c1</th>\n",
       "      <th>_c2</th>\n",
       "      <th>_c3</th>\n",
       "      <th>_c4</th>\n",
       "      <th>_c5</th>\n",
       "      <th>_c6</th>\n",
       "      <th>_c7</th>\n",
       "      <th>_c8</th>\n",
       "      <th>_c9</th>\n",
       "      <th>_c10</th>\n",
       "      <th>...</th>\n",
       "      <th>_c31</th>\n",
       "      <th>_c32</th>\n",
       "      <th>_c33</th>\n",
       "      <th>_c34</th>\n",
       "      <th>_c35</th>\n",
       "      <th>_c36</th>\n",
       "      <th>_c37</th>\n",
       "      <th>_c38</th>\n",
       "      <th>_c39</th>\n",
       "      <th>id</th>\n",
       "    </tr>\n",
       "  </thead>\n",
       "  <tbody>\n",
       "    <tr>\n",
       "      <th>0</th>\n",
       "      <td>NaN</td>\n",
       "      <td>19</td>\n",
       "      <td>2.0</td>\n",
       "      <td>4.0</td>\n",
       "      <td>4576.0</td>\n",
       "      <td>6.0</td>\n",
       "      <td>6.0</td>\n",
       "      <td>5.0</td>\n",
       "      <td>15.0</td>\n",
       "      <td>NaN</td>\n",
       "      <td>...</td>\n",
       "      <td>43de85d3</td>\n",
       "      <td>NaN</td>\n",
       "      <td>NaN</td>\n",
       "      <td>b64021bd</td>\n",
       "      <td>NaN</td>\n",
       "      <td>32c7478e</td>\n",
       "      <td>f1a27f66</td>\n",
       "      <td>NaN</td>\n",
       "      <td>NaN</td>\n",
       "      <td>566935904713</td>\n",
       "    </tr>\n",
       "    <tr>\n",
       "      <th>1</th>\n",
       "      <td>NaN</td>\n",
       "      <td>1</td>\n",
       "      <td>1.0</td>\n",
       "      <td>NaN</td>\n",
       "      <td>5688.0</td>\n",
       "      <td>NaN</td>\n",
       "      <td>0.0</td>\n",
       "      <td>2.0</td>\n",
       "      <td>10.0</td>\n",
       "      <td>NaN</td>\n",
       "      <td>...</td>\n",
       "      <td>e7e991cb</td>\n",
       "      <td>efa3470f</td>\n",
       "      <td>a458ea53</td>\n",
       "      <td>6ef75f1d</td>\n",
       "      <td>78e2e389</td>\n",
       "      <td>32c7478e</td>\n",
       "      <td>f53ea242</td>\n",
       "      <td>cb079c2d</td>\n",
       "      <td>e9b68fcc</td>\n",
       "      <td>566935904715</td>\n",
       "    </tr>\n",
       "    <tr>\n",
       "      <th>2</th>\n",
       "      <td>NaN</td>\n",
       "      <td>445</td>\n",
       "      <td>2.0</td>\n",
       "      <td>2.0</td>\n",
       "      <td>8579.0</td>\n",
       "      <td>26.0</td>\n",
       "      <td>1.0</td>\n",
       "      <td>2.0</td>\n",
       "      <td>26.0</td>\n",
       "      <td>NaN</td>\n",
       "      <td>...</td>\n",
       "      <td>e5f8f18f</td>\n",
       "      <td>NaN</td>\n",
       "      <td>NaN</td>\n",
       "      <td>f3ddd519</td>\n",
       "      <td>ad3062eb</td>\n",
       "      <td>32c7478e</td>\n",
       "      <td>b34f3128</td>\n",
       "      <td>NaN</td>\n",
       "      <td>NaN</td>\n",
       "      <td>566935904727</td>\n",
       "    </tr>\n",
       "    <tr>\n",
       "      <th>3</th>\n",
       "      <td>0.0</td>\n",
       "      <td>172</td>\n",
       "      <td>7.0</td>\n",
       "      <td>1.0</td>\n",
       "      <td>2008.0</td>\n",
       "      <td>143.0</td>\n",
       "      <td>24.0</td>\n",
       "      <td>28.0</td>\n",
       "      <td>430.0</td>\n",
       "      <td>0.0</td>\n",
       "      <td>...</td>\n",
       "      <td>eef7297e</td>\n",
       "      <td>NaN</td>\n",
       "      <td>NaN</td>\n",
       "      <td>8ae05402</td>\n",
       "      <td>ad3062eb</td>\n",
       "      <td>423fab69</td>\n",
       "      <td>8d4a9014</td>\n",
       "      <td>NaN</td>\n",
       "      <td>NaN</td>\n",
       "      <td>566935904737</td>\n",
       "    </tr>\n",
       "    <tr>\n",
       "      <th>4</th>\n",
       "      <td>NaN</td>\n",
       "      <td>11</td>\n",
       "      <td>4.0</td>\n",
       "      <td>4.0</td>\n",
       "      <td>14.0</td>\n",
       "      <td>NaN</td>\n",
       "      <td>0.0</td>\n",
       "      <td>4.0</td>\n",
       "      <td>6.0</td>\n",
       "      <td>NaN</td>\n",
       "      <td>...</td>\n",
       "      <td>7181ccc8</td>\n",
       "      <td>NaN</td>\n",
       "      <td>NaN</td>\n",
       "      <td>2265e99d</td>\n",
       "      <td>NaN</td>\n",
       "      <td>32c7478e</td>\n",
       "      <td>5dc43b96</td>\n",
       "      <td>NaN</td>\n",
       "      <td>NaN</td>\n",
       "      <td>566935904741</td>\n",
       "    </tr>\n",
       "  </tbody>\n",
       "</table>\n",
       "<p>5 rows × 40 columns</p>\n",
       "</div>"
      ],
      "text/plain": [
       "   _c1  _c2  _c3  _c4     _c5    _c6   _c7   _c8    _c9  _c10  ...      _c31  \\\n",
       "0  NaN   19  2.0  4.0  4576.0    6.0   6.0   5.0   15.0   NaN  ...  43de85d3   \n",
       "1  NaN    1  1.0  NaN  5688.0    NaN   0.0   2.0   10.0   NaN  ...  e7e991cb   \n",
       "2  NaN  445  2.0  2.0  8579.0   26.0   1.0   2.0   26.0   NaN  ...  e5f8f18f   \n",
       "3  0.0  172  7.0  1.0  2008.0  143.0  24.0  28.0  430.0   0.0  ...  eef7297e   \n",
       "4  NaN   11  4.0  4.0    14.0    NaN   0.0   4.0    6.0   NaN  ...  7181ccc8   \n",
       "\n",
       "       _c32      _c33      _c34      _c35      _c36      _c37      _c38  \\\n",
       "0       NaN       NaN  b64021bd       NaN  32c7478e  f1a27f66       NaN   \n",
       "1  efa3470f  a458ea53  6ef75f1d  78e2e389  32c7478e  f53ea242  cb079c2d   \n",
       "2       NaN       NaN  f3ddd519  ad3062eb  32c7478e  b34f3128       NaN   \n",
       "3       NaN       NaN  8ae05402  ad3062eb  423fab69  8d4a9014       NaN   \n",
       "4       NaN       NaN  2265e99d       NaN  32c7478e  5dc43b96       NaN   \n",
       "\n",
       "       _c39            id  \n",
       "0       NaN  566935904713  \n",
       "1  e9b68fcc  566935904715  \n",
       "2       NaN  566935904727  \n",
       "3       NaN  566935904737  \n",
       "4       NaN  566935904741  \n",
       "\n",
       "[5 rows x 40 columns]"
      ]
     },
     "execution_count": 127,
     "metadata": {},
     "output_type": "execute_result"
    }
   ],
   "source": [
    "kaggle.head()"
   ]
  },
  {
   "cell_type": "code",
   "execution_count": 128,
   "metadata": {},
   "outputs": [],
   "source": [
    "kaggle, id_kaggle = kaggle.drop(columns='id'), kaggle['id']"
   ]
  },
  {
   "cell_type": "code",
   "execution_count": 129,
   "metadata": {},
   "outputs": [
    {
     "name": "stdout",
     "output_type": "stream",
     "text": [
      "CPU times: user 14.5 s, sys: 2.67 s, total: 17.2 s\n",
      "Wall time: 17.2 s\n"
     ]
    }
   ],
   "source": [
    "%%time\n",
    "kaggle_encoded = encoder.transform(kaggle)"
   ]
  },
  {
   "cell_type": "code",
   "execution_count": 130,
   "metadata": {},
   "outputs": [],
   "source": [
    "kaggle_encoded['id'] = id_kaggle"
   ]
  },
  {
   "cell_type": "code",
   "execution_count": 122,
   "metadata": {},
   "outputs": [
    {
     "data": {
      "text/html": [
       "<div>\n",
       "<style scoped>\n",
       "    .dataframe tbody tr th:only-of-type {\n",
       "        vertical-align: middle;\n",
       "    }\n",
       "\n",
       "    .dataframe tbody tr th {\n",
       "        vertical-align: top;\n",
       "    }\n",
       "\n",
       "    .dataframe thead th {\n",
       "        text-align: right;\n",
       "    }\n",
       "</style>\n",
       "<table border=\"1\" class=\"dataframe\">\n",
       "  <thead>\n",
       "    <tr style=\"text-align: right;\">\n",
       "      <th></th>\n",
       "      <th>_c1</th>\n",
       "      <th>_c2</th>\n",
       "      <th>_c3</th>\n",
       "      <th>_c4</th>\n",
       "      <th>_c5</th>\n",
       "      <th>_c6</th>\n",
       "      <th>_c7</th>\n",
       "      <th>_c8</th>\n",
       "      <th>_c9</th>\n",
       "      <th>_c10</th>\n",
       "      <th>...</th>\n",
       "      <th>_c30</th>\n",
       "      <th>_c31</th>\n",
       "      <th>_c32</th>\n",
       "      <th>_c33</th>\n",
       "      <th>_c34</th>\n",
       "      <th>_c35</th>\n",
       "      <th>_c36</th>\n",
       "      <th>_c37</th>\n",
       "      <th>_c38</th>\n",
       "      <th>_c39</th>\n",
       "    </tr>\n",
       "  </thead>\n",
       "  <tbody>\n",
       "    <tr>\n",
       "      <th>0</th>\n",
       "      <td>NaN</td>\n",
       "      <td>19</td>\n",
       "      <td>2.0</td>\n",
       "      <td>4.0</td>\n",
       "      <td>4576.0</td>\n",
       "      <td>6.0</td>\n",
       "      <td>6.0</td>\n",
       "      <td>5.0</td>\n",
       "      <td>15.0</td>\n",
       "      <td>NaN</td>\n",
       "      <td>...</td>\n",
       "      <td>0.309110</td>\n",
       "      <td>0.287443</td>\n",
       "      <td>0.269864</td>\n",
       "      <td>0.269864</td>\n",
       "      <td>0.256457</td>\n",
       "      <td>0.248842</td>\n",
       "      <td>0.271270</td>\n",
       "      <td>0.246929</td>\n",
       "      <td>0.269864</td>\n",
       "      <td>0.269864</td>\n",
       "    </tr>\n",
       "    <tr>\n",
       "      <th>1</th>\n",
       "      <td>NaN</td>\n",
       "      <td>1</td>\n",
       "      <td>1.0</td>\n",
       "      <td>NaN</td>\n",
       "      <td>5688.0</td>\n",
       "      <td>NaN</td>\n",
       "      <td>0.0</td>\n",
       "      <td>2.0</td>\n",
       "      <td>10.0</td>\n",
       "      <td>NaN</td>\n",
       "      <td>...</td>\n",
       "      <td>0.309110</td>\n",
       "      <td>0.307631</td>\n",
       "      <td>0.262105</td>\n",
       "      <td>0.236122</td>\n",
       "      <td>0.256457</td>\n",
       "      <td>0.282588</td>\n",
       "      <td>0.271270</td>\n",
       "      <td>0.242785</td>\n",
       "      <td>0.269719</td>\n",
       "      <td>0.242785</td>\n",
       "    </tr>\n",
       "    <tr>\n",
       "      <th>2</th>\n",
       "      <td>NaN</td>\n",
       "      <td>445</td>\n",
       "      <td>2.0</td>\n",
       "      <td>2.0</td>\n",
       "      <td>8579.0</td>\n",
       "      <td>26.0</td>\n",
       "      <td>1.0</td>\n",
       "      <td>2.0</td>\n",
       "      <td>26.0</td>\n",
       "      <td>NaN</td>\n",
       "      <td>...</td>\n",
       "      <td>0.186589</td>\n",
       "      <td>0.423678</td>\n",
       "      <td>0.269864</td>\n",
       "      <td>0.269864</td>\n",
       "      <td>0.365926</td>\n",
       "      <td>0.293339</td>\n",
       "      <td>0.271270</td>\n",
       "      <td>0.265294</td>\n",
       "      <td>0.269864</td>\n",
       "      <td>0.269864</td>\n",
       "    </tr>\n",
       "    <tr>\n",
       "      <th>3</th>\n",
       "      <td>0.0</td>\n",
       "      <td>172</td>\n",
       "      <td>7.0</td>\n",
       "      <td>1.0</td>\n",
       "      <td>2008.0</td>\n",
       "      <td>143.0</td>\n",
       "      <td>24.0</td>\n",
       "      <td>28.0</td>\n",
       "      <td>430.0</td>\n",
       "      <td>0.0</td>\n",
       "      <td>...</td>\n",
       "      <td>0.309110</td>\n",
       "      <td>0.486853</td>\n",
       "      <td>0.269864</td>\n",
       "      <td>0.269864</td>\n",
       "      <td>0.426548</td>\n",
       "      <td>0.293339</td>\n",
       "      <td>0.356999</td>\n",
       "      <td>0.486043</td>\n",
       "      <td>0.269864</td>\n",
       "      <td>0.269864</td>\n",
       "    </tr>\n",
       "    <tr>\n",
       "      <th>4</th>\n",
       "      <td>NaN</td>\n",
       "      <td>11</td>\n",
       "      <td>4.0</td>\n",
       "      <td>4.0</td>\n",
       "      <td>14.0</td>\n",
       "      <td>NaN</td>\n",
       "      <td>0.0</td>\n",
       "      <td>4.0</td>\n",
       "      <td>6.0</td>\n",
       "      <td>NaN</td>\n",
       "      <td>...</td>\n",
       "      <td>0.309110</td>\n",
       "      <td>0.250631</td>\n",
       "      <td>0.269864</td>\n",
       "      <td>0.269864</td>\n",
       "      <td>0.114223</td>\n",
       "      <td>0.248842</td>\n",
       "      <td>0.271270</td>\n",
       "      <td>0.304967</td>\n",
       "      <td>0.269864</td>\n",
       "      <td>0.269864</td>\n",
       "    </tr>\n",
       "  </tbody>\n",
       "</table>\n",
       "<p>5 rows × 39 columns</p>\n",
       "</div>"
      ],
      "text/plain": [
       "   _c1  _c2  _c3  _c4     _c5    _c6   _c7   _c8    _c9  _c10  ...      _c30  \\\n",
       "0  NaN   19  2.0  4.0  4576.0    6.0   6.0   5.0   15.0   NaN  ...  0.309110   \n",
       "1  NaN    1  1.0  NaN  5688.0    NaN   0.0   2.0   10.0   NaN  ...  0.309110   \n",
       "2  NaN  445  2.0  2.0  8579.0   26.0   1.0   2.0   26.0   NaN  ...  0.186589   \n",
       "3  0.0  172  7.0  1.0  2008.0  143.0  24.0  28.0  430.0   0.0  ...  0.309110   \n",
       "4  NaN   11  4.0  4.0    14.0    NaN   0.0   4.0    6.0   NaN  ...  0.309110   \n",
       "\n",
       "       _c31      _c32      _c33      _c34      _c35      _c36      _c37  \\\n",
       "0  0.287443  0.269864  0.269864  0.256457  0.248842  0.271270  0.246929   \n",
       "1  0.307631  0.262105  0.236122  0.256457  0.282588  0.271270  0.242785   \n",
       "2  0.423678  0.269864  0.269864  0.365926  0.293339  0.271270  0.265294   \n",
       "3  0.486853  0.269864  0.269864  0.426548  0.293339  0.356999  0.486043   \n",
       "4  0.250631  0.269864  0.269864  0.114223  0.248842  0.271270  0.304967   \n",
       "\n",
       "       _c38      _c39  \n",
       "0  0.269864  0.269864  \n",
       "1  0.269719  0.242785  \n",
       "2  0.269864  0.269864  \n",
       "3  0.269864  0.269864  \n",
       "4  0.269864  0.269864  \n",
       "\n",
       "[5 rows x 39 columns]"
      ]
     },
     "execution_count": 122,
     "metadata": {},
     "output_type": "execute_result"
    }
   ],
   "source": [
    "kaggle_encoded.head()"
   ]
  },
  {
   "cell_type": "code",
   "execution_count": 131,
   "metadata": {},
   "outputs": [],
   "source": [
    "kaggle_df = pandas_to_spark(kaggle_encoded)"
   ]
  },
  {
   "cell_type": "code",
   "execution_count": 132,
   "metadata": {},
   "outputs": [],
   "source": [
    "kaggle_df = kaggle_df.fillna(0, subset=num_columns)"
   ]
  },
  {
   "cell_type": "code",
   "execution_count": 133,
   "metadata": {},
   "outputs": [],
   "source": [
    "kaggle_df = fitted_pipeline \\\n",
    "        .transform(kaggle_df) \\\n",
    "        .select('features', 'id') \\\n",
    "        .cache()"
   ]
  },
  {
   "cell_type": "code",
   "execution_count": 134,
   "metadata": {},
   "outputs": [],
   "source": [
    "kaggle_df = kaggle_df.repartition(6).cache()"
   ]
  },
  {
   "cell_type": "code",
   "execution_count": 135,
   "metadata": {},
   "outputs": [],
   "source": [
    "preds = tuned_model.transform(kaggle_df)"
   ]
  },
  {
   "cell_type": "code",
   "execution_count": 136,
   "metadata": {},
   "outputs": [],
   "source": [
    "preds = preds.withColumn('proba', F.udf(lambda v: float(v[1]), T.FloatType())(F.col('probabilities')))"
   ]
  },
  {
   "cell_type": "code",
   "execution_count": 137,
   "metadata": {},
   "outputs": [],
   "source": [
    "SUBMISSIONS_FOLDER = os.path.join(DATA_PATH, 'submissions')\n",
    "os.makedirs(SUBMISSIONS_FOLDER, exist_ok=True)"
   ]
  },
  {
   "cell_type": "code",
   "execution_count": 138,
   "metadata": {},
   "outputs": [],
   "source": [
    "SUBMISSION_PATH = os.path.join(SUBMISSIONS_FOLDER, 'full_dataset_mte_xgb.csv')"
   ]
  },
  {
   "cell_type": "code",
   "execution_count": 139,
   "metadata": {},
   "outputs": [],
   "source": [
    "preds.select('id', 'proba').toPandas().to_csv(SUBMISSION_PATH, index=False)"
   ]
  },
  {
   "cell_type": "code",
   "execution_count": 140,
   "metadata": {},
   "outputs": [
    {
     "data": {
      "text/html": [
       "<div>\n",
       "<style scoped>\n",
       "    .dataframe tbody tr th:only-of-type {\n",
       "        vertical-align: middle;\n",
       "    }\n",
       "\n",
       "    .dataframe tbody tr th {\n",
       "        vertical-align: top;\n",
       "    }\n",
       "\n",
       "    .dataframe thead th {\n",
       "        text-align: right;\n",
       "    }\n",
       "</style>\n",
       "<table border=\"1\" class=\"dataframe\">\n",
       "  <thead>\n",
       "    <tr style=\"text-align: right;\">\n",
       "      <th></th>\n",
       "      <th>id</th>\n",
       "      <th>proba</th>\n",
       "    </tr>\n",
       "  </thead>\n",
       "  <tbody>\n",
       "    <tr>\n",
       "      <th>0</th>\n",
       "      <td>566936179499</td>\n",
       "      <td>0.157406</td>\n",
       "    </tr>\n",
       "    <tr>\n",
       "      <th>1</th>\n",
       "      <td>584116096827</td>\n",
       "      <td>0.044797</td>\n",
       "    </tr>\n",
       "    <tr>\n",
       "      <th>2</th>\n",
       "      <td>575525985092</td>\n",
       "      <td>0.102863</td>\n",
       "    </tr>\n",
       "    <tr>\n",
       "      <th>3</th>\n",
       "      <td>575525778555</td>\n",
       "      <td>0.575226</td>\n",
       "    </tr>\n",
       "    <tr>\n",
       "      <th>4</th>\n",
       "      <td>584115725080</td>\n",
       "      <td>0.382264</td>\n",
       "    </tr>\n",
       "  </tbody>\n",
       "</table>\n",
       "</div>"
      ],
      "text/plain": [
       "             id     proba\n",
       "0  566936179499  0.157406\n",
       "1  584116096827  0.044797\n",
       "2  575525985092  0.102863\n",
       "3  575525778555  0.575226\n",
       "4  584115725080  0.382264"
      ]
     },
     "execution_count": 140,
     "metadata": {},
     "output_type": "execute_result"
    }
   ],
   "source": [
    "preds.limit(5).select('id', 'proba').toPandas()"
   ]
  },
  {
   "cell_type": "code",
   "execution_count": 141,
   "metadata": {},
   "outputs": [
    {
     "name": "stdout",
     "output_type": "stream",
     "text": [
      "100%|██████████████████████████████████████| 20.9M/20.9M [00:03<00:00, 6.12MB/s]\n",
      "Successfully submitted to CTR prediction"
     ]
    }
   ],
   "source": [
    "! kaggle competitions submit mlbd-20-ctr-prediction-1 -f $SUBMISSION_PATH -m \"full train, mte, xgb, tuned\""
   ]
  },
  {
   "cell_type": "code",
   "execution_count": 142,
   "metadata": {},
   "outputs": [
    {
     "name": "stdout",
     "output_type": "stream",
     "text": [
      "fileName,date,description,status,publicScore,privateScore\n",
      "full_dataset_mte_xgb.csv,2020-03-31 21:58:04,\"full train, mte, xgb, tuned\",complete,0.77880,None\n",
      "hyperopt_xgb.csv,2020-03-12 06:31:23,\"still 0.5 of train, xgb, but tuned with hyperopt\",complete,0.73301,None\n",
      "pure_xgb.csv,2020-03-12 06:30:03,\"still 0.5 of train, xgb, without tuning\",complete,0.71998,None\n",
      "hyperopt_logreg.csv,2020-03-12 06:25:26,\"still 0.5 of train, logreg, but tuned with hyperopt\",complete,0.69511,None\n",
      "hyperopt_logreg.csv,2020-03-12 06:20:56,error_sub,error,None,None\n",
      "submission.csv,2020-02-27 01:26:19,\"Random half of train, moreover 0.8 of it, log reg with 50 iterations. Local AUC: ~70\",complete,0.69420,None\n"
     ]
    }
   ],
   "source": [
    "! kaggle competitions submissions mlbd-20-ctr-prediction-1 -v"
   ]
  },
  {
   "cell_type": "markdown",
   "metadata": {},
   "source": [
    "Если бы в соревновании была бы другая метрика (например `logloss`), то могло бы помочь вычитания разности между средним значением по предсказанию и тренировочным данным, однако на roc-auc это никак не повлияет"
   ]
  },
  {
   "cell_type": "code",
   "execution_count": 143,
   "metadata": {},
   "outputs": [],
   "source": [
    "def get_mean(df, col):\n",
    "    return df.select(F.mean(col)).first()[0]"
   ]
  },
  {
   "cell_type": "code",
   "execution_count": 144,
   "metadata": {},
   "outputs": [
    {
     "data": {
      "text/plain": [
       "0.2720650592369951"
      ]
     },
     "execution_count": 144,
     "metadata": {},
     "output_type": "execute_result"
    }
   ],
   "source": [
    "get_mean(preds, 'proba')"
   ]
  },
  {
   "cell_type": "code",
   "execution_count": 145,
   "metadata": {},
   "outputs": [
    {
     "data": {
      "text/plain": [
       "0.2613037629640948"
      ]
     },
     "execution_count": 145,
     "metadata": {},
     "output_type": "execute_result"
    }
   ],
   "source": [
    "get_mean(val_df, 'label')"
   ]
  }
 ],
 "metadata": {
  "kernelspec": {
   "display_name": "Python 3",
   "language": "python",
   "name": "python3"
  },
  "language_info": {
   "codemirror_mode": {
    "name": "ipython",
    "version": 3
   },
   "file_extension": ".py",
   "mimetype": "text/x-python",
   "name": "python",
   "nbconvert_exporter": "python",
   "pygments_lexer": "ipython3",
   "version": "3.7.5"
  }
 },
 "nbformat": 4,
 "nbformat_minor": 4
}

{
 "cells": [
  {
   "cell_type": "markdown",
   "metadata": {
    "toc": true
   },
   "source": [
    "<h1>Table of Contents<span class=\"tocSkip\"></span></h1>\n",
    "<div class=\"toc\"><ul class=\"toc-item\"><li><span><a href=\"#Spark-MLlib-Tuning\" data-toc-modified-id=\"Spark-MLlib-Tuning-1\"><span class=\"toc-item-num\">1&nbsp;&nbsp;</span><a href=\"https://spark.apache.org/docs/latest/ml-tuning.html\" target=\"_blank\">Spark MLlib Tuning</a></a></span></li><li><span><a href=\"#Hyperopt\" data-toc-modified-id=\"Hyperopt-2\"><span class=\"toc-item-num\">2&nbsp;&nbsp;</span><a href=\"https://github.com/hyperopt/hyperopt\" target=\"_blank\">Hyperopt</a></a></span><ul class=\"toc-item\"><li><span><a href=\"#XGBoost-Tuning\" data-toc-modified-id=\"XGBoost-Tuning-2.1\"><span class=\"toc-item-num\">2.1&nbsp;&nbsp;</span><a href=\"https://www.analyticsvidhya.com/blog/2016/03/complete-guide-parameter-tuning-xgboost-with-codes-python/\" target=\"_blank\">XGBoost Tuning</a></a></span><ul class=\"toc-item\"><li><span><a href=\"#Objective-function\" data-toc-modified-id=\"Objective-function-2.1.1\"><span class=\"toc-item-num\">2.1.1&nbsp;&nbsp;</span>Objective function</a></span></li><li><span><a href=\"#Tune-number-of-trees\" data-toc-modified-id=\"Tune-number-of-trees-2.1.2\"><span class=\"toc-item-num\">2.1.2&nbsp;&nbsp;</span>Tune number of trees</a></span></li><li><span><a href=\"#Tune-tree-specific-parameters\" data-toc-modified-id=\"Tune-tree-specific-parameters-2.1.3\"><span class=\"toc-item-num\">2.1.3&nbsp;&nbsp;</span>Tune tree-specific parameters</a></span><ul class=\"toc-item\"><li><span><a href=\"#Tune-max_depth,-min_child_weight\" data-toc-modified-id=\"Tune-max_depth,-min_child_weight-2.1.3.1\"><span class=\"toc-item-num\">2.1.3.1&nbsp;&nbsp;</span>Tune max_depth, min_child_weight</a></span></li><li><span><a href=\"#Tune-gamma\" data-toc-modified-id=\"Tune-gamma-2.1.3.2\"><span class=\"toc-item-num\">2.1.3.2&nbsp;&nbsp;</span>Tune gamma</a></span></li><li><span><a href=\"#Tune-subsample,-colsample_bytree\" data-toc-modified-id=\"Tune-subsample,-colsample_bytree-2.1.3.3\"><span class=\"toc-item-num\">2.1.3.3&nbsp;&nbsp;</span>Tune subsample, colsample_bytree</a></span></li></ul></li><li><span><a href=\"#Tune-regularization-parameters\" data-toc-modified-id=\"Tune-regularization-parameters-2.1.4\"><span class=\"toc-item-num\">2.1.4&nbsp;&nbsp;</span>Tune regularization parameters</a></span></li><li><span><a href=\"#Lower-the-learning-rate-and-decide-the-optimal-parameters\" data-toc-modified-id=\"Lower-the-learning-rate-and-decide-the-optimal-parameters-2.1.5\"><span class=\"toc-item-num\">2.1.5&nbsp;&nbsp;</span>Lower the learning rate and decide the optimal parameters</a></span></li></ul></li><li><span><a href=\"#LogisticRegression-Tuning\" data-toc-modified-id=\"LogisticRegression-Tuning-2.2\"><span class=\"toc-item-num\">2.2&nbsp;&nbsp;</span>LogisticRegression Tuning</a></span></li><li><span><a href=\"#Optional-MongoTrials\" data-toc-modified-id=\"Optional-MongoTrials-2.3\"><span class=\"toc-item-num\">2.3&nbsp;&nbsp;</span>Optional <a href=\"https://hyperopt.github.io/hyperopt/scaleout/mongodb/\" target=\"_blank\">MongoTrials</a></a></span><ul class=\"toc-item\"><li><span><a href=\"#XGBoost-Tuning\" data-toc-modified-id=\"XGBoost-Tuning-2.3.1\"><span class=\"toc-item-num\">2.3.1&nbsp;&nbsp;</span>XGBoost Tuning</a></span></li></ul></li></ul></li><li><span><a href=\"#Results\" data-toc-modified-id=\"Results-3\"><span class=\"toc-item-num\">3&nbsp;&nbsp;</span>Results</a></span></li></ul></div>"
   ]
  },
  {
   "cell_type": "markdown",
   "metadata": {},
   "source": [
    "Продолжаем работать над задачей CTR-prediction с использованием датасета от Criteo.\n",
    "\n",
    "Описание задачи и данных можно посмотреть в notebook'e предыдущей практики (`sgd_logreg_nn/notebooks/ctr_prediction_mllib.ipynb`)."
   ]
  },
  {
   "cell_type": "code",
   "execution_count": 1,
   "metadata": {},
   "outputs": [
    {
     "name": "stdout",
     "output_type": "stream",
     "text": [
      "Collecting xgboost\n",
      "  Downloading xgboost-1.0.2-py3-none-manylinux1_x86_64.whl (109.7 MB)\n",
      "\u001b[K     |████████████████████████████████| 109.7 MB 11.2 MB/s eta 0:00:01   |█████████████████               | 58.3 MB 9.2 MB/s eta 0:00:06     |████████████████████▍           | 69.8 MB 11.7 MB/s eta 0:00:04     |████████████████████████▍       | 83.6 MB 12.7 MB/s eta 0:00:03     |█████████████████████████       | 85.4 MB 12.7 MB/s eta 0:00:02     |██████████████████████████▊     | 91.5 MB 12.3 MB/s eta 0:00:02\n",
      "\u001b[?25hRequirement already satisfied: numpy in /usr/lib64/python3.5/site-packages (from xgboost) (1.17.2)\n",
      "Requirement already satisfied: scipy in /usr/lib64/python3.5/site-packages (from xgboost) (1.3.3)\n",
      "Installing collected packages: xgboost\n",
      "Successfully installed xgboost-1.0.2\n"
     ]
    }
   ],
   "source": [
    "! pip3.5 install xgboost"
   ]
  },
  {
   "cell_type": "code",
   "execution_count": 2,
   "metadata": {},
   "outputs": [],
   "source": [
    "%matplotlib inline\n",
    "%config InlineBackend.figure_format ='retina'\n",
    "\n",
    "import os\n",
    "import sys\n",
    "import glob\n",
    "import pickle\n",
    "import seaborn as sns\n",
    "import matplotlib.pyplot as plt\n",
    "import numpy as np\n",
    "\n",
    "import pyspark\n",
    "import pyspark.sql.functions as F\n",
    "from pyspark.conf import SparkConf\n",
    "from pyspark.sql import SQLContext\n",
    "from pyspark.sql import SparkSession\n",
    "from pyspark.sql import Row\n",
    "\n",
    "COMMON_PATH = '/workspace/common'\n",
    "\n",
    "sys.path.append(os.path.join(COMMON_PATH, 'utils'))\n",
    "\n",
    "os.environ['PYSPARK_SUBMIT_ARGS'] = \"\"\"\n",
    "--jars {common}/xgboost4j-spark-0.72.jar,{common}/xgboost4j-0.72.jar\n",
    "--py-files {common}/sparkxgb.zip pyspark-shell\n",
    "\"\"\".format(common=COMMON_PATH).replace('\\n', ' ')\n",
    "\n",
    "spark = SparkSession \\\n",
    "    .builder \\\n",
    "    .master('local[*]') \\\n",
    "    .appName(\"spark_sql_examples\") \\\n",
    "    .config(\"spark.executor.memory\", \"12g\") \\\n",
    "    .config(\"spark.driver.memory\", \"12g\") \\\n",
    "    .config(\"spark.task.cpus\", \"8\") \\\n",
    "    .config(\"spark.executor.cores\", \"8\") \\\n",
    "    .getOrCreate()\n",
    "\n",
    "sc = spark.sparkContext\n",
    "sqlContext = SQLContext(sc)\n",
    "\n",
    "from metrics import rocauc, logloss, ne, get_ate\n",
    "from processing import split_by_col\n",
    "\n",
    "from sparkxgb.xgboost import *"
   ]
  },
  {
   "cell_type": "code",
   "execution_count": 3,
   "metadata": {},
   "outputs": [],
   "source": [
    "DATA_PATH = '/workspace/data/criteo'\n",
    "\n",
    "TRAIN_PATH = os.path.join(DATA_PATH, 'train.csv')"
   ]
  },
  {
   "cell_type": "code",
   "execution_count": 4,
   "metadata": {},
   "outputs": [],
   "source": [
    "df = sqlContext.read.format(\"com.databricks.spark.csv\") \\\n",
    "    .option(\"delimiter\", \",\") \\\n",
    "    .option(\"header\", \"true\") \\\n",
    "    .option(\"inferSchema\", \"true\") \\\n",
    "    .load('file:///' + TRAIN_PATH)"
   ]
  },
  {
   "cell_type": "markdown",
   "metadata": {},
   "source": [
    "**Remark** Необязательно использовать половину датасета и всего две категориальные переменные. Можно использовать больше данных, если вам позволяет ваша конфигурация"
   ]
  },
  {
   "cell_type": "code",
   "execution_count": 5,
   "metadata": {},
   "outputs": [],
   "source": [
    "df = df.sample(False, 0.5)"
   ]
  },
  {
   "cell_type": "code",
   "execution_count": 6,
   "metadata": {},
   "outputs": [
    {
     "data": {
      "text/plain": [
       "(13, 2)"
      ]
     },
     "execution_count": 6,
     "metadata": {},
     "output_type": "execute_result"
    }
   ],
   "source": [
    "num_columns = ['_c{}'.format(i) for i in range(1, 14)]\n",
    "cat_columns = ['_c{}'.format(i) for i in range(14, 40)][:2]\n",
    "len(num_columns), len(cat_columns)"
   ]
  },
  {
   "cell_type": "code",
   "execution_count": 7,
   "metadata": {},
   "outputs": [],
   "source": [
    "df = df.fillna(0, subset=num_columns)"
   ]
  },
  {
   "cell_type": "code",
   "execution_count": 8,
   "metadata": {},
   "outputs": [],
   "source": [
    "from pyspark.ml import PipelineModel\n",
    "\n",
    "\n",
    "pipeline_model = PipelineModel.load(os.path.join(DATA_PATH, 'pipeline_model'))"
   ]
  },
  {
   "cell_type": "code",
   "execution_count": 9,
   "metadata": {},
   "outputs": [
    {
     "data": {
      "text/plain": [
       "1831732"
      ]
     },
     "execution_count": 9,
     "metadata": {},
     "output_type": "execute_result"
    }
   ],
   "source": [
    "df = pipeline_model \\\n",
    "    .transform(df) \\\n",
    "    .select(F.col('_c0').alias('label'), 'features', 'id') \\\n",
    "    .cache()\n",
    "\n",
    "df.count()"
   ]
  },
  {
   "cell_type": "code",
   "execution_count": 10,
   "metadata": {},
   "outputs": [],
   "source": [
    "train_df, val_df, test_df = split_by_col(df, 'id', [0.8, 0.1, 0.1])"
   ]
  },
  {
   "cell_type": "markdown",
   "metadata": {},
   "source": [
    "# [Spark MLlib Tuning](https://spark.apache.org/docs/latest/ml-tuning.html)\n",
    "\n",
    "У имеющегося в Spark'e метода HPO есть два существенных недостатка, которые делают его мало пригодным в контексте нашей задачи:\n",
    "\n",
    "1. `ParamGridBuilder` - поиск по сетке\n",
    "2. `TrainValidationSplit` - делит данные случайнм образом"
   ]
  },
  {
   "cell_type": "markdown",
   "metadata": {},
   "source": [
    "# [Hyperopt](https://github.com/hyperopt/hyperopt)\n",
    "\n",
    "Установим `hyperopt`"
   ]
  },
  {
   "cell_type": "code",
   "execution_count": 11,
   "metadata": {},
   "outputs": [
    {
     "name": "stdout",
     "output_type": "stream",
     "text": [
      "Requirement already satisfied: hyperopt in /usr/lib/python3.5/site-packages (0.2.3)\r\n",
      "Requirement already satisfied: six in /usr/lib/python3.5/site-packages (from hyperopt) (1.14.0)\r\n",
      "Requirement already satisfied: tqdm in /usr/lib/python3.5/site-packages (from hyperopt) (4.43.0)\r\n",
      "Requirement already satisfied: networkx==2.2 in /usr/lib/python3.5/site-packages (from hyperopt) (2.2)\r\n",
      "Requirement already satisfied: numpy in /usr/lib64/python3.5/site-packages (from hyperopt) (1.17.2)\r\n",
      "Requirement already satisfied: future in /usr/lib/python3.5/site-packages (from hyperopt) (0.18.2)\r\n",
      "Requirement already satisfied: scipy in /usr/lib64/python3.5/site-packages (from hyperopt) (1.3.3)\r\n",
      "Requirement already satisfied: cloudpickle in /usr/lib/python3.5/site-packages (from hyperopt) (1.3.0)\r\n",
      "Requirement already satisfied: decorator>=4.3.0 in /usr/lib/python3.5/site-packages (from networkx==2.2->hyperopt) (4.4.1)\r\n"
     ]
    }
   ],
   "source": [
    "!pip3.5 install hyperopt"
   ]
  },
  {
   "cell_type": "markdown",
   "metadata": {},
   "source": [
    "## [XGBoost Tuning](https://www.analyticsvidhya.com/blog/2016/03/complete-guide-parameter-tuning-xgboost-with-codes-python/)\n",
    "\n",
    "> [Notes on Parameter Tuning](https://xgboost.readthedocs.io/en/latest/tutorials/param_tuning.html)\n",
    "\n",
    "### Objective function"
   ]
  },
  {
   "cell_type": "code",
   "execution_count": 12,
   "metadata": {},
   "outputs": [],
   "source": [
    "from hyperopt import fmin, tpe, hp, Trials, STATUS_OK\n",
    "import scipy.stats as st\n",
    "\n",
    "\n",
    "def objective(space):\n",
    "    estimator = XGBoostEstimator(**space)\n",
    "    print('SPACE:', estimator._input_kwargs_processed())\n",
    "    success = False\n",
    "    attempts = 0\n",
    "    model = None\n",
    "    while not success and attempts < 2:\n",
    "        try:\n",
    "            model = estimator.fit(train_df)\n",
    "            success = True\n",
    "        except Exception as e:\n",
    "            attempts += 1\n",
    "            print(e)\n",
    "            print('Try again')\n",
    "        \n",
    "    log_loss = logloss(model, val_df, probabilities_col='probabilities')\n",
    "    roc_auc = rocauc(model, val_df, probabilities_col='probabilities')\n",
    "    \n",
    "    print('LOG-LOSS: {}, ROC-AUC: {}'.format(log_loss, roc_auc))\n",
    "\n",
    "    return {'loss': log_loss, 'rocauc': roc_auc, 'status': STATUS_OK }"
   ]
  },
  {
   "cell_type": "code",
   "execution_count": 13,
   "metadata": {},
   "outputs": [],
   "source": [
    "static_params = {\n",
    "    'featuresCol': \"features\", \n",
    "    'labelCol': \"label\", \n",
    "    'predictionCol': \"prediction\",\n",
    "    'eval_metric': 'logloss',\n",
    "    'objective': 'binary:logistic',\n",
    "    'nthread': 8,\n",
    "    'silent': 0,\n",
    "    'nworkers': 1\n",
    "}"
   ]
  },
  {
   "cell_type": "markdown",
   "metadata": {},
   "source": [
    "Fix baseline parameters and train baseline model"
   ]
  },
  {
   "cell_type": "code",
   "execution_count": 14,
   "metadata": {},
   "outputs": [
    {
     "name": "stdout",
     "output_type": "stream",
     "text": [
      "CPU times: user 50.9 ms, sys: 22 ms, total: 73 ms\n",
      "Wall time: 13.3 s\n"
     ]
    }
   ],
   "source": [
    "%%time\n",
    "CONTROL_NAME = 'xgb baseline'\n",
    "\n",
    "baseline_params = {\n",
    "    'colsample_bytree': 0.9,\n",
    "    'eta': 0.15,\n",
    "    'gamma': 0.9,\n",
    "    'max_depth': 6,\n",
    "    'min_child_weight': 50.0,\n",
    "    'subsample': 0.9,\n",
    "    'num_round': 20\n",
    "}\n",
    "\n",
    "baseline_model = XGBoostEstimator(**{**static_params, **baseline_params}).fit(train_df)"
   ]
  },
  {
   "cell_type": "code",
   "execution_count": 15,
   "metadata": {},
   "outputs": [
    {
     "data": {
      "text/plain": [
       "0.726643973947602"
      ]
     },
     "execution_count": 15,
     "metadata": {},
     "output_type": "execute_result"
    }
   ],
   "source": [
    "baseline_rocauc = rocauc(baseline_model, val_df, probabilities_col='probabilities')\n",
    "baseline_rocauc"
   ]
  },
  {
   "cell_type": "code",
   "execution_count": 16,
   "metadata": {},
   "outputs": [],
   "source": [
    "all_metrics = {}"
   ]
  },
  {
   "cell_type": "code",
   "execution_count": 17,
   "metadata": {},
   "outputs": [],
   "source": [
    "baseline_test_metrics = {\n",
    "    'logloss': logloss(baseline_model, test_df, probabilities_col='probabilities'),\n",
    "    'rocauc': rocauc(baseline_model, test_df, probabilities_col='probabilities')\n",
    "}\n",
    "\n",
    "all_metrics[CONTROL_NAME] = baseline_test_metrics"
   ]
  },
  {
   "cell_type": "markdown",
   "metadata": {},
   "source": [
    "### Tune number of trees\n",
    "\n",
    "> Choose a relatively high learning rate. Generally a learning rate of 0.1 works but somewhere between 0.05 to 0.3 should work for different problems. Determine the optimum number of trees for this learning rate."
   ]
  },
  {
   "cell_type": "code",
   "execution_count": 18,
   "metadata": {
    "scrolled": true
   },
   "outputs": [
    {
     "name": "stdout",
     "output_type": "stream",
     "text": [
      "SPACE:                                                \n",
      "{'eta': 0.2, 'predictionCol': 'prediction', 'min_child_weight': 50.0, 'eval_metric': 'logloss', 'colsample_bytree': 0.9, 'nthread': 8, 'labelCol': 'label', 'gamma': 0.9, 'nworkers': 1, 'silent': 0, 'featuresCol': 'features', 'max_depth': 6, 'num_round': 20, 'objective': 'binary:logistic', 'subsample': 0.9}\n",
      "LOG-LOSS: 0.5070732747524984, ROC-AUC: 0.728915913948984\n",
      "SPACE:                                                                          \n",
      "{'eta': 0.15, 'predictionCol': 'prediction', 'min_child_weight': 50.0, 'eval_metric': 'logloss', 'colsample_bytree': 0.9, 'nthread': 8, 'labelCol': 'label', 'gamma': 0.9, 'nworkers': 1, 'silent': 0, 'featuresCol': 'features', 'max_depth': 6, 'num_round': 40, 'objective': 'binary:logistic', 'subsample': 0.9}\n",
      "LOG-LOSS: 0.5048485205140673, ROC-AUC: 0.7319716131842697                       \n",
      "SPACE:                                                                          \n",
      "{'eta': 0.5, 'predictionCol': 'prediction', 'min_child_weight': 50.0, 'eval_metric': 'logloss', 'colsample_bytree': 0.9, 'nthread': 8, 'labelCol': 'label', 'gamma': 0.9, 'nworkers': 1, 'silent': 0, 'featuresCol': 'features', 'max_depth': 6, 'num_round': 100, 'objective': 'binary:logistic', 'subsample': 0.9}\n",
      "LOG-LOSS: 0.49926989246415004, ROC-AUC: 0.7393439219801443                      \n",
      "SPACE:                                                                           \n",
      "{'eta': 0.15, 'predictionCol': 'prediction', 'min_child_weight': 50.0, 'eval_metric': 'logloss', 'colsample_bytree': 0.9, 'nthread': 8, 'labelCol': 'label', 'gamma': 0.9, 'nworkers': 1, 'silent': 0, 'featuresCol': 'features', 'max_depth': 6, 'num_round': 100, 'objective': 'binary:logistic', 'subsample': 0.9}\n",
      "LOG-LOSS: 0.5016334748200031, ROC-AUC: 0.7363495981148911                        \n",
      "SPACE:                                                                           \n",
      "{'eta': 0.3, 'predictionCol': 'prediction', 'min_child_weight': 50.0, 'eval_metric': 'logloss', 'colsample_bytree': 0.9, 'nthread': 8, 'labelCol': 'label', 'gamma': 0.9, 'nworkers': 1, 'silent': 0, 'featuresCol': 'features', 'max_depth': 6, 'num_round': 20, 'objective': 'binary:logistic', 'subsample': 0.9}\n",
      "LOG-LOSS: 0.504875303510148, ROC-AUC: 0.7316069996202907                         \n",
      "SPACE:                                                                           \n",
      "{'eta': 0.1, 'predictionCol': 'prediction', 'min_child_weight': 50.0, 'eval_metric': 'logloss', 'colsample_bytree': 0.9, 'nthread': 8, 'labelCol': 'label', 'gamma': 0.9, 'nworkers': 1, 'silent': 0, 'featuresCol': 'features', 'max_depth': 6, 'num_round': 10, 'objective': 'binary:logistic', 'subsample': 0.9}\n",
      "LOG-LOSS: 0.5431169298085696, ROC-AUC: 0.7209231380163308                        \n",
      "SPACE:                                                                           \n",
      "{'eta': 0.15, 'predictionCol': 'prediction', 'min_child_weight': 50.0, 'eval_metric': 'logloss', 'colsample_bytree': 0.9, 'nthread': 8, 'labelCol': 'label', 'gamma': 0.9, 'nworkers': 1, 'silent': 0, 'featuresCol': 'features', 'max_depth': 6, 'num_round': 10, 'objective': 'binary:logistic', 'subsample': 0.9}\n",
      "LOG-LOSS: 0.5236497708821856, ROC-AUC: 0.7221871837802776                        \n",
      "SPACE:                                                                           \n",
      "{'eta': 0.1, 'predictionCol': 'prediction', 'min_child_weight': 50.0, 'eval_metric': 'logloss', 'colsample_bytree': 0.9, 'nthread': 8, 'labelCol': 'label', 'gamma': 0.9, 'nworkers': 1, 'silent': 0, 'featuresCol': 'features', 'max_depth': 6, 'num_round': 20, 'objective': 'binary:logistic', 'subsample': 0.9}\n",
      "LOG-LOSS: 0.5157317091385692, ROC-AUC: 0.7238084652914808                        \n",
      "SPACE:                                                                           \n",
      "{'eta': 0.15, 'predictionCol': 'prediction', 'min_child_weight': 50.0, 'eval_metric': 'logloss', 'colsample_bytree': 0.9, 'nthread': 8, 'labelCol': 'label', 'gamma': 0.9, 'nworkers': 1, 'silent': 0, 'featuresCol': 'features', 'max_depth': 6, 'num_round': 40, 'objective': 'binary:logistic', 'subsample': 0.9}\n",
      "LOG-LOSS: 0.5048485205140673, ROC-AUC: 0.73197161318427                          \n",
      "SPACE:                                                                           \n",
      "{'eta': 0.1, 'predictionCol': 'prediction', 'min_child_weight': 50.0, 'eval_metric': 'logloss', 'colsample_bytree': 0.9, 'nthread': 8, 'labelCol': 'label', 'gamma': 0.9, 'nworkers': 1, 'silent': 0, 'featuresCol': 'features', 'max_depth': 6, 'num_round': 20, 'objective': 'binary:logistic', 'subsample': 0.9}\n",
      "LOG-LOSS: 0.5157317091385692, ROC-AUC: 0.7238084652914786                        \n",
      "SPACE:                                                                            \n",
      "{'eta': 0.15, 'predictionCol': 'prediction', 'min_child_weight': 50.0, 'eval_metric': 'logloss', 'colsample_bytree': 0.9, 'nthread': 8, 'labelCol': 'label', 'gamma': 0.9, 'nworkers': 1, 'silent': 0, 'featuresCol': 'features', 'max_depth': 6, 'num_round': 40, 'objective': 'binary:logistic', 'subsample': 0.9}\n",
      "LOG-LOSS: 0.5048485205140673, ROC-AUC: 0.7319716131842725                         \n",
      "SPACE:                                                                            \n",
      "{'eta': 0.2, 'predictionCol': 'prediction', 'min_child_weight': 50.0, 'eval_metric': 'logloss', 'colsample_bytree': 0.9, 'nthread': 8, 'labelCol': 'label', 'gamma': 0.9, 'nworkers': 1, 'silent': 0, 'featuresCol': 'features', 'max_depth': 6, 'num_round': 10, 'objective': 'binary:logistic', 'subsample': 0.9}\n",
      "LOG-LOSS: 0.5149743778874141, ROC-AUC: 0.7237271666363656                         \n",
      "SPACE:                                                                            \n",
      "{'eta': 0.1, 'predictionCol': 'prediction', 'min_child_weight': 50.0, 'eval_metric': 'logloss', 'colsample_bytree': 0.9, 'nthread': 8, 'labelCol': 'label', 'gamma': 0.9, 'nworkers': 1, 'silent': 0, 'featuresCol': 'features', 'max_depth': 6, 'num_round': 20, 'objective': 'binary:logistic', 'subsample': 0.9}\n",
      "LOG-LOSS: 0.5157317091385692, ROC-AUC: 0.7238084652914776                         \n",
      "SPACE:                                                                            \n",
      "{'eta': 0.2, 'predictionCol': 'prediction', 'min_child_weight': 50.0, 'eval_metric': 'logloss', 'colsample_bytree': 0.9, 'nthread': 8, 'labelCol': 'label', 'gamma': 0.9, 'nworkers': 1, 'silent': 0, 'featuresCol': 'features', 'max_depth': 6, 'num_round': 20, 'objective': 'binary:logistic', 'subsample': 0.9}\n",
      "LOG-LOSS: 0.5070732747524984, ROC-AUC: 0.7289159139489871                         \n",
      "SPACE:                                                                            \n",
      "{'eta': 0.3, 'predictionCol': 'prediction', 'min_child_weight': 50.0, 'eval_metric': 'logloss', 'colsample_bytree': 0.9, 'nthread': 8, 'labelCol': 'label', 'gamma': 0.9, 'nworkers': 1, 'silent': 0, 'featuresCol': 'features', 'max_depth': 6, 'num_round': 10, 'objective': 'binary:logistic', 'subsample': 0.9}\n",
      "LOG-LOSS: 0.5091470356524939, ROC-AUC: 0.7260100963405209                         \n",
      "SPACE:                                                                            \n",
      "{'eta': 0.15, 'predictionCol': 'prediction', 'min_child_weight': 50.0, 'eval_metric': 'logloss', 'colsample_bytree': 0.9, 'nthread': 8, 'labelCol': 'label', 'gamma': 0.9, 'nworkers': 1, 'silent': 0, 'featuresCol': 'features', 'max_depth': 6, 'num_round': 40, 'objective': 'binary:logistic', 'subsample': 0.9}\n",
      "LOG-LOSS: 0.5048485205140673, ROC-AUC: 0.7319716131842667                         \n",
      "SPACE:                                                                            \n",
      "{'eta': 0.5, 'predictionCol': 'prediction', 'min_child_weight': 50.0, 'eval_metric': 'logloss', 'colsample_bytree': 0.9, 'nthread': 8, 'labelCol': 'label', 'gamma': 0.9, 'nworkers': 1, 'silent': 0, 'featuresCol': 'features', 'max_depth': 6, 'num_round': 20, 'objective': 'binary:logistic', 'subsample': 0.9}\n",
      "LOG-LOSS: 0.5038657059452744, ROC-AUC: 0.7328506727314236                         \n",
      "SPACE:                                                                            \n",
      "{'eta': 0.2, 'predictionCol': 'prediction', 'min_child_weight': 50.0, 'eval_metric': 'logloss', 'colsample_bytree': 0.9, 'nthread': 8, 'labelCol': 'label', 'gamma': 0.9, 'nworkers': 1, 'silent': 0, 'featuresCol': 'features', 'max_depth': 6, 'num_round': 100, 'objective': 'binary:logistic', 'subsample': 0.9}\n"
     ]
    },
    {
     "name": "stdout",
     "output_type": "stream",
     "text": [
      "LOG-LOSS: 0.5006837529610447, ROC-AUC: 0.7376339682524755                         \n",
      "SPACE:                                                                            \n",
      "{'eta': 0.15, 'predictionCol': 'prediction', 'min_child_weight': 50.0, 'eval_metric': 'logloss', 'colsample_bytree': 0.9, 'nthread': 8, 'labelCol': 'label', 'gamma': 0.9, 'nworkers': 1, 'silent': 0, 'featuresCol': 'features', 'max_depth': 6, 'num_round': 100, 'objective': 'binary:logistic', 'subsample': 0.9}\n",
      "LOG-LOSS: 0.5016334748200031, ROC-AUC: 0.7363495981148913                         \n",
      "SPACE:                                                                            \n",
      "{'eta': 0.2, 'predictionCol': 'prediction', 'min_child_weight': 50.0, 'eval_metric': 'logloss', 'colsample_bytree': 0.9, 'nthread': 8, 'labelCol': 'label', 'gamma': 0.9, 'nworkers': 1, 'silent': 0, 'featuresCol': 'features', 'max_depth': 6, 'num_round': 40, 'objective': 'binary:logistic', 'subsample': 0.9}\n",
      "LOG-LOSS: 0.5037516134696022, ROC-AUC: 0.7334822748727345                         \n",
      "100%|██████████| 20/20 [09:32<00:00, 28.64s/trial, best loss: 0.49926989246415004]\n",
      "CPU times: user 2.49 s, sys: 983 ms, total: 3.48 s\n",
      "Wall time: 9min 32s\n"
     ]
    }
   ],
   "source": [
    "%%time\n",
    "\n",
    "num_round_choice = [10, 20, 40, 100]\n",
    "eta_choice = [0.5, 0.10, 0.15, 0.20, 0.30]\n",
    "\n",
    "space = {\n",
    "    # Optimize\n",
    "    'num_round': hp.choice('num_round', num_round_choice),\n",
    "    'eta': hp.choice('eta', eta_choice),\n",
    "    \n",
    "    # Fixed    \n",
    "    'max_depth': baseline_params['max_depth'],\n",
    "    'min_child_weight': baseline_params['min_child_weight'],\n",
    "    'subsample': baseline_params['subsample'],\n",
    "    'gamma': baseline_params['gamma'],\n",
    "    'colsample_bytree': baseline_params['colsample_bytree'],\n",
    "    \n",
    "    **static_params\n",
    "}\n",
    "\n",
    "\n",
    "trials = Trials()\n",
    "best = fmin(fn=objective,\n",
    "            space=space,\n",
    "            algo=tpe.suggest,\n",
    "            max_evals=20,\n",
    "            trials=trials)"
   ]
  },
  {
   "cell_type": "code",
   "execution_count": 19,
   "metadata": {},
   "outputs": [
    {
     "data": {
      "text/plain": [
       "{'eta': 0, 'num_round': 3}"
      ]
     },
     "execution_count": 19,
     "metadata": {},
     "output_type": "execute_result"
    }
   ],
   "source": [
    "best"
   ]
  },
  {
   "cell_type": "markdown",
   "metadata": {},
   "source": [
    "Обратите внимание на то, что в случае с `hp.choice` в переменной `best` хранится не конкретное значение гиперпараметра, а его индекс из списка, например, `num_round_choice`"
   ]
  },
  {
   "cell_type": "code",
   "execution_count": 20,
   "metadata": {},
   "outputs": [],
   "source": [
    "eta = eta_choice[best['eta']]  # change me!\n",
    "num_round = num_round_choice[best['num_round']]  # change me!"
   ]
  },
  {
   "cell_type": "markdown",
   "metadata": {},
   "source": [
    "### Tune tree-specific parameters\n",
    "\n",
    "> Tune tree-specific parameters ( max_depth, min_child_weight, gamma, subsample, colsample_bytree) for decided learning rate and number of trees. Note that we can choose different parameters to define a tree and I’ll take up an example here."
   ]
  },
  {
   "cell_type": "markdown",
   "metadata": {},
   "source": [
    "#### Tune max_depth, min_child_weight"
   ]
  },
  {
   "cell_type": "code",
   "execution_count": 35,
   "metadata": {},
   "outputs": [
    {
     "name": "stdout",
     "output_type": "stream",
     "text": [
      "SPACE:                                                \n",
      "{'eta': 0.5, 'predictionCol': 'prediction', 'min_child_weight': 45.0, 'eval_metric': 'logloss', 'colsample_bytree': 0.9, 'nthread': 8, 'labelCol': 'label', 'gamma': 0.9, 'nworkers': 1, 'silent': 0, 'featuresCol': 'features', 'max_depth': 4, 'num_round': 100, 'objective': 'binary:logistic', 'subsample': 0.9}\n",
      "LOG-LOSS: 0.5005462632689146, ROC-AUC: 0.7376582232785444\n",
      "SPACE:                                                                          \n",
      "{'eta': 0.5, 'predictionCol': 'prediction', 'min_child_weight': 0.0, 'eval_metric': 'logloss', 'colsample_bytree': 0.9, 'nthread': 8, 'labelCol': 'label', 'gamma': 0.9, 'nworkers': 1, 'silent': 0, 'featuresCol': 'features', 'max_depth': 7, 'num_round': 100, 'objective': 'binary:logistic', 'subsample': 0.9}\n",
      "LOG-LOSS: 0.4999247301586791, ROC-AUC: 0.7382783750532562                       \n",
      "SPACE:                                                                          \n",
      "{'eta': 0.5, 'predictionCol': 'prediction', 'min_child_weight': 60.0, 'eval_metric': 'logloss', 'colsample_bytree': 0.9, 'nthread': 8, 'labelCol': 'label', 'gamma': 0.9, 'nworkers': 1, 'silent': 0, 'featuresCol': 'features', 'max_depth': 5, 'num_round': 100, 'objective': 'binary:logistic', 'subsample': 0.9}\n",
      "LOG-LOSS: 0.49950625412725935, ROC-AUC: 0.7388059479439266                      \n",
      "SPACE:                                                                           \n",
      "{'eta': 0.5, 'predictionCol': 'prediction', 'min_child_weight': 90.0, 'eval_metric': 'logloss', 'colsample_bytree': 0.9, 'nthread': 8, 'labelCol': 'label', 'gamma': 0.9, 'nworkers': 1, 'silent': 0, 'featuresCol': 'features', 'max_depth': 5, 'num_round': 100, 'objective': 'binary:logistic', 'subsample': 0.9}\n",
      "LOG-LOSS: 0.499425232744651, ROC-AUC: 0.7390048756455488                         \n",
      "SPACE:                                                                           \n",
      "{'eta': 0.5, 'predictionCol': 'prediction', 'min_child_weight': 75.0, 'eval_metric': 'logloss', 'colsample_bytree': 0.9, 'nthread': 8, 'labelCol': 'label', 'gamma': 0.9, 'nworkers': 1, 'silent': 0, 'featuresCol': 'features', 'max_depth': 6, 'num_round': 100, 'objective': 'binary:logistic', 'subsample': 0.9}\n",
      "LOG-LOSS: 0.4988867543127656, ROC-AUC: 0.7397294156699101                      \n",
      "SPACE:                                                                          \n",
      "{'eta': 0.5, 'predictionCol': 'prediction', 'min_child_weight': 60.0, 'eval_metric': 'logloss', 'colsample_bytree': 0.9, 'nthread': 8, 'labelCol': 'label', 'gamma': 0.9, 'nworkers': 1, 'silent': 0, 'featuresCol': 'features', 'max_depth': 7, 'num_round': 100, 'objective': 'binary:logistic', 'subsample': 0.9}\n",
      "LOG-LOSS: 0.49914369368209704, ROC-AUC: 0.739348444129877                       \n",
      "SPACE:                                                                          \n",
      "{'eta': 0.5, 'predictionCol': 'prediction', 'min_child_weight': 45.0, 'eval_metric': 'logloss', 'colsample_bytree': 0.9, 'nthread': 8, 'labelCol': 'label', 'gamma': 0.9, 'nworkers': 1, 'silent': 0, 'featuresCol': 'features', 'max_depth': 4, 'num_round': 100, 'objective': 'binary:logistic', 'subsample': 0.9}\n",
      "LOG-LOSS: 0.5005462632689146, ROC-AUC: 0.7376582232785382                       \n",
      "SPACE:                                                                          \n",
      "{'eta': 0.5, 'predictionCol': 'prediction', 'min_child_weight': 60.0, 'eval_metric': 'logloss', 'colsample_bytree': 0.9, 'nthread': 8, 'labelCol': 'label', 'gamma': 0.9, 'nworkers': 1, 'silent': 0, 'featuresCol': 'features', 'max_depth': 4, 'num_round': 100, 'objective': 'binary:logistic', 'subsample': 0.9}\n",
      "LOG-LOSS: 0.5006094313420848, ROC-AUC: 0.7375524425923843                       \n",
      "SPACE:                                                                          \n",
      "{'eta': 0.5, 'predictionCol': 'prediction', 'min_child_weight': 45.0, 'eval_metric': 'logloss', 'colsample_bytree': 0.9, 'nthread': 8, 'labelCol': 'label', 'gamma': 0.9, 'nworkers': 1, 'silent': 0, 'featuresCol': 'features', 'max_depth': 3, 'num_round': 100, 'objective': 'binary:logistic', 'subsample': 0.9}\n",
      "LOG-LOSS: 0.5024359718981231, ROC-AUC: 0.734920030359258                        \n",
      "SPACE:                                                                          \n",
      "{'eta': 0.5, 'predictionCol': 'prediction', 'min_child_weight': 90.0, 'eval_metric': 'logloss', 'colsample_bytree': 0.9, 'nthread': 8, 'labelCol': 'label', 'gamma': 0.9, 'nworkers': 1, 'silent': 0, 'featuresCol': 'features', 'max_depth': 4, 'num_round': 100, 'objective': 'binary:logistic', 'subsample': 0.9}\n",
      "LOG-LOSS: 0.5002336301915272, ROC-AUC: 0.7380946656605365                       \n",
      "SPACE:                                                                           \n",
      "{'eta': 0.5, 'predictionCol': 'prediction', 'min_child_weight': 0.0, 'eval_metric': 'logloss', 'colsample_bytree': 0.9, 'nthread': 8, 'labelCol': 'label', 'gamma': 0.9, 'nworkers': 1, 'silent': 0, 'featuresCol': 'features', 'max_depth': 6, 'num_round': 100, 'objective': 'binary:logistic', 'subsample': 0.9}\n",
      "LOG-LOSS: 0.4997430695668151, ROC-AUC: 0.7386121854180909                        \n",
      "SPACE:                                                                           \n",
      "{'eta': 0.5, 'predictionCol': 'prediction', 'min_child_weight': 75.0, 'eval_metric': 'logloss', 'colsample_bytree': 0.9, 'nthread': 8, 'labelCol': 'label', 'gamma': 0.9, 'nworkers': 1, 'silent': 0, 'featuresCol': 'features', 'max_depth': 8, 'num_round': 100, 'objective': 'binary:logistic', 'subsample': 0.9}\n",
      "LOG-LOSS: 0.49889871408925407, ROC-AUC: 0.7395701762384544                       \n",
      "SPACE:                                                                           \n",
      "{'eta': 0.5, 'predictionCol': 'prediction', 'min_child_weight': 0.0, 'eval_metric': 'logloss', 'colsample_bytree': 0.9, 'nthread': 8, 'labelCol': 'label', 'gamma': 0.9, 'nworkers': 1, 'silent': 0, 'featuresCol': 'features', 'max_depth': 5, 'num_round': 100, 'objective': 'binary:logistic', 'subsample': 0.9}\n",
      "LOG-LOSS: 0.500235507742075, ROC-AUC: 0.7378443300729021                         \n",
      "SPACE:                                                                           \n",
      "{'eta': 0.5, 'predictionCol': 'prediction', 'min_child_weight': 90.0, 'eval_metric': 'logloss', 'colsample_bytree': 0.9, 'nthread': 8, 'labelCol': 'label', 'gamma': 0.9, 'nworkers': 1, 'silent': 0, 'featuresCol': 'features', 'max_depth': 8, 'num_round': 100, 'objective': 'binary:logistic', 'subsample': 0.9}\n",
      "LOG-LOSS: 0.49899011280693195, ROC-AUC: 0.7394807833933511                       \n",
      "SPACE:                                                                           \n",
      "{'eta': 0.5, 'predictionCol': 'prediction', 'min_child_weight': 45.0, 'eval_metric': 'logloss', 'colsample_bytree': 0.9, 'nthread': 8, 'labelCol': 'label', 'gamma': 0.9, 'nworkers': 1, 'silent': 0, 'featuresCol': 'features', 'max_depth': 6, 'num_round': 100, 'objective': 'binary:logistic', 'subsample': 0.9}\n",
      "LOG-LOSS: 0.4991977669617497, ROC-AUC: 0.7393989190826649                        \n",
      "SPACE:                                                                           \n",
      "{'eta': 0.5, 'predictionCol': 'prediction', 'min_child_weight': 15.0, 'eval_metric': 'logloss', 'colsample_bytree': 0.9, 'nthread': 8, 'labelCol': 'label', 'gamma': 0.9, 'nworkers': 1, 'silent': 0, 'featuresCol': 'features', 'max_depth': 7, 'num_round': 100, 'objective': 'binary:logistic', 'subsample': 0.9}\n",
      "LOG-LOSS: 0.4991098930161016, ROC-AUC: 0.7392978384983465                        \n",
      "SPACE:                                                                           \n",
      "{'eta': 0.5, 'predictionCol': 'prediction', 'min_child_weight': 30.0, 'eval_metric': 'logloss', 'colsample_bytree': 0.9, 'nthread': 8, 'labelCol': 'label', 'gamma': 0.9, 'nworkers': 1, 'silent': 0, 'featuresCol': 'features', 'max_depth': 3, 'num_round': 100, 'objective': 'binary:logistic', 'subsample': 0.9}\n",
      "LOG-LOSS: 0.5026264658719934, ROC-AUC: 0.7347071626637768                        \n",
      "SPACE:                                                                           \n",
      "{'eta': 0.5, 'predictionCol': 'prediction', 'min_child_weight': 90.0, 'eval_metric': 'logloss', 'colsample_bytree': 0.9, 'nthread': 8, 'labelCol': 'label', 'gamma': 0.9, 'nworkers': 1, 'silent': 0, 'featuresCol': 'features', 'max_depth': 6, 'num_round': 100, 'objective': 'binary:logistic', 'subsample': 0.9}\n"
     ]
    },
    {
     "name": "stdout",
     "output_type": "stream",
     "text": [
      "LOG-LOSS: 0.4989976084213681, ROC-AUC: 0.7395239117870991                        \n",
      "SPACE:                                                                           \n",
      "{'eta': 0.5, 'predictionCol': 'prediction', 'min_child_weight': 45.0, 'eval_metric': 'logloss', 'colsample_bytree': 0.9, 'nthread': 8, 'labelCol': 'label', 'gamma': 0.9, 'nworkers': 1, 'silent': 0, 'featuresCol': 'features', 'max_depth': 3, 'num_round': 100, 'objective': 'binary:logistic', 'subsample': 0.9}\n",
      "LOG-LOSS: 0.5024359718981231, ROC-AUC: 0.7349200303592547                        \n",
      "SPACE:                                                                           \n",
      "{'eta': 0.5, 'predictionCol': 'prediction', 'min_child_weight': 30.0, 'eval_metric': 'logloss', 'colsample_bytree': 0.9, 'nthread': 8, 'labelCol': 'label', 'gamma': 0.9, 'nworkers': 1, 'silent': 0, 'featuresCol': 'features', 'max_depth': 3, 'num_round': 100, 'objective': 'binary:logistic', 'subsample': 0.9}\n",
      "LOG-LOSS: 0.5026264658719934, ROC-AUC: 0.7347071626637722                        \n",
      "100%|██████████| 20/20 [13:23<00:00, 40.15s/trial, best loss: 0.4988867543127656]\n",
      "CPU times: user 2.44 s, sys: 1.05 s, total: 3.49 s\n",
      "Wall time: 13min 23s\n"
     ]
    }
   ],
   "source": [
    "%%time\n",
    "\n",
    "max_depth_choice  = list(range(3, 9))\n",
    "min_child_weight_choice = list(map(float, range(0, 100, 15)))\n",
    "\n",
    "space = {\n",
    "    # Optimize\n",
    "    'max_depth': hp.choice('max_depth', max_depth_choice),\n",
    "    'min_child_weight': hp.choice('min_child_weight', min_child_weight_choice),\n",
    "    \n",
    "    # Fixed\n",
    "    'num_round': num_round,\n",
    "    'eta': eta,\n",
    "    'subsample': baseline_params['subsample'],\n",
    "    'gamma': baseline_params['gamma'],\n",
    "    'colsample_bytree': baseline_params['colsample_bytree'],\n",
    "    \n",
    "    **static_params\n",
    "}\n",
    "\n",
    "\n",
    "trials = Trials()\n",
    "best = fmin(fn=objective,\n",
    "            space=space,\n",
    "            algo=tpe.suggest,\n",
    "            max_evals=20,\n",
    "            trials=trials)"
   ]
  },
  {
   "cell_type": "code",
   "execution_count": 36,
   "metadata": {},
   "outputs": [
    {
     "data": {
      "text/plain": [
       "{'max_depth': 3, 'min_child_weight': 5}"
      ]
     },
     "execution_count": 36,
     "metadata": {},
     "output_type": "execute_result"
    }
   ],
   "source": [
    "best"
   ]
  },
  {
   "cell_type": "code",
   "execution_count": 37,
   "metadata": {},
   "outputs": [
    {
     "data": {
      "text/plain": [
       "(6, 75.0)"
      ]
     },
     "execution_count": 37,
     "metadata": {},
     "output_type": "execute_result"
    }
   ],
   "source": [
    "best_max_depth = max_depth_choice[best['max_depth']]\n",
    "best_min_child_weight = min_child_weight_choice[best['min_child_weight']]\n",
    "best_max_depth, best_min_child_weight"
   ]
  },
  {
   "cell_type": "markdown",
   "metadata": {},
   "source": [
    "#### Tune gamma"
   ]
  },
  {
   "cell_type": "code",
   "execution_count": 43,
   "metadata": {},
   "outputs": [
    {
     "name": "stdout",
     "output_type": "stream",
     "text": [
      "SPACE:                                                \n",
      "{'eta': 0.5, 'predictionCol': 'prediction', 'min_child_weight': 75.0, 'eval_metric': 'logloss', 'colsample_bytree': 0.9, 'nthread': 8, 'labelCol': 'label', 'gamma': 1.0, 'nworkers': 1, 'silent': 0, 'featuresCol': 'features', 'max_depth': 6, 'num_round': 100, 'objective': 'binary:logistic', 'subsample': 0.9}\n",
      "LOG-LOSS: 0.4992144004826749, ROC-AUC: 0.7393219041988388\n",
      "SPACE:                                                                          \n",
      "{'eta': 0.5, 'predictionCol': 'prediction', 'min_child_weight': 75.0, 'eval_metric': 'logloss', 'colsample_bytree': 0.9, 'nthread': 8, 'labelCol': 'label', 'gamma': 0.21544346900318823, 'nworkers': 1, 'silent': 0, 'featuresCol': 'features', 'max_depth': 6, 'num_round': 100, 'objective': 'binary:logistic', 'subsample': 0.9}\n",
      "LOG-LOSS: 0.49891763957303975, ROC-AUC: 0.7396034139770696                      \n",
      "SPACE:                                                                           \n",
      "{'eta': 0.5, 'predictionCol': 'prediction', 'min_child_weight': 75.0, 'eval_metric': 'logloss', 'colsample_bytree': 0.9, 'nthread': 8, 'labelCol': 'label', 'gamma': 0.01, 'nworkers': 1, 'silent': 0, 'featuresCol': 'features', 'max_depth': 6, 'num_round': 100, 'objective': 'binary:logistic', 'subsample': 0.9}\n",
      "LOG-LOSS: 0.49909354897177116, ROC-AUC: 0.7394275948257587                       \n",
      "SPACE:                                                                           \n",
      "{'eta': 0.5, 'predictionCol': 'prediction', 'min_child_weight': 75.0, 'eval_metric': 'logloss', 'colsample_bytree': 0.9, 'nthread': 8, 'labelCol': 'label', 'gamma': 1.0, 'nworkers': 1, 'silent': 0, 'featuresCol': 'features', 'max_depth': 6, 'num_round': 100, 'objective': 'binary:logistic', 'subsample': 0.9}\n",
      "LOG-LOSS: 0.4992144004826749, ROC-AUC: 0.7393219041988467                        \n",
      "SPACE:                                                                           \n",
      "{'eta': 0.5, 'predictionCol': 'prediction', 'min_child_weight': 75.0, 'eval_metric': 'logloss', 'colsample_bytree': 0.9, 'nthread': 8, 'labelCol': 'label', 'gamma': 0.046415888336127774, 'nworkers': 1, 'silent': 0, 'featuresCol': 'features', 'max_depth': 6, 'num_round': 100, 'objective': 'binary:logistic', 'subsample': 0.9}\n",
      "LOG-LOSS: 0.49909354897177116, ROC-AUC: 0.7394275948257609                       \n",
      "SPACE:                                                                           \n",
      "{'eta': 0.5, 'predictionCol': 'prediction', 'min_child_weight': 75.0, 'eval_metric': 'logloss', 'colsample_bytree': 0.9, 'nthread': 8, 'labelCol': 'label', 'gamma': 0.46415888336127775, 'nworkers': 1, 'silent': 0, 'featuresCol': 'features', 'max_depth': 6, 'num_round': 100, 'objective': 'binary:logistic', 'subsample': 0.9}\n",
      "LOG-LOSS: 0.4988873525694531, ROC-AUC: 0.7397280410286176                        \n",
      "SPACE:                                                                           \n",
      "{'eta': 0.5, 'predictionCol': 'prediction', 'min_child_weight': 75.0, 'eval_metric': 'logloss', 'colsample_bytree': 0.9, 'nthread': 8, 'labelCol': 'label', 'gamma': 0.046415888336127774, 'nworkers': 1, 'silent': 0, 'featuresCol': 'features', 'max_depth': 6, 'num_round': 100, 'objective': 'binary:logistic', 'subsample': 0.9}\n",
      "LOG-LOSS: 0.49909354897177116, ROC-AUC: 0.7394275948257656                      \n",
      "SPACE:                                                                          \n",
      "{'eta': 0.5, 'predictionCol': 'prediction', 'min_child_weight': 75.0, 'eval_metric': 'logloss', 'colsample_bytree': 0.9, 'nthread': 8, 'labelCol': 'label', 'gamma': 0.46415888336127775, 'nworkers': 1, 'silent': 0, 'featuresCol': 'features', 'max_depth': 6, 'num_round': 100, 'objective': 'binary:logistic', 'subsample': 0.9}\n",
      "LOG-LOSS: 0.4988873525694531, ROC-AUC: 0.7397280410286131                       \n",
      "SPACE:                                                                          \n",
      "{'eta': 0.5, 'predictionCol': 'prediction', 'min_child_weight': 75.0, 'eval_metric': 'logloss', 'colsample_bytree': 0.9, 'nthread': 8, 'labelCol': 'label', 'gamma': 0.001, 'nworkers': 1, 'silent': 0, 'featuresCol': 'features', 'max_depth': 6, 'num_round': 100, 'objective': 'binary:logistic', 'subsample': 0.9}\n",
      "LOG-LOSS: 0.49909354897177116, ROC-AUC: 0.7394275948257609                      \n",
      "SPACE:                                                                          \n",
      "{'eta': 0.5, 'predictionCol': 'prediction', 'min_child_weight': 75.0, 'eval_metric': 'logloss', 'colsample_bytree': 0.9, 'nthread': 8, 'labelCol': 'label', 'gamma': 0.1, 'nworkers': 1, 'silent': 0, 'featuresCol': 'features', 'max_depth': 6, 'num_round': 100, 'objective': 'binary:logistic', 'subsample': 0.9}\n",
      "LOG-LOSS: 0.49909354897177116, ROC-AUC: 0.7394275948257634                      \n",
      "100%|██████████| 10/10 [06:56<00:00, 41.68s/trial, best loss: 0.4988873525694531]\n",
      "CPU times: user 1.2 s, sys: 508 ms, total: 1.71 s\n",
      "Wall time: 6min 56s\n"
     ]
    }
   ],
   "source": [
    "%%time\n",
    "\n",
    "gamma_choice = np.logspace(-3, 0, num=10).tolist()\n",
    "\n",
    "space = {\n",
    "    # Optimize\n",
    "    'gamma': hp.choice('gamma', gamma_choice),\n",
    "\n",
    "    # Fixed\n",
    "    'num_round': num_round,\n",
    "    'eta': eta,\n",
    "    'max_depth': best_max_depth,\n",
    "    'min_child_weight': best_min_child_weight,\n",
    "    'subsample': baseline_params['subsample'],\n",
    "    'colsample_bytree': baseline_params['colsample_bytree'],\n",
    "    \n",
    "    **static_params\n",
    "}\n",
    "\n",
    "\n",
    "trials = Trials()\n",
    "best = fmin(fn=objective,\n",
    "            space=space,\n",
    "            algo=tpe.suggest,\n",
    "            max_evals=10,\n",
    "            trials=trials)"
   ]
  },
  {
   "cell_type": "code",
   "execution_count": 44,
   "metadata": {},
   "outputs": [
    {
     "data": {
      "text/plain": [
       "{'gamma': 8}"
      ]
     },
     "execution_count": 44,
     "metadata": {},
     "output_type": "execute_result"
    }
   ],
   "source": [
    "best"
   ]
  },
  {
   "cell_type": "code",
   "execution_count": 46,
   "metadata": {},
   "outputs": [
    {
     "data": {
      "text/plain": [
       "0.46415888336127775"
      ]
     },
     "execution_count": 46,
     "metadata": {},
     "output_type": "execute_result"
    }
   ],
   "source": [
    "best_gamma = gamma_choice[best['gamma']]\n",
    "best_gamma"
   ]
  },
  {
   "cell_type": "markdown",
   "metadata": {},
   "source": [
    "#### Tune subsample, colsample_bytree"
   ]
  },
  {
   "cell_type": "code",
   "execution_count": 53,
   "metadata": {},
   "outputs": [
    {
     "name": "stdout",
     "output_type": "stream",
     "text": [
      "SPACE:                                                \n",
      "{'eta': 0.5, 'predictionCol': 'prediction', 'min_child_weight': 75.0, 'eval_metric': 'logloss', 'colsample_bytree': 0.8444444444444446, 'nthread': 8, 'labelCol': 'label', 'gamma': 0.46415888336127775, 'nworkers': 1, 'silent': 0, 'featuresCol': 'features', 'max_depth': 6, 'num_round': 100, 'objective': 'binary:logistic', 'subsample': 0.37777777777777777}\n",
      "LOG-LOSS: 0.5008803212776852, ROC-AUC: 0.7369094563135963\n",
      "SPACE:                                                                          \n",
      "{'eta': 0.5, 'predictionCol': 'prediction', 'min_child_weight': 75.0, 'eval_metric': 'logloss', 'colsample_bytree': 0.9222222222222223, 'nthread': 8, 'labelCol': 'label', 'gamma': 0.46415888336127775, 'nworkers': 1, 'silent': 0, 'featuresCol': 'features', 'max_depth': 6, 'num_round': 100, 'objective': 'binary:logistic', 'subsample': 0.45555555555555555}\n",
      "LOG-LOSS: 0.500113178576608, ROC-AUC: 0.7380824243355362                        \n",
      "SPACE:                                                                          \n",
      "{'eta': 0.5, 'predictionCol': 'prediction', 'min_child_weight': 75.0, 'eval_metric': 'logloss', 'colsample_bytree': 0.7666666666666666, 'nthread': 8, 'labelCol': 'label', 'gamma': 0.46415888336127775, 'nworkers': 1, 'silent': 0, 'featuresCol': 'features', 'max_depth': 6, 'num_round': 100, 'objective': 'binary:logistic', 'subsample': 0.6111111111111112}\n",
      "LOG-LOSS: 0.4992865730665983, ROC-AUC: 0.7392780278646796                      \n",
      "SPACE:                                                                          \n",
      "{'eta': 0.5, 'predictionCol': 'prediction', 'min_child_weight': 75.0, 'eval_metric': 'logloss', 'colsample_bytree': 0.45555555555555555, 'nthread': 8, 'labelCol': 'label', 'gamma': 0.46415888336127775, 'nworkers': 1, 'silent': 0, 'featuresCol': 'features', 'max_depth': 6, 'num_round': 100, 'objective': 'binary:logistic', 'subsample': 0.9222222222222223}\n",
      "LOG-LOSS: 0.4992233954145487, ROC-AUC: 0.7394860891512899                       \n",
      "SPACE:                                                                          \n",
      "{'eta': 0.5, 'predictionCol': 'prediction', 'min_child_weight': 75.0, 'eval_metric': 'logloss', 'colsample_bytree': 0.45555555555555555, 'nthread': 8, 'labelCol': 'label', 'gamma': 0.46415888336127775, 'nworkers': 1, 'silent': 0, 'featuresCol': 'features', 'max_depth': 6, 'num_round': 100, 'objective': 'binary:logistic', 'subsample': 0.7666666666666666}\n",
      "LOG-LOSS: 0.49941948341678083, ROC-AUC: 0.7390279666327573                      \n",
      "SPACE:                                                                          \n",
      "{'eta': 0.5, 'predictionCol': 'prediction', 'min_child_weight': 75.0, 'eval_metric': 'logloss', 'colsample_bytree': 0.6888888888888889, 'nthread': 8, 'labelCol': 'label', 'gamma': 0.46415888336127775, 'nworkers': 1, 'silent': 0, 'featuresCol': 'features', 'max_depth': 6, 'num_round': 100, 'objective': 'binary:logistic', 'subsample': 0.37777777777777777}\n",
      "LOG-LOSS: 0.5006402434860664, ROC-AUC: 0.7371575992218775                       \n",
      "SPACE:                                                                          \n",
      "{'eta': 0.5, 'predictionCol': 'prediction', 'min_child_weight': 75.0, 'eval_metric': 'logloss', 'colsample_bytree': 0.6888888888888889, 'nthread': 8, 'labelCol': 'label', 'gamma': 0.46415888336127775, 'nworkers': 1, 'silent': 0, 'featuresCol': 'features', 'max_depth': 6, 'num_round': 100, 'objective': 'binary:logistic', 'subsample': 0.6111111111111112}\n",
      "LOG-LOSS: 0.4992331243128218, ROC-AUC: 0.7393900892541793                       \n",
      "SPACE:                                                                          \n",
      "{'eta': 0.5, 'predictionCol': 'prediction', 'min_child_weight': 75.0, 'eval_metric': 'logloss', 'colsample_bytree': 0.7666666666666666, 'nthread': 8, 'labelCol': 'label', 'gamma': 0.46415888336127775, 'nworkers': 1, 'silent': 0, 'featuresCol': 'features', 'max_depth': 6, 'num_round': 100, 'objective': 'binary:logistic', 'subsample': 0.9222222222222223}\n",
      "LOG-LOSS: 0.49905042663422594, ROC-AUC: 0.7395363606970975                      \n",
      "SPACE:                                                                           \n",
      "{'eta': 0.5, 'predictionCol': 'prediction', 'min_child_weight': 75.0, 'eval_metric': 'logloss', 'colsample_bytree': 0.3, 'nthread': 8, 'labelCol': 'label', 'gamma': 0.46415888336127775, 'nworkers': 1, 'silent': 0, 'featuresCol': 'features', 'max_depth': 6, 'num_round': 100, 'objective': 'binary:logistic', 'subsample': 0.5333333333333333}\n",
      "LOG-LOSS: 0.5001696663902419, ROC-AUC: 0.7380399265111954                        \n",
      "SPACE:                                                                           \n",
      "{'eta': 0.5, 'predictionCol': 'prediction', 'min_child_weight': 75.0, 'eval_metric': 'logloss', 'colsample_bytree': 0.5333333333333333, 'nthread': 8, 'labelCol': 'label', 'gamma': 0.46415888336127775, 'nworkers': 1, 'silent': 0, 'featuresCol': 'features', 'max_depth': 6, 'num_round': 100, 'objective': 'binary:logistic', 'subsample': 0.7666666666666666}\n",
      "LOG-LOSS: 0.49937925802281863, ROC-AUC: 0.7392405699533066                       \n",
      "SPACE:                                                                            \n",
      "{'eta': 0.5, 'predictionCol': 'prediction', 'min_child_weight': 75.0, 'eval_metric': 'logloss', 'colsample_bytree': 0.6111111111111112, 'nthread': 8, 'labelCol': 'label', 'gamma': 0.46415888336127775, 'nworkers': 1, 'silent': 0, 'featuresCol': 'features', 'max_depth': 6, 'num_round': 100, 'objective': 'binary:logistic', 'subsample': 0.3}\n",
      "LOG-LOSS: 0.5018471300215445, ROC-AUC: 0.7356045344105409                         \n",
      "SPACE:                                                                            \n",
      "{'eta': 0.5, 'predictionCol': 'prediction', 'min_child_weight': 75.0, 'eval_metric': 'logloss', 'colsample_bytree': 0.9222222222222223, 'nthread': 8, 'labelCol': 'label', 'gamma': 0.46415888336127775, 'nworkers': 1, 'silent': 0, 'featuresCol': 'features', 'max_depth': 6, 'num_round': 100, 'objective': 'binary:logistic', 'subsample': 0.3}\n",
      "LOG-LOSS: 0.501774032028232, ROC-AUC: 0.7354672037453862                          \n",
      "SPACE:                                                                            \n",
      "{'eta': 0.5, 'predictionCol': 'prediction', 'min_child_weight': 75.0, 'eval_metric': 'logloss', 'colsample_bytree': 1.0, 'nthread': 8, 'labelCol': 'label', 'gamma': 0.46415888336127775, 'nworkers': 1, 'silent': 0, 'featuresCol': 'features', 'max_depth': 6, 'num_round': 100, 'objective': 'binary:logistic', 'subsample': 0.6111111111111112}\n",
      "LOG-LOSS: 0.49920513738516, ROC-AUC: 0.7391767272387174                           \n",
      "SPACE:                                                                            \n",
      "{'eta': 0.5, 'predictionCol': 'prediction', 'min_child_weight': 75.0, 'eval_metric': 'logloss', 'colsample_bytree': 0.45555555555555555, 'nthread': 8, 'labelCol': 'label', 'gamma': 0.46415888336127775, 'nworkers': 1, 'silent': 0, 'featuresCol': 'features', 'max_depth': 6, 'num_round': 100, 'objective': 'binary:logistic', 'subsample': 0.3}\n",
      "LOG-LOSS: 0.5014871589549661, ROC-AUC: 0.736210496439484                          \n",
      "SPACE:                                                                            \n",
      "{'eta': 0.5, 'predictionCol': 'prediction', 'min_child_weight': 75.0, 'eval_metric': 'logloss', 'colsample_bytree': 0.7666666666666666, 'nthread': 8, 'labelCol': 'label', 'gamma': 0.46415888336127775, 'nworkers': 1, 'silent': 0, 'featuresCol': 'features', 'max_depth': 6, 'num_round': 100, 'objective': 'binary:logistic', 'subsample': 0.5333333333333333}\n",
      "LOG-LOSS: 0.49968378206989783, ROC-AUC: 0.7387664390185361                        \n",
      "SPACE:                                                                            \n",
      "{'eta': 0.5, 'predictionCol': 'prediction', 'min_child_weight': 75.0, 'eval_metric': 'logloss', 'colsample_bytree': 0.8444444444444446, 'nthread': 8, 'labelCol': 'label', 'gamma': 0.46415888336127775, 'nworkers': 1, 'silent': 0, 'featuresCol': 'features', 'max_depth': 6, 'num_round': 100, 'objective': 'binary:logistic', 'subsample': 0.8444444444444446}\n",
      "LOG-LOSS: 0.4987849967062986, ROC-AUC: 0.7397561546751873                         \n"
     ]
    },
    {
     "name": "stdout",
     "output_type": "stream",
     "text": [
      "SPACE:                                                                            \n",
      "{'eta': 0.5, 'predictionCol': 'prediction', 'min_child_weight': 75.0, 'eval_metric': 'logloss', 'colsample_bytree': 0.5333333333333333, 'nthread': 8, 'labelCol': 'label', 'gamma': 0.46415888336127775, 'nworkers': 1, 'silent': 0, 'featuresCol': 'features', 'max_depth': 6, 'num_round': 100, 'objective': 'binary:logistic', 'subsample': 0.3}\n",
      "LOG-LOSS: 0.5017695565304562, ROC-AUC: 0.7358670153064175                        \n",
      "SPACE:                                                                           \n",
      "{'eta': 0.5, 'predictionCol': 'prediction', 'min_child_weight': 75.0, 'eval_metric': 'logloss', 'colsample_bytree': 0.8444444444444446, 'nthread': 8, 'labelCol': 'label', 'gamma': 0.46415888336127775, 'nworkers': 1, 'silent': 0, 'featuresCol': 'features', 'max_depth': 6, 'num_round': 100, 'objective': 'binary:logistic', 'subsample': 0.9222222222222223}\n",
      "LOG-LOSS: 0.49899612344749655, ROC-AUC: 0.7395240110534231                       \n",
      "SPACE:                                                                           \n",
      "{'eta': 0.5, 'predictionCol': 'prediction', 'min_child_weight': 75.0, 'eval_metric': 'logloss', 'colsample_bytree': 0.6888888888888889, 'nthread': 8, 'labelCol': 'label', 'gamma': 0.46415888336127775, 'nworkers': 1, 'silent': 0, 'featuresCol': 'features', 'max_depth': 6, 'num_round': 100, 'objective': 'binary:logistic', 'subsample': 0.9222222222222223}\n",
      "LOG-LOSS: 0.4989938006988189, ROC-AUC: 0.7396644410252126                        \n",
      "SPACE:                                                                           \n",
      "{'eta': 0.5, 'predictionCol': 'prediction', 'min_child_weight': 75.0, 'eval_metric': 'logloss', 'colsample_bytree': 0.3, 'nthread': 8, 'labelCol': 'label', 'gamma': 0.46415888336127775, 'nworkers': 1, 'silent': 0, 'featuresCol': 'features', 'max_depth': 6, 'num_round': 100, 'objective': 'binary:logistic', 'subsample': 0.3}\n",
      "LOG-LOSS: 0.5017707094590018, ROC-AUC: 0.735661589799907                         \n",
      "100%|██████████| 20/20 [13:04<00:00, 39.23s/trial, best loss: 0.4987849967062986]\n",
      "CPU times: user 2.44 s, sys: 1.03 s, total: 3.47 s\n",
      "Wall time: 13min 4s\n"
     ]
    }
   ],
   "source": [
    "%%time\n",
    "\n",
    "subsample_choice = np.linspace(0.3, 1, num=10).tolist()\n",
    "colsample_bytree_choice = np.linspace(0.3, 1, num=10).tolist()\n",
    "\n",
    "space = {\n",
    "    # Optimize\n",
    "    'subsample': hp.choice('subsample', subsample_choice),\n",
    "    'colsample_bytree': hp.choice('colsample_bytree', colsample_bytree_choice),\n",
    "    \n",
    "    # Fixed\n",
    "    'num_round': num_round,\n",
    "    'eta': eta,\n",
    "    'max_depth': best_max_depth,\n",
    "    'min_child_weight': best_min_child_weight,\n",
    "    'gamma': best_gamma,\n",
    "    \n",
    "    **static_params\n",
    "}\n",
    "\n",
    "\n",
    "trials = Trials()\n",
    "best = fmin(fn=objective,\n",
    "            space=space,\n",
    "            algo=tpe.suggest,\n",
    "            max_evals=20,\n",
    "            trials=trials)"
   ]
  },
  {
   "cell_type": "code",
   "execution_count": 54,
   "metadata": {},
   "outputs": [
    {
     "data": {
      "text/plain": [
       "{'colsample_bytree': 7, 'subsample': 7}"
      ]
     },
     "execution_count": 54,
     "metadata": {},
     "output_type": "execute_result"
    }
   ],
   "source": [
    "best"
   ]
  },
  {
   "cell_type": "code",
   "execution_count": 55,
   "metadata": {},
   "outputs": [
    {
     "data": {
      "text/plain": [
       "(0.8444444444444446, 0.8444444444444446)"
      ]
     },
     "execution_count": 55,
     "metadata": {},
     "output_type": "execute_result"
    }
   ],
   "source": [
    "best_colsample_bytree = colsample_bytree_choice[best['colsample_bytree']]\n",
    "best_subsample = subsample_choice[best['subsample']]\n",
    "best_colsample_bytree, best_subsample"
   ]
  },
  {
   "cell_type": "markdown",
   "metadata": {},
   "source": [
    "### Tune regularization parameters\n",
    "\n",
    "> Tune regularization parameters (lambda, alpha) for xgboost which can help reduce model complexity and enhance performance."
   ]
  },
  {
   "cell_type": "code",
   "execution_count": 70,
   "metadata": {},
   "outputs": [
    {
     "name": "stdout",
     "output_type": "stream",
     "text": [
      "SPACE:                                                \n",
      "{'colsample_bytree': 0.8444444444444446, 'lambda': 1.0, 'eta': 0.5, 'predictionCol': 'prediction', 'min_child_weight': 75.0, 'eval_metric': 'logloss', 'max_depth': 6, 'nthread': 8, 'alpha': 0.1, 'subsample': 0.8444444444444446, 'gamma': 0.46415888336127775, 'silent': 0, 'labelCol': 'label', 'num_round': 100, 'objective': 'binary:logistic', 'nworkers': 1, 'featuresCol': 'features'}\n",
      "LOG-LOSS: 0.49894927116659543, ROC-AUC: 0.7394596453917597\n",
      "SPACE:                                                                           \n",
      "{'colsample_bytree': 0.8444444444444446, 'lambda': 1e-05, 'eta': 0.5, 'predictionCol': 'prediction', 'min_child_weight': 75.0, 'eval_metric': 'logloss', 'max_depth': 6, 'nthread': 8, 'alpha': 0.0001, 'subsample': 0.8444444444444446, 'gamma': 0.46415888336127775, 'silent': 0, 'labelCol': 'label', 'num_round': 100, 'objective': 'binary:logistic', 'nworkers': 1, 'featuresCol': 'features'}\n",
      "LOG-LOSS: 0.49920824690329707, ROC-AUC: 0.739228996722388                        \n",
      "SPACE:                                                                           \n",
      "{'colsample_bytree': 0.8444444444444446, 'lambda': 1e-05, 'eta': 0.5, 'predictionCol': 'prediction', 'min_child_weight': 75.0, 'eval_metric': 'logloss', 'max_depth': 6, 'nthread': 8, 'alpha': 0.0001, 'subsample': 0.8444444444444446, 'gamma': 0.46415888336127775, 'silent': 0, 'labelCol': 'label', 'num_round': 100, 'objective': 'binary:logistic', 'nworkers': 1, 'featuresCol': 'features'}\n",
      "LOG-LOSS: 0.49920824690329707, ROC-AUC: 0.7392289967223912                       \n",
      "SPACE:                                                                           \n",
      "{'colsample_bytree': 0.8444444444444446, 'lambda': 1e-05, 'eta': 0.5, 'predictionCol': 'prediction', 'min_child_weight': 75.0, 'eval_metric': 'logloss', 'max_depth': 6, 'nthread': 8, 'alpha': 0.01, 'subsample': 0.8444444444444446, 'gamma': 0.46415888336127775, 'silent': 0, 'labelCol': 'label', 'num_round': 100, 'objective': 'binary:logistic', 'nworkers': 1, 'featuresCol': 'features'}\n",
      "LOG-LOSS: 0.49924149400200984, ROC-AUC: 0.7390805560433533                       \n",
      "SPACE:                                                                           \n",
      "{'colsample_bytree': 0.8444444444444446, 'lambda': 0.001, 'eta': 0.5, 'predictionCol': 'prediction', 'min_child_weight': 75.0, 'eval_metric': 'logloss', 'max_depth': 6, 'nthread': 8, 'alpha': 0.01, 'subsample': 0.8444444444444446, 'gamma': 0.46415888336127775, 'silent': 0, 'labelCol': 'label', 'num_round': 100, 'objective': 'binary:logistic', 'nworkers': 1, 'featuresCol': 'features'}\n",
      "LOG-LOSS: 0.4993197781680958, ROC-AUC: 0.7389702207892371                        \n",
      "SPACE:                                                                           \n",
      "{'colsample_bytree': 0.8444444444444446, 'lambda': 0.001, 'eta': 0.5, 'predictionCol': 'prediction', 'min_child_weight': 75.0, 'eval_metric': 'logloss', 'max_depth': 6, 'nthread': 8, 'alpha': 0.001, 'subsample': 0.8444444444444446, 'gamma': 0.46415888336127775, 'silent': 0, 'labelCol': 'label', 'num_round': 100, 'objective': 'binary:logistic', 'nworkers': 1, 'featuresCol': 'features'}\n",
      "LOG-LOSS: 0.49923278040251523, ROC-AUC: 0.739169004349656                        \n",
      "SPACE:                                                                           \n",
      "{'colsample_bytree': 0.8444444444444446, 'lambda': 0.0001, 'eta': 0.5, 'predictionCol': 'prediction', 'min_child_weight': 75.0, 'eval_metric': 'logloss', 'max_depth': 6, 'nthread': 8, 'alpha': 0.001, 'subsample': 0.8444444444444446, 'gamma': 0.46415888336127775, 'silent': 0, 'labelCol': 'label', 'num_round': 100, 'objective': 'binary:logistic', 'nworkers': 1, 'featuresCol': 'features'}\n",
      "LOG-LOSS: 0.49922831253835326, ROC-AUC: 0.7391769930836798                       \n",
      "SPACE:                                                                           \n",
      "{'colsample_bytree': 0.8444444444444446, 'lambda': 0.0001, 'eta': 0.5, 'predictionCol': 'prediction', 'min_child_weight': 75.0, 'eval_metric': 'logloss', 'max_depth': 6, 'nthread': 8, 'alpha': 0.1, 'subsample': 0.8444444444444446, 'gamma': 0.46415888336127775, 'silent': 0, 'labelCol': 'label', 'num_round': 100, 'objective': 'binary:logistic', 'nworkers': 1, 'featuresCol': 'features'}\n",
      "LOG-LOSS: 0.49913682347372673, ROC-AUC: 0.7392363343064643                       \n",
      "SPACE:                                                                           \n",
      "{'colsample_bytree': 0.8444444444444446, 'lambda': 1.0, 'eta': 0.5, 'predictionCol': 'prediction', 'min_child_weight': 75.0, 'eval_metric': 'logloss', 'max_depth': 6, 'nthread': 8, 'alpha': 0.01, 'subsample': 0.8444444444444446, 'gamma': 0.46415888336127775, 'silent': 0, 'labelCol': 'label', 'num_round': 100, 'objective': 'binary:logistic', 'nworkers': 1, 'featuresCol': 'features'}\n",
      "LOG-LOSS: 0.49906714635918714, ROC-AUC: 0.7393824003307636                       \n",
      "SPACE:                                                                           \n",
      "{'colsample_bytree': 0.8444444444444446, 'lambda': 1e-05, 'eta': 0.5, 'predictionCol': 'prediction', 'min_child_weight': 75.0, 'eval_metric': 'logloss', 'max_depth': 6, 'nthread': 8, 'alpha': 0.0, 'subsample': 0.8444444444444446, 'gamma': 0.46415888336127775, 'silent': 0, 'labelCol': 'label', 'num_round': 100, 'objective': 'binary:logistic', 'nworkers': 1, 'featuresCol': 'features'}\n",
      "LOG-LOSS: 0.49920824815947346, ROC-AUC: 0.739228984420479                        \n",
      "SPACE:                                                                            \n",
      "{'colsample_bytree': 0.8444444444444446, 'lambda': 0.0, 'eta': 0.5, 'predictionCol': 'prediction', 'min_child_weight': 75.0, 'eval_metric': 'logloss', 'max_depth': 6, 'nthread': 8, 'alpha': 0.0, 'subsample': 0.8444444444444446, 'gamma': 0.46415888336127775, 'silent': 0, 'labelCol': 'label', 'num_round': 100, 'objective': 'binary:logistic', 'nworkers': 1, 'featuresCol': 'features'}\n",
      "LOG-LOSS: 0.49920824821802956, ROC-AUC: 0.7392289838788824                        \n",
      "SPACE:                                                                            \n",
      "{'colsample_bytree': 0.8444444444444446, 'lambda': 1e-05, 'eta': 0.5, 'predictionCol': 'prediction', 'min_child_weight': 75.0, 'eval_metric': 'logloss', 'max_depth': 6, 'nthread': 8, 'alpha': 0.0, 'subsample': 0.8444444444444446, 'gamma': 0.46415888336127775, 'silent': 0, 'labelCol': 'label', 'num_round': 100, 'objective': 'binary:logistic', 'nworkers': 1, 'featuresCol': 'features'}\n",
      "LOG-LOSS: 0.49920824815947346, ROC-AUC: 0.7392289844204833                        \n",
      "SPACE:                                                                            \n",
      "{'colsample_bytree': 0.8444444444444446, 'lambda': 0.0001, 'eta': 0.5, 'predictionCol': 'prediction', 'min_child_weight': 75.0, 'eval_metric': 'logloss', 'max_depth': 6, 'nthread': 8, 'alpha': 0.0, 'subsample': 0.8444444444444446, 'gamma': 0.46415888336127775, 'silent': 0, 'labelCol': 'label', 'num_round': 100, 'objective': 'binary:logistic', 'nworkers': 1, 'featuresCol': 'features'}\n",
      "LOG-LOSS: 0.4992082475455702, ROC-AUC: 0.7392289878247843                         \n",
      "SPACE:                                                                            \n",
      "{'colsample_bytree': 0.8444444444444446, 'lambda': 0.001, 'eta': 0.5, 'predictionCol': 'prediction', 'min_child_weight': 75.0, 'eval_metric': 'logloss', 'max_depth': 6, 'nthread': 8, 'alpha': 0.01, 'subsample': 0.8444444444444446, 'gamma': 0.46415888336127775, 'silent': 0, 'labelCol': 'label', 'num_round': 100, 'objective': 'binary:logistic', 'nworkers': 1, 'featuresCol': 'features'}\n",
      "LOG-LOSS: 0.4993197781680958, ROC-AUC: 0.7389702207892378                         \n",
      "SPACE:                                                                            \n",
      "{'colsample_bytree': 0.8444444444444446, 'lambda': 1e-05, 'eta': 0.5, 'predictionCol': 'prediction', 'min_child_weight': 75.0, 'eval_metric': 'logloss', 'max_depth': 6, 'nthread': 8, 'alpha': 0.0001, 'subsample': 0.8444444444444446, 'gamma': 0.46415888336127775, 'silent': 0, 'labelCol': 'label', 'num_round': 100, 'objective': 'binary:logistic', 'nworkers': 1, 'featuresCol': 'features'}\n"
     ]
    },
    {
     "name": "stdout",
     "output_type": "stream",
     "text": [
      "LOG-LOSS: 0.49920824690329707, ROC-AUC: 0.7392289967223893                        \n",
      "SPACE:                                                                            \n",
      "{'colsample_bytree': 0.8444444444444446, 'lambda': 0.001, 'eta': 0.5, 'predictionCol': 'prediction', 'min_child_weight': 75.0, 'eval_metric': 'logloss', 'max_depth': 6, 'nthread': 8, 'alpha': 0.01, 'subsample': 0.8444444444444446, 'gamma': 0.46415888336127775, 'silent': 0, 'labelCol': 'label', 'num_round': 100, 'objective': 'binary:logistic', 'nworkers': 1, 'featuresCol': 'features'}\n",
      "LOG-LOSS: 0.4993197781680958, ROC-AUC: 0.7389702207892354                         \n",
      "SPACE:                                                                            \n",
      "{'colsample_bytree': 0.8444444444444446, 'lambda': 1e-05, 'eta': 0.5, 'predictionCol': 'prediction', 'min_child_weight': 75.0, 'eval_metric': 'logloss', 'max_depth': 6, 'nthread': 8, 'alpha': 0.001, 'subsample': 0.8444444444444446, 'gamma': 0.46415888336127775, 'silent': 0, 'labelCol': 'label', 'num_round': 100, 'objective': 'binary:logistic', 'nworkers': 1, 'featuresCol': 'features'}\n",
      "LOG-LOSS: 0.49922831320779015, ROC-AUC: 0.7391769911494102                        \n",
      "SPACE:                                                                            \n",
      "{'colsample_bytree': 0.8444444444444446, 'lambda': 1.0, 'eta': 0.5, 'predictionCol': 'prediction', 'min_child_weight': 75.0, 'eval_metric': 'logloss', 'max_depth': 6, 'nthread': 8, 'alpha': 1.0, 'subsample': 0.8444444444444446, 'gamma': 0.46415888336127775, 'silent': 0, 'labelCol': 'label', 'num_round': 100, 'objective': 'binary:logistic', 'nworkers': 1, 'featuresCol': 'features'}\n",
      "LOG-LOSS: 0.4992303804019048, ROC-AUC: 0.7391705813921121                         \n",
      "SPACE:                                                                            \n",
      "{'colsample_bytree': 0.8444444444444446, 'lambda': 0.001, 'eta': 0.5, 'predictionCol': 'prediction', 'min_child_weight': 75.0, 'eval_metric': 'logloss', 'max_depth': 6, 'nthread': 8, 'alpha': 0.0, 'subsample': 0.8444444444444446, 'gamma': 0.46415888336127775, 'silent': 0, 'labelCol': 'label', 'num_round': 100, 'objective': 'binary:logistic', 'nworkers': 1, 'featuresCol': 'features'}\n",
      "LOG-LOSS: 0.499208240928078, ROC-AUC: 0.7392289930086031                          \n",
      "SPACE:                                                                            \n",
      "{'colsample_bytree': 0.8444444444444446, 'lambda': 1.0, 'eta': 0.5, 'predictionCol': 'prediction', 'min_child_weight': 75.0, 'eval_metric': 'logloss', 'max_depth': 6, 'nthread': 8, 'alpha': 0.0001, 'subsample': 0.8444444444444446, 'gamma': 0.46415888336127775, 'silent': 0, 'labelCol': 'label', 'num_round': 100, 'objective': 'binary:logistic', 'nworkers': 1, 'featuresCol': 'features'}\n",
      "LOG-LOSS: 0.49878499565636164, ROC-AUC: 0.7397561533598882                        \n",
      "100%|██████████| 20/20 [14:52<00:00, 44.62s/trial, best loss: 0.49878499565636164]\n",
      "CPU times: user 2.57 s, sys: 1.03 s, total: 3.61 s\n",
      "Wall time: 14min 52s\n"
     ]
    },
    {
     "data": {
      "text/plain": [
       "{'alpha': 2, 'reg_lambda': 6}"
      ]
     },
     "execution_count": 70,
     "metadata": {},
     "output_type": "execute_result"
    }
   ],
   "source": [
    "%%time\n",
    "\n",
    "lambda_choice = [0.] + np.logspace(-5, 0, num=6).tolist()\n",
    "alpha_choice = [0.] + np.logspace(-5, 0, num=6).tolist()\n",
    "\n",
    "space = {\n",
    "    # Optimize\n",
    "    'reg_lambda': hp.choice('reg_lambda', lambda_choice),\n",
    "    'alpha': hp.choice('alpha', alpha_choice),\n",
    "    \n",
    "    # Fixed\n",
    "    'num_round': num_round,\n",
    "    'eta': eta,\n",
    "    'max_depth': best_max_depth,\n",
    "    'min_child_weight': best_min_child_weight,\n",
    "    'gamma': best_gamma,\n",
    "    'subsample': best_subsample,\n",
    "    'colsample_bytree': best_colsample_bytree,\n",
    "    \n",
    "    **static_params\n",
    "}\n",
    "\n",
    "\n",
    "trials = Trials()\n",
    "best = fmin(fn=objective,\n",
    "            space=space,\n",
    "            algo=tpe.suggest,\n",
    "            max_evals=20,\n",
    "            trials=trials)\n",
    "best"
   ]
  },
  {
   "cell_type": "code",
   "execution_count": 71,
   "metadata": {},
   "outputs": [
    {
     "data": {
      "text/plain": [
       "{'alpha': 2, 'reg_lambda': 6}"
      ]
     },
     "execution_count": 71,
     "metadata": {},
     "output_type": "execute_result"
    }
   ],
   "source": [
    "best"
   ]
  },
  {
   "cell_type": "code",
   "execution_count": 72,
   "metadata": {},
   "outputs": [
    {
     "data": {
      "text/plain": [
       "(0.0001, 1.0)"
      ]
     },
     "execution_count": 72,
     "metadata": {},
     "output_type": "execute_result"
    }
   ],
   "source": [
    "best_alpha = alpha_choice[best['alpha']]\n",
    "best_lambda = lambda_choice[best['reg_lambda']]\n",
    "best_alpha, best_lambda"
   ]
  },
  {
   "cell_type": "markdown",
   "metadata": {},
   "source": [
    "### Lower the learning rate and decide the optimal parameters"
   ]
  },
  {
   "cell_type": "code",
   "execution_count": null,
   "metadata": {},
   "outputs": [],
   "source": [
    "######################################\n",
    "######### YOUR CODE HERE #############\n",
    "######################################"
   ]
  },
  {
   "cell_type": "markdown",
   "metadata": {},
   "source": [
    "---\n",
    "## LogisticRegression Tuning\n",
    "\n",
    "Подберем гиперпараметры для логрега из предыдущих практик"
   ]
  },
  {
   "cell_type": "code",
   "execution_count": null,
   "metadata": {},
   "outputs": [],
   "source": [
    "######################################\n",
    "######### YOUR CODE HERE #############\n",
    "######################################"
   ]
  },
  {
   "cell_type": "markdown",
   "metadata": {},
   "source": [
    "---\n",
    "## Optional [MongoTrials](https://hyperopt.github.io/hyperopt/scaleout/mongodb/)\n",
    "\n",
    "> For parallel search, hyperopt includes a MongoTrials implementation that supports asynchronous updates.\n",
    "\n",
    "**TLDR** Преимущества использования `MongoTrials`:\n",
    "* `MongoTrials` позволяет параллельно запускать несколько вычислений целевой функции\n",
    "* Динамический уровень параллелизма - можно добавлять/удалять воркеров, которые вычисляют целевую функцию\n",
    "* Все результаты сохраняются в БД - история запусков никуда не потеряется\n",
    "\n",
    "*За выполнение данного задания можно получить дополнительно +0.4 к итоговому баллу*"
   ]
  },
  {
   "cell_type": "markdown",
   "metadata": {},
   "source": [
    "### XGBoost Tuning"
   ]
  },
  {
   "cell_type": "code",
   "execution_count": null,
   "metadata": {},
   "outputs": [],
   "source": [
    "######################################\n",
    "######### YOUR CODE HERE #############\n",
    "######################################"
   ]
  },
  {
   "cell_type": "markdown",
   "metadata": {},
   "source": [
    "# Results\n",
    "\n",
    "Подведем итоги.\n",
    "\n",
    "Обучите модели с найденными (оптимальными) гиперпараметрами и сделайте справнение на отложенной выборке"
   ]
  },
  {
   "cell_type": "markdown",
   "metadata": {},
   "source": [
    "#### XGB"
   ]
  },
  {
   "cell_type": "code",
   "execution_count": 75,
   "metadata": {},
   "outputs": [],
   "source": [
    "best_params = {\n",
    "    # Fixed\n",
    "    'num_round': num_round,\n",
    "    'eta': eta,\n",
    "    'max_depth': best_max_depth,\n",
    "    'min_child_weight': best_min_child_weight,\n",
    "    'gamma': best_gamma,\n",
    "    'subsample': best_subsample,\n",
    "    'colsample_bytree': best_colsample_bytree,\n",
    "    'reg_lambda': best_lambda,\n",
    "    'alpha': best_alpha\n",
    "}"
   ]
  },
  {
   "cell_type": "code",
   "execution_count": 76,
   "metadata": {},
   "outputs": [],
   "source": [
    "tuned_model = XGBoostEstimator(**{**static_params, **best_params}).fit(train_df)"
   ]
  },
  {
   "cell_type": "code",
   "execution_count": 77,
   "metadata": {},
   "outputs": [],
   "source": [
    "tuned_xgb_test_metrics = {\n",
    "    'logloss': logloss(tuned_model, test_df, probabilities_col='probabilities'),\n",
    "    'rocauc': rocauc(tuned_model, test_df, probabilities_col='probabilities')\n",
    "}\n",
    "\n",
    "all_metrics['tuned_xgb'] = tuned_xgb_test_metrics"
   ]
  },
  {
   "cell_type": "markdown",
   "metadata": {},
   "source": [
    "Итоговая таблица"
   ]
  },
  {
   "cell_type": "code",
   "execution_count": 78,
   "metadata": {},
   "outputs": [
    {
     "data": {
      "text/html": [
       "<div>\n",
       "<style scoped>\n",
       "    .dataframe tbody tr th:only-of-type {\n",
       "        vertical-align: middle;\n",
       "    }\n",
       "\n",
       "    .dataframe tbody tr th {\n",
       "        vertical-align: top;\n",
       "    }\n",
       "\n",
       "    .dataframe thead th {\n",
       "        text-align: right;\n",
       "    }\n",
       "</style>\n",
       "<table border=\"1\" class=\"dataframe\">\n",
       "  <thead>\n",
       "    <tr style=\"text-align: right;\">\n",
       "      <th></th>\n",
       "      <th>metric</th>\n",
       "      <th>tuned_xgb ate %</th>\n",
       "    </tr>\n",
       "  </thead>\n",
       "  <tbody>\n",
       "    <tr>\n",
       "      <th>0</th>\n",
       "      <td>rocauc</td>\n",
       "      <td>1.892389</td>\n",
       "    </tr>\n",
       "    <tr>\n",
       "      <th>1</th>\n",
       "      <td>logloss</td>\n",
       "      <td>-2.145114</td>\n",
       "    </tr>\n",
       "  </tbody>\n",
       "</table>\n",
       "</div>"
      ],
      "text/plain": [
       "    metric  tuned_xgb ate %\n",
       "0   rocauc         1.892389\n",
       "1  logloss        -2.145114"
      ]
     },
     "execution_count": 78,
     "metadata": {},
     "output_type": "execute_result"
    }
   ],
   "source": [
    "get_ate(all_metrics, CONTROL_NAME)"
   ]
  },
  {
   "cell_type": "markdown",
   "metadata": {},
   "source": [
    "выглядит неплохо"
   ]
  },
  {
   "cell_type": "code",
   "execution_count": null,
   "metadata": {},
   "outputs": [],
   "source": []
  }
 ],
 "metadata": {
  "kernelspec": {
   "display_name": "Python 3",
   "language": "python",
   "name": "python3"
  },
  "language_info": {
   "codemirror_mode": {
    "name": "ipython",
    "version": 3
   },
   "file_extension": ".py",
   "mimetype": "text/x-python",
   "name": "python",
   "nbconvert_exporter": "python",
   "pygments_lexer": "ipython3",
   "version": "3.5.6"
  },
  "toc": {
   "base_numbering": 1,
   "nav_menu": {},
   "number_sections": true,
   "sideBar": true,
   "skip_h1_title": false,
   "title_cell": "Table of Contents",
   "title_sidebar": "Contents",
   "toc_cell": true,
   "toc_position": {},
   "toc_section_display": true,
   "toc_window_display": true
  }
 },
 "nbformat": 4,
 "nbformat_minor": 2
}
